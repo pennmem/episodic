{
 "cells": [
  {
   "cell_type": "code",
   "execution_count": null,
   "id": "9b2253b1-0050-46dd-8ae6-87e9b966ce71",
   "metadata": {},
   "outputs": [],
   "source": [
    "'This is a string'"
   ]
  },
  {
   "cell_type": "code",
   "execution_count": null,
   "id": "0469f96f-a628-42d3-a6ad-0996562e7d63",
   "metadata": {},
   "outputs": [],
   "source": [
    "\"This is a string as well - we're identical in all possible ways (but look at that apostrophe!)\""
   ]
  },
  {
   "cell_type": "code",
   "execution_count": null,
   "id": "3dec7402-16f5-4bb4-94da-47e969f2ce1e",
   "metadata": {},
   "outputs": [],
   "source": [
    "'''A\n",
    "multi\n",
    "line\n",
    "string\n",
    "'''"
   ]
  },
  {
   "cell_type": "code",
   "execution_count": null,
   "id": "322fc834-5940-4ce6-9118-0f71c594dfab",
   "metadata": {},
   "outputs": [],
   "source": [
    "'a' + 'b'"
   ]
  },
  {
   "cell_type": "code",
   "execution_count": null,
   "id": "02177205-56ba-4863-958f-ac2338e943c9",
   "metadata": {},
   "outputs": [],
   "source": [
    "def multiprint(statement, repetitions):\n",
    "    \"\"\" Prints the *statement* multiplied by *repetitions* \"\"\"\n",
    "    multistatement = statement * repetitions\n",
    "    print(multistatement)\n",
    "    return multistatement"
   ]
  },
  {
   "cell_type": "code",
   "execution_count": null,
   "id": "84783d41-fd49-4662-9211-a18bbc42ece3",
   "metadata": {},
   "outputs": [],
   "source": [
    "multiprint( 'whats up ', 13 )"
   ]
  },
  {
   "cell_type": "code",
   "execution_count": null,
   "id": "2ee63a45-fa12-4a8a-a645-c62d66a6b0d5",
   "metadata": {},
   "outputs": [],
   "source": [
    "my_str = \"\"\"I\n",
    "am\n",
    "a\n",
    "Geek !\"\"\""
   ]
  },
  {
   "cell_type": "code",
   "execution_count": null,
   "id": "71b5b257-2ce6-4391-b234-afeb51c42eba",
   "metadata": {},
   "outputs": [],
   "source": [
    "print( my_str )"
   ]
  },
  {
   "cell_type": "code",
   "execution_count": null,
   "id": "909927ae-c09f-45e7-b8b0-27fd5dfc7e4e",
   "metadata": {},
   "outputs": [],
   "source": [
    "poop = [ 1, 2, 3 ]"
   ]
  },
  {
   "cell_type": "code",
   "execution_count": null,
   "id": "93ca6728-61c1-4b5f-a9b7-ec7aff1efebe",
   "metadata": {},
   "outputs": [],
   "source": [
    "def slicer(l):\n",
    "    \"\"\"Slices the given list into two parts.\n",
    "    \n",
    "    If the number of elements is even, the first list will always\n",
    "    be longer.\n",
    "    \n",
    "    Parameters\n",
    "    ----------\n",
    "    l : list-like\n",
    "        The given list to slice\n",
    "    \n",
    "    Returns\n",
    "    -------\n",
    "    sliced : 2-tuple of lists\n",
    "        The two parts of the original lists\n",
    "    \"\"\"\n",
    "    length = len(l)\n",
    "    middle_index = length // 2  # returns a float, so we cast it to int (floor)\n",
    "    if length % 2 != 0:\n",
    "        middle_index += 1\n",
    "    return l[:middle_index], l[middle_index:]\n",
    "            "
   ]
  },
  {
   "cell_type": "code",
   "execution_count": null,
   "id": "8fae2619-1ff5-4428-bbe3-bf7663e79b34",
   "metadata": {},
   "outputs": [],
   "source": [
    "print( type( ((11 % 6) // 2 < 3 < 3e2) == 1 ) ) "
   ]
  },
  {
   "cell_type": "code",
   "execution_count": null,
   "id": "2e071249-063e-49eb-aaaa-7ce6fd96dda9",
   "metadata": {},
   "outputs": [],
   "source": [
    "dict1 = {'a': 1, 'b': 2, 'c': 3}\n",
    "\n",
    "print('Value iteration:')\n",
    "for val in dict1.values():\n",
    "    print(val)\n",
    "\n",
    "print('Pairs iteration:')\n",
    "for i, j in dict1.items():\n",
    "    print(i, j)\n",
    "\n",
    "print(dict1.items())\n",
    "\n",
    "    "
   ]
  },
  {
   "cell_type": "code",
   "execution_count": null,
   "id": "aa7b73ea-18d0-4dbb-89dd-1077f46579b6",
   "metadata": {},
   "outputs": [],
   "source": [
    "def countdown(n):\n",
    "    \"\"\" Explodes a bomb when n is zero. \"\"\"\n",
    "    while n > 0:\n",
    "        print(\"{}...\".format(n))\n",
    "        n = n - 1\n",
    "    print(\"BOOM!\")\n",
    "    return True"
   ]
  },
  {
   "cell_type": "markdown",
   "id": "13be8b78-23df-42df-a0b1-bb44fe52f121",
   "metadata": {},
   "source": [
    "Write a function that receives a list of numbers and returns the first number that is larger than the sum of its two neighbors (with the first and the last numbers counting as each other’s neighbors), or None if no such number is found."
   ]
  },
  {
   "cell_type": "code",
   "execution_count": null,
   "id": "3c229f15-4fde-4d66-9da5-b2ba29892632",
   "metadata": {},
   "outputs": [],
   "source": [
    "def gt_neighbor( list ):\n",
    "    \"\"\"a function that receives a list of numbers \n",
    "       and returns the first number that is larger \n",
    "       than the sum of its two neighbors (with the \n",
    "       first and the last numbers counting as each \n",
    "       other’s neighbors), or None if no such number \n",
    "       is found.\"\"\"\n",
    "    for ind, val in enumerate( list ):\n",
    "        if ind == len( list ):\n",
    "            if list[ ind ] > list[ ind - 1 ]:\n",
    "                print( list[ ind ] )\n",
    "                break\n",
    "            elif list[ ind ] <= list[ ind - 1 ]:\n",
    "                continue   \n",
    "        elif ind > 0:         \n",
    "            if list[ ind ] > list[ ind - 1 ] + list[ ind + 1 ]:\n",
    "                print( list[ ind ] )\n",
    "                break\n",
    "            elif list[ ind ] <= list[ ind - 1 ] + list[ ind + 1 ]:\n",
    "                continue       \n",
    "        elif ind == 0:\n",
    "            if list[ ind ] > list[ ind + 1 ]:\n",
    "                print( list[ ind ] )\n",
    "                break\n",
    "            elif list[ ind ] <= list[ ind + 1 ]:\n",
    "                continue"
   ]
  },
  {
   "cell_type": "code",
   "execution_count": null,
   "id": "1850c418-d206-4201-a1e7-f3939eb3968a",
   "metadata": {},
   "outputs": [],
   "source": [
    "test1 = [ 1, 4, 5, 6, 7, 9 ]\n",
    "gt_neighbor( test1 )"
   ]
  },
  {
   "cell_type": "code",
   "execution_count": null,
   "id": "c218ce3c-57e6-4df2-af16-44bb0db20337",
   "metadata": {},
   "outputs": [],
   "source": [
    "def find_first_outlier(numbers: list):\n",
    "    \"\"\"\n",
    "    Returns the first number greater than the sum of its neighbors, or None.\n",
    "\n",
    "    Parameters\n",
    "    ----------\n",
    "    numbers : list\n",
    "        List of numbers\n",
    "\n",
    "    Returns\n",
    "    -------\n",
    "    Union[int, float, None]\n",
    "        First outlier number, or None\n",
    "    \"\"\"\n",
    "\n",
    "    size = len(numbers)\n",
    "    for i, number in enumerate(numbers):\n",
    "        previous_number = numbers[i - 1]\n",
    "        next_number = numbers[(i + 1) % size]\n",
    "        neighbors_sum = previous_number + next_number\n",
    "        if number > neighbors_sum:\n",
    "            return number\n"
   ]
  },
  {
   "cell_type": "code",
   "execution_count": null,
   "id": "d6c74bb2-8167-44fc-a668-b4c36e573533",
   "metadata": {},
   "outputs": [],
   "source": []
  },
  {
   "cell_type": "code",
   "execution_count": 42,
   "id": "b5eef84c-f93f-41ae-82da-e2b9d9c10796",
   "metadata": {},
   "outputs": [
    {
     "name": "stdout",
     "output_type": "stream",
     "text": [
      "Value iteration:\n",
      "dict_values([1, 2, 3, 'dog'])\n",
      "1\n",
      "2\n",
      "3\n",
      "dog\n",
      "Pairs iteration:\n"
     ]
    },
    {
     "ename": "TypeError",
     "evalue": "cannot unpack non-iterable int object",
     "output_type": "error",
     "traceback": [
      "\u001b[0;31m---------------------------------------------------------------------------\u001b[0m",
      "\u001b[0;31mTypeError\u001b[0m                                 Traceback (most recent call last)",
      "\u001b[0;32m/tmp/ipykernel_132486/3716899159.py\u001b[0m in \u001b[0;36m<module>\u001b[0;34m\u001b[0m\n\u001b[1;32m      9\u001b[0m \u001b[0;34m\u001b[0m\u001b[0m\n\u001b[1;32m     10\u001b[0m \u001b[0mprint\u001b[0m\u001b[0;34m(\u001b[0m\u001b[0;34m'Pairs iteration:'\u001b[0m\u001b[0;34m)\u001b[0m\u001b[0;34m\u001b[0m\u001b[0;34m\u001b[0m\u001b[0m\n\u001b[0;32m---> 11\u001b[0;31m \u001b[0;32mfor\u001b[0m \u001b[0mind\u001b[0m\u001b[0;34m,\u001b[0m \u001b[0mval\u001b[0m \u001b[0;32min\u001b[0m \u001b[0mdict1\u001b[0m\u001b[0;34m.\u001b[0m\u001b[0mvalues\u001b[0m\u001b[0;34m(\u001b[0m\u001b[0;34m)\u001b[0m\u001b[0;34m:\u001b[0m\u001b[0;34m\u001b[0m\u001b[0;34m\u001b[0m\u001b[0m\n\u001b[0m\u001b[1;32m     12\u001b[0m     \u001b[0mprint\u001b[0m\u001b[0;34m(\u001b[0m\u001b[0mind\u001b[0m\u001b[0;34m,\u001b[0m \u001b[0mval\u001b[0m\u001b[0;34m)\u001b[0m\u001b[0;34m\u001b[0m\u001b[0;34m\u001b[0m\u001b[0m\n",
      "\u001b[0;31mTypeError\u001b[0m: cannot unpack non-iterable int object"
     ]
    }
   ],
   "source": [
    "dict1 = {'a': 1, 'b': 2, 'c': 3, 'zz': 'dog' }\n",
    "\n",
    "print('Value iteration:')\n",
    "\n",
    "print( dict1.values() )\n",
    "\n",
    "for val in dict1.values():\n",
    "    print(val)\n",
    "\n",
    "print('Pairs iteration:')\n",
    "for ind, val in dict1.values():\n",
    "    print(ind, val)"
   ]
  },
  {
   "cell_type": "code",
   "execution_count": 50,
   "id": "51388faf-16ed-4ee8-9e62-32564c1d4b9e",
   "metadata": {},
   "outputs": [
    {
     "name": "stdout",
     "output_type": "stream",
     "text": [
      "Help on tuple object:\n",
      "\n",
      "class tuple(object)\n",
      " |  tuple(iterable=(), /)\n",
      " |  \n",
      " |  Built-in immutable sequence.\n",
      " |  \n",
      " |  If no argument is given, the constructor returns an empty tuple.\n",
      " |  If iterable is specified the tuple is initialized from iterable's items.\n",
      " |  \n",
      " |  If the argument is a tuple, the return value is the same object.\n",
      " |  \n",
      " |  Built-in subclasses:\n",
      " |      asyncgen_hooks\n",
      " |      UnraisableHookArgs\n",
      " |  \n",
      " |  Methods defined here:\n",
      " |  \n",
      " |  __add__(self, value, /)\n",
      " |      Return self+value.\n",
      " |  \n",
      " |  __contains__(self, key, /)\n",
      " |      Return key in self.\n",
      " |  \n",
      " |  __eq__(self, value, /)\n",
      " |      Return self==value.\n",
      " |  \n",
      " |  __ge__(self, value, /)\n",
      " |      Return self>=value.\n",
      " |  \n",
      " |  __getattribute__(self, name, /)\n",
      " |      Return getattr(self, name).\n",
      " |  \n",
      " |  __getitem__(self, key, /)\n",
      " |      Return self[key].\n",
      " |  \n",
      " |  __getnewargs__(self, /)\n",
      " |  \n",
      " |  __gt__(self, value, /)\n",
      " |      Return self>value.\n",
      " |  \n",
      " |  __hash__(self, /)\n",
      " |      Return hash(self).\n",
      " |  \n",
      " |  __iter__(self, /)\n",
      " |      Implement iter(self).\n",
      " |  \n",
      " |  __le__(self, value, /)\n",
      " |      Return self<=value.\n",
      " |  \n",
      " |  __len__(self, /)\n",
      " |      Return len(self).\n",
      " |  \n",
      " |  __lt__(self, value, /)\n",
      " |      Return self<value.\n",
      " |  \n",
      " |  __mul__(self, value, /)\n",
      " |      Return self*value.\n",
      " |  \n",
      " |  __ne__(self, value, /)\n",
      " |      Return self!=value.\n",
      " |  \n",
      " |  __repr__(self, /)\n",
      " |      Return repr(self).\n",
      " |  \n",
      " |  __rmul__(self, value, /)\n",
      " |      Return value*self.\n",
      " |  \n",
      " |  count(self, value, /)\n",
      " |      Return number of occurrences of value.\n",
      " |  \n",
      " |  index(self, value, start=0, stop=9223372036854775807, /)\n",
      " |      Return first index of value.\n",
      " |      \n",
      " |      Raises ValueError if the value is not present.\n",
      " |  \n",
      " |  ----------------------------------------------------------------------\n",
      " |  Class methods defined here:\n",
      " |  \n",
      " |  __class_getitem__(...) from builtins.type\n",
      " |      See PEP 585\n",
      " |  \n",
      " |  ----------------------------------------------------------------------\n",
      " |  Static methods defined here:\n",
      " |  \n",
      " |  __new__(*args, **kwargs) from builtins.type\n",
      " |      Create and return a new object.  See help(type) for accurate signature.\n",
      "\n"
     ]
    }
   ],
   "source": [
    "a = [(1,2), (3,4)]\n",
    "\n",
    "help( a[ 0 ] )"
   ]
  },
  {
   "cell_type": "code",
   "execution_count": 52,
   "id": "920fb619-602b-46bb-a503-b37d2eea9edf",
   "metadata": {},
   "outputs": [
    {
     "name": "stdout",
     "output_type": "stream",
     "text": [
      "<zip object at 0x2b7979414140>\n"
     ]
    }
   ],
   "source": [
    "languages = ['Java', 'Python', 'JavaScript']\n",
    "versions = [14, 3, 6]\n",
    "\n",
    "result = zip(languages, versions)\n",
    "print(result)"
   ]
  },
  {
   "cell_type": "code",
   "execution_count": 57,
   "id": "233dd120-b83e-4199-82ee-29ec44c5b1bf",
   "metadata": {},
   "outputs": [
    {
     "name": "stdout",
     "output_type": "stream",
     "text": [
      "[0, 1, 4, 9, 16, 25, 36, 49, 81, 100, 121, 144, 169, 196, 225, 256, 289, 324, 361]\n"
     ]
    }
   ],
   "source": [
    "squares = [\n",
    "    x ** 2 \n",
    "    for x in range(20) \n",
    "    if x. != 8 ]\n",
    "\n",
    "print(squares)"
   ]
  },
  {
   "cell_type": "markdown",
   "id": "380cdad7-a29d-4221-b84a-6558a7fce885",
   "metadata": {},
   "source": [
    ">>> subjects = [\"Freddie Mercury\", \"Robert Plant\"]\n",
    ">>> parse_subject_names(subjects)\n",
    "{'sub-0': {'first_name': 'Freddie', 'last_name': 'Mercury'},\n",
    " 'sub-1': {'first_name': 'Robert', 'last_name': 'Plant'}}"
   ]
  },
  {
   "cell_type": "code",
   "execution_count": 67,
   "id": "224ff4fe-c6b6-4388-84b7-a2c2d6434b56",
   "metadata": {},
   "outputs": [
    {
     "name": "stdout",
     "output_type": "stream",
     "text": [
      "[(0, 'Freddie Mercury'), (1, 'Robert Plant')]\n"
     ]
    }
   ],
   "source": [
    "subjects = [\"Freddie Mercury\", \"Robert Plant\"]\n",
    "\n",
    "print( list( enumerate( subjects ) ) )"
   ]
  },
  {
   "cell_type": "code",
   "execution_count": 113,
   "id": "1c482f43-6588-49cd-81b5-fba9728be897",
   "metadata": {},
   "outputs": [],
   "source": [
    "def parse_subject_name( subjects ):\n",
    "    outout = { ind: name\n",
    "              for ind, name in ( zip( enumerate( subjects ) ) ) }"
   ]
  },
  {
   "cell_type": "code",
   "execution_count": 150,
   "id": "c8123235-9424-4335-ad51-61105295ec0e",
   "metadata": {},
   "outputs": [],
   "source": [
    "from typing import Dict, Iterable\n",
    "\n",
    "def parse_subject_names(names: Iterable[str]) -> Dict[str, Dict[str, str]]:\n",
    "    name_keys = \"first_name\", \"last_name\"\n",
    "    return {\n",
    "        f\"sub-{i}\": dict(zip(name_keys, name.split()))\n",
    "        for i, name in enumerate(names)\n",
    "    }\n",
    "\n"
   ]
  },
  {
   "cell_type": "code",
   "execution_count": 147,
   "id": "3f887bd1-9d8c-4580-97d7-b2cd2892d7e3",
   "metadata": {},
   "outputs": [
    {
     "ename": "SyntaxError",
     "evalue": "invalid syntax (3632909561.py, line 4)",
     "output_type": "error",
     "traceback": [
      "\u001b[0;36m  File \u001b[0;32m\"/tmp/ipykernel_132486/3632909561.py\"\u001b[0;36m, line \u001b[0;32m4\u001b[0m\n\u001b[0;31m    print( f\"sub-{i}\" )\u001b[0m\n\u001b[0m    ^\u001b[0m\n\u001b[0;31mSyntaxError\u001b[0m\u001b[0;31m:\u001b[0m invalid syntax\n"
     ]
    }
   ],
   "source": [
    "name_keys = \"first_name\", \"last_name\"\n",
    "{ f\"sub-{i}\": dict(zip(name_keys, name.split())) \n",
    "for i, name in enumerate(subjects)\n",
    "    print( f\"sub-{i}\" )\n"
   ]
  },
  {
   "cell_type": "code",
   "execution_count": 141,
   "id": "5362c282-eba1-4449-905e-caed101983a7",
   "metadata": {},
   "outputs": [
    {
     "name": "stdout",
     "output_type": "stream",
     "text": [
      "Robert Plant\n"
     ]
    }
   ],
   "source": [
    "print( name )"
   ]
  },
  {
   "cell_type": "code",
   "execution_count": null,
   "id": "6f6ac010-0b7c-4ace-ac04-c40d620fc7de",
   "metadata": {},
   "outputs": [],
   "source": []
  }
 ],
 "metadata": {
  "kernelspec": {
   "display_name": "Python 3 (ipykernel)",
   "language": "python",
   "name": "python3"
  },
  "language_info": {
   "codemirror_mode": {
    "name": "ipython",
    "version": 3
   },
   "file_extension": ".py",
   "mimetype": "text/x-python",
   "name": "python",
   "nbconvert_exporter": "python",
   "pygments_lexer": "ipython3",
   "version": "3.9.7"
  }
 },
 "nbformat": 4,
 "nbformat_minor": 5
}

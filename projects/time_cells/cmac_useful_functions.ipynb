{
 "cells": [
  {
   "cell_type": "markdown",
   "id": "d835c3f2-871c-4b06-9e84-81438e91b840",
   "metadata": {},
   "source": [
    "# Search current directory for specfic words"
   ]
  },
  {
   "cell_type": "code",
   "execution_count": 2,
   "id": "986f0754-7763-4d42-9570-6be0532fc789",
   "metadata": {},
   "outputs": [
    {
     "name": "stdout",
     "output_type": "stream",
     "text": [
      "<function glob at 0x2ad608e6ccb0>\n",
      "../time_cells/pop_decoding5_withinsubj.ipynb\n",
      "../time_cells/delay_time.ipynb\n",
      "../time_cells/ols_results_delay.ipynb\n",
      "../time_cells/ols_results_nav.ipynb\n",
      "../time_cells/nav_time.ipynb\n",
      "../time_cells/pop_decoding.ipynb\n",
      "../time_cells/pop_decoding4.ipynb\n",
      "../time_cells/parallel/parallel_in_python3.ipynb\n",
      "../time_cells/parallel/parallel_in_python3-2.ipynb\n"
     ]
    }
   ],
   "source": [
    "from glob import glob, iglob\n",
    "\n",
    "pattern = '../**/*.ipynb'\n",
    "query = 'mod_pairs'\n",
    "print( glob )\n",
    "for filepath in iglob(pattern, recursive=True):\n",
    "    with open(filepath) as file:\n",
    "        s = file.read()\n",
    "        if (s.find(query) > -1):\n",
    "            print(filepath)"
   ]
  },
  {
   "cell_type": "markdown",
   "id": "00de9767-4897-4c47-9c4d-77c863744747",
   "metadata": {},
   "source": [
    "# Reload a package module"
   ]
  },
  {
   "cell_type": "code",
   "execution_count": 3,
   "id": "c07e1235-8838-419e-ab8a-602d3e6dc520",
   "metadata": {},
   "outputs": [],
   "source": [
    "from importlib import reload\n",
    "import spike_preproc\n",
    "flag_reload = 1\n",
    "if flag_reload:\n",
    "    reload( spike_preproc )"
   ]
  },
  {
   "cell_type": "markdown",
   "id": "112a74f2-a8a7-47ff-bf52-894a18b0b782",
   "metadata": {},
   "source": [
    "# List all modules installed into current environment"
   ]
  },
  {
   "cell_type": "code",
   "execution_count": 3,
   "id": "9f18b7cf-8ccb-4109-b5b2-a667ad11e24b",
   "metadata": {},
   "outputs": [
    {
     "name": "stdout",
     "output_type": "stream",
     "text": [
      "<function glob at 0x2b117b9dbcb0>\n",
      "../time_cells/pop_decoding5_withinsubj.ipynb\n",
      "../time_cells/delay_time.ipynb\n",
      "../time_cells/ols_results_delay.ipynb\n",
      "../time_cells/pop_decoding.ipynb\n",
      "../time_cells/cmac_useful_functions.ipynb\n",
      "../time_cells/parallel/parallel_in_python3.ipynb\n"
     ]
    }
   ],
   "source": [
    "!pip list"
   ]
  },
  {
   "cell_type": "markdown",
   "id": "a62927a2-0904-4114-98c6-166d113489b1",
   "metadata": {},
   "source": [
    "# Check version numbers of various packages "
   ]
  },
  {
   "cell_type": "code",
   "execution_count": 5,
   "id": "ab49dd40-c6c6-46da-94fd-f0cff08bca38",
   "metadata": {},
   "outputs": [
    {
     "data": {
      "text/plain": [
       "function"
      ]
     },
     "execution_count": 5,
     "metadata": {},
     "output_type": "execute_result"
    }
   ],
   "source": [
    "import ipyparallel as ipp\n",
    "\n",
    "ipp.__version__"
   ]
  },
  {
   "cell_type": "markdown",
   "id": "41dbd22f-8619-42ba-8706-63545cda2850",
   "metadata": {},
   "source": [
    "# Using interpolation to upsample"
   ]
  },
  {
   "cell_type": "code",
   "execution_count": 2,
   "id": "4c4e1bda-426e-4a91-9dd5-70698f6355af",
   "metadata": {},
   "outputs": [
    {
     "data": {
      "image/png": "[encoded data removed]",
      "text/plain": [
       "<Figure size 432x288 with 1 Axes>"
      ]
     },
     "metadata": {
      "needs_background": "light"
     },
     "output_type": "display_data"
    }
   ],
   "source": [
    "import numpy as np\n",
    "import matplotlib.pyplot as plt\n",
    "%matplotlib inline\n",
    "from scipy import interpolate\n",
    "x = np.arange(0, 10)\n",
    "y = np.exp(-x/3.0)\n",
    "f = interpolate.interp1d(x, y)\n",
    "\n",
    "xnew = np.arange(0, 9, 0.1)\n",
    "ynew = f(xnew)   # use interpolation function returned by `interp1d`\n",
    "plt.plot(x, y, 'o', xnew, ynew, '-')\n",
    "plt.show()"
   ]
  },
  {
   "cell_type": "markdown",
   "id": "2311b633-c27f-4d7e-b99a-cac2d650970e",
   "metadata": {},
   "source": [
    "## Detect patterns in a binary image. "
   ]
  },
  {
   "cell_type": "code",
   "execution_count": 68,
   "id": "10401a1e-4fac-4416-9221-98fb7feadf90",
   "metadata": {},
   "outputs": [
    {
     "name": "stdout",
     "output_type": "stream",
     "text": [
      "[   0    0    3  107    1  100    2    1  285 -499]\n",
      "(array([3, 5, 8]),)\n",
      "<class 'tuple'>\n"
     ]
    }
   ],
   "source": [
    "# in the example below, I detect a digonal pattern\n",
    "flag_test = 0\n",
    "if (flag_test):\n",
    "    from scipy import signal\n",
    "    \n",
    "    # first create a test binary image\n",
    "    img00 = np.array(np.zeros((8,8))).astype('uint8')\n",
    "    img00[1,1] = 1\n",
    "    img00[2,2] = 1\n",
    "    img00[5,5] = 1\n",
    "    img00[6,5] = 1\n",
    "\n",
    "    # crucial line of code to detect patterns in a binary image based. the target pattern is defined in the kernel variable\n",
    "    kernel = np.eye(2)\n",
    "    img01 = signal.convolve2d(np.array(signal.convolve2d(img00,kernel,mode='valid') == np.sum(kernel[:])).astype('uint8'),kernel,mode='full') > 0\n",
    "    img01 = np.array(img01).astype('uint8')\n",
    "\n",
    "    flag_fig = 1\n",
    "    if (flag_fig):\n",
    "        # what does it look like?\n",
    "        fig00, (ax00, ax01) = plt.subplots(1,2, figsize=(13, 5))\n",
    "        img03 = ax00.imshow(img00, vmin=0, vmax=np.sum(kernel[:]), cmap='gray', origin='upper')\n",
    "        img04 = ax01.imshow(img01, vmin=0, vmax=np.sum(kernel[:]), cmap='gray', origin='upper')\n",
    "        cb = fig00.colorbar(img04, ax=(ax00, ax01), orientation='vertical')\n",
    "        plt.show()"
   ]
  },
  {
   "cell_type": "code",
   "execution_count": null,
   "id": "265f67d8-8ff6-4abd-ae5c-694eeb63c3c8",
   "metadata": {},
   "outputs": [],
   "source": []
  }
 ],
 "metadata": {
  "kernelspec": {
   "display_name": "workshop",
   "language": "python",
   "name": "workshop"
  },
  "language_info": {
   "codemirror_mode": {
    "name": "ipython",
    "version": 3
   },
   "file_extension": ".py",
   "mimetype": "text/x-python",
   "name": "python",
   "nbconvert_exporter": "python",
   "pygments_lexer": "ipython3",
   "version": "3.7.6"
  }
 },
 "nbformat": 4,
 "nbformat_minor": 5
}

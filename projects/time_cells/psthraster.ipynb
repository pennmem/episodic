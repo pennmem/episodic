{
 "cells": [
  {
   "cell_type": "markdown",
   "id": "78b8fc53-603e-431c-a54b-fa8cb6ec7a34",
   "metadata": {},
   "source": [
    "# Load packages and load the events dataframe"
   ]
  },
  {
   "cell_type": "code",
   "execution_count": null,
   "id": "759dfc61-af4f-42d0-8e83-46af8bec8ff5",
   "metadata": {},
   "outputs": [],
   "source": [
    "import os\n",
    "import sys\n",
    "import os.path as op\n",
    "sys.path.append('/home1/cjmac/code/general')\n",
    "sys.path.append('/home1/cjmac/code/manning_replication')\n",
    "sys.path.append('/home1/cjmac/code/projects/')\n",
    "import data_io as dio\n",
    "import matplotlib.pyplot as plt\n",
    "import seaborn as sns\n",
    "spike_value = 1\n",
    "import warnings\n",
    "warnings.filterwarnings( 'ignore' )\n",
    "# warnings.filterwarnings( 'default' )\n",
    "\n",
    "proj_dir = '/home1/cjmac/projects/time_cells'\n",
    "output_f = os.path.join(proj_dir, 'analysis', 'events','U554_ses0-events_formatted.pkl')\n",
    "events = dio.open_pickle(output_f)\n",
    "import pandas as pd\n",
    "import numpy as np"
   ]
  },
  {
   "cell_type": "code",
   "execution_count": null,
   "id": "795f0a63-21f1-4ac1-8d5a-641bf9d0cdde",
   "metadata": {},
   "outputs": [],
   "source": []
  },
  {
   "cell_type": "markdown",
   "id": "13f1785c-6e79-4552-97e1-73024d800b11",
   "metadata": {},
   "source": [
    "# Create an event list corresponding to gem placement"
   ]
  },
  {
   "cell_type": "code",
   "execution_count": null,
   "id": "ece456f9-0516-41f7-8087-c0c99374c0c5",
   "metadata": {},
   "outputs": [],
   "source": [
    "# create dataframe by unnesting all item (key:value) pairs\n",
    "events.sort_values(by=['time'])\n",
    "all_value = pd.DataFrame( events.value.tolist() )\n",
    "# get each trial's timeline info\n",
    "timelines = list( all_value.loc[all_value.chosenTimelineItems.notna().values].chosenTimelineItems )\n",
    "#\n",
    "# timelines_placement = list( all_value.loc[all_value.keyCode.notna.values].keyCode )\n",
    "#\n",
    "events_recall = [ ( trial, chosengem ) for trial, gem in enumerate( timelines ) for chosengem in gem ]\n",
    "#\n",
    "events_recall = pd.DataFrame( events_recall, columns=['trial', 'chosengems_all' ] )\n",
    "chosengems_all = pd.DataFrame( events_recall.chosengems_all.tolist() )\n",
    "#\n",
    "events_recall = pd.concat( [events_recall, chosengems_all ], axis = 1  )\n",
    "#\n",
    "events_recall = events_recall.drop( { 'chosengems_all', 'actualTime' }, axis = 1 )\n",
    "\n",
    "events_recall.drop_duplicates(keep='last' )\n",
    "events_recall['trial'] = events_recall['trial'] + 1\n",
    "\n",
    "events_recall = events_recall.drop_duplicates(keep = 'last' )\n",
    "\n",
    "events_recall = events_recall[ events_recall.chosenTime > 0 ]\n",
    "#\n",
    "events_recall['chosenTime'] = events_recall.groupby( 'trial' ).cumcount() + 1\n",
    "events_recall[ 'trial_type' ] = 'recall'\n",
    "events_recall = events_recall.rename( { 'trial':'list', 'name':'item', 'chosenTime':'position' }, axis= 'columns' )\n",
    "events_recall = events_recall.iloc[:, [0, 3, 2, 1 ] ]\n",
    "events_recall.insert(0, 'subject', 1 )\n",
    "events_recall.insert(5 , 'category', 'gems' )\n",
    "events_recall.insert(5 , 'list_type', 'pure'  )\n",
    "#"
   ]
  },
  {
   "cell_type": "code",
   "execution_count": null,
   "id": "5fddf4f5-99aa-4f87-a740-23181401d49f",
   "metadata": {},
   "outputs": [],
   "source": [
    "# events.loc[ all_value['keyCode'] == 'Mouse0', :].sort_values(by=['time']).to_csv('events_mouseclicks.csv')\n",
    "events_recall"
   ]
  },
  {
   "cell_type": "code",
   "execution_count": null,
   "id": "d5bf376d-1f59-4691-a1f2-5fed3b3a62cf",
   "metadata": {},
   "outputs": [],
   "source": [
    "all_value['isPressed'][ all_value['keyCode'] == 'Mouse0'] = np.cumsum(np.where(all_value['isPressed'][ all_value['keyCode'] == 'Mouse0'] == True, 1, -1))\n"
   ]
  },
  {
   "cell_type": "code",
   "execution_count": null,
   "id": "cfd19191-733e-471d-8090-9f9bc8144515",
   "metadata": {},
   "outputs": [],
   "source": [
    "abs(all_value['isPressed'][ all_value['keyCode'] == 'Mouse0'])==2"
   ]
  },
  {
   "cell_type": "markdown",
   "id": "56a8cfff-5bb4-4f29-8632-86b83b2d1381",
   "metadata": {},
   "source": [
    "# Create an event list corresponding to delay1 timestamps."
   ]
  },
  {
   "cell_type": "code",
   "execution_count": null,
   "id": "fefa6db6-8fbe-4206-94a4-75a8545952f0",
   "metadata": {},
   "outputs": [],
   "source": [
    "tmp_events = events[ events['gameState'] == 'Delay1']\n",
    "# print( tmp_events[0:100:1] )\n",
    "tmp_times = events['time'][ events['gameState'] == 'Delay1']\n",
    "# print( tmp_times )\n",
    "tmp_diff = np.diff( tmp_times )\n",
    "# print( type( tmp_diff ) )\n",
    "delay1_start = tmp_times.iloc[ np.where( ( tmp_times - np.roll( tmp_times, +1 ) ) > 100000 )[0] ]\n",
    "# print( type( np.where( ( tmp_times - np.roll( tmp_times, +1 ) ) > 100000 )[0] ) )\n",
    "# print( np.where( ( tmp_times - np.roll( tmp_times, +1 ) ) > 100000 )[0] )\n",
    "#print( delay1_start )\n",
    "tmp_diff"
   ]
  },
  {
   "cell_type": "markdown",
   "id": "7abed96f-466e-4276-ad62-39e8ad534159",
   "metadata": {},
   "source": [
    "# Create an event list corresponding to delay2 timestamps."
   ]
  },
  {
   "cell_type": "code",
   "execution_count": null,
   "id": "25970139-bf4b-41e3-99db-0234e8607b63",
   "metadata": {},
   "outputs": [],
   "source": [
    "tmp_events = events[ events['gameState'] == 'Delay2']\n",
    "# print( tmp_events[0:100:1] )\n",
    "tmp_times = events['time'][ events['gameState'] == 'Delay2']\n",
    "# print( tmp_times )\n",
    "tmp_diff = np.diff( tmp_times )\n",
    "delay2_start = tmp_times.iloc[ np.where( ( tmp_times - np.roll( tmp_times, +1 ) ) > 100000 )[0] ]\n",
    "#print( delay2_start )"
   ]
  },
  {
   "cell_type": "markdown",
   "id": "27910bc9-4b30-4bf2-a910-2d54c3ded1d0",
   "metadata": {},
   "source": [
    "# Load a neuron's spike data."
   ]
  },
  {
   "cell_type": "code",
   "execution_count": null,
   "id": "84299af8-76cd-4f76-b238-91fa9c048a7f",
   "metadata": {},
   "outputs": [],
   "source": [
    "import spike_preproc\n",
    "flag_reload = 0\n",
    "if flag_reload:\n",
    "    reload( spike_preproc )\n",
    "\n",
    "subj_sess = 'U554_ses0'\n",
    "\n",
    "\n",
    "spikes = spike_preproc.format_spikes(subj_sess,\n",
    "                                         conv_factor='infer',\n",
    "                                         add_montage_info=False,\n",
    "                                         fr_thresh=0.1,\n",
    "                                         overwrite=True,\n",
    "                                         save_output=True,\n",
    "                                         split_files=True,\n",
    "                                         verbose=False)"
   ]
  },
  {
   "cell_type": "code",
   "execution_count": null,
   "id": "bdcfdd89-c9af-4bf3-b76e-1e8fcaf6d3aa",
   "metadata": {},
   "outputs": [],
   "source": [
    "spikes"
   ]
  },
  {
   "cell_type": "code",
   "execution_count": null,
   "id": "a4aa6584-15b8-4c46-a306-36a17c287aa8",
   "metadata": {},
   "outputs": [],
   "source": [
    "which_cell=23\n",
    "trial=1\n",
    "\n",
    "spike_times = np.subtract( spikes['spike_times'][which_cell], delay1_start.iloc[ trial ] )\n",
    "spike_times = spike_times[(spike_times>=0 ) & (spike_times<=100000)]\n",
    "# spike_times_binned[trial, [ spike_times ] ] = 1\n",
    "spike_times    \n",
    "    "
   ]
  },
  {
   "cell_type": "markdown",
   "id": "67023ab4-b0d7-4ddf-8eba-546bfb31485a",
   "metadata": {},
   "source": [
    "# Create a PSTH + raster plot for Delay1 & Delay2"
   ]
  },
  {
   "cell_type": "code",
   "execution_count": null,
   "id": "687d35ff-14b8-4e08-a628-fde2f8352882",
   "metadata": {},
   "outputs": [],
   "source": [
    "which_cell = 23\n",
    "import seaborn as sns\n",
    "\n",
    "spike_times_binned = np.zeros((len(delay1_start),100000)) \n",
    "\n",
    "for trial in range(len(delay1_start)):\n",
    "    #print( trial )\n",
    "    spike_times = np.subtract( spikes['spike_times'][which_cell], delay1_start.iloc[ trial ] )\n",
    "    spike_times = spike_times[(spike_times>=0 ) & (spike_times<=10000)]\n",
    "    spike_times_binned[trial, [ spike_times ] ] = 1"
   ]
  },
  {
   "cell_type": "code",
   "execution_count": null,
   "id": "fced3e7c-43b5-4cde-afa0-3fc16344f449",
   "metadata": {},
   "outputs": [],
   "source": [
    "########################################\n",
    "# draw raster into first subplot, axs[0]\n",
    "# add shading for stimulus duration)\n",
    "# axs[0].axvspan(light_onset_time, light_offset_time, alpha=0.5, color='greenyellow')\n",
    "\n",
    "fig, axs = plt.subplots(2, 1, figsize=[10,5], sharex = True )\n",
    "\n",
    "for trial in range(len(spike_times_binned)):\n",
    "    spike_times = [i for i, x in enumerate(spike_times_binned[trial]) if x == spike_value]\n",
    "    axs[0].vlines(spike_times, trial - 0.5, trial + 0.5, colors = 'black')\n",
    "    \n",
    "axs[0].set_xlim( [ 0, 10000 ] )  \n",
    "axs[0].set_xticks( [ 0, 50000, 10000 ] )  \n",
    "axs[0].tick_params(axis='y', labelsize=18, )\n",
    "axs[0].set_title( 'Delay1', fontsize = 32 )\n",
    "axs[0].set_ylabel( 'trial', fontsize = 24 )\n",
    "print( axs[0].xaxis.get_visible())\n",
    "#axs[0].xaxis.set_visible('False')\n",
    "axs[0].spines['bottom'].set_visible(False)   \n",
    "\n",
    "\n",
    "##\n",
    "spike_times_binned_reshape = spike_times_binned.reshape( [230000, 10 ], order='F' )\n",
    "\n",
    "spike_times_binned_reshape = np.sum( spike_times_binned_reshape, axis = 0 )\n",
    "spike_rates_binned_reshape =(spike_times_binned_reshape/(25))\n",
    "\n",
    "# Draw the PSTH\n",
    "axs[1].bar(np.array( [500, 1500, 2500, 3500, 4500, 5500, 6500, 7500, 8500, 9500] ),\n",
    "           spike_rates_binned_reshape, 10000, color = 'black')\n",
    "\n",
    "axs[1].set_xlim( [ 0, 10000 ] )  \n",
    "axs[1].set_xticks( [ 0, 5000, 10000 ] )  \n",
    "axs[1].tick_params(axis='y', labelsize=18, )\n",
    "axs[1].set_xticklabels( [ '0', '5', '10' ], fontsize = 20 )  \n",
    "axs[1].set_ylabel( 'spikes/s', fontsize = 24 )\n",
    "axs[1].set_xlabel( 'time (s)', fontsize = 24  )\n",
    "\n",
    "plt.tight_layout()\n",
    "\n",
    "\n",
    "plt.savefig('delay1.eps', dpi=300)\n",
    "\n",
    "\n",
    "# Create a PSTH + raster plot for Delay2\n",
    "\n",
    "spike_times_binned = np.zeros((len(delay2_start),100000)) \n",
    "\n",
    "for trial in range(len(delay2_start)):\n",
    "    #print( trial )\n",
    "    spike_times = np.subtract( spikes['spike_times'][which_cell], delay2_start.iloc[ trial ] )\n",
    "    spike_times = spike_times[(spike_times>=0 ) & (spike_times<=10000)]\n",
    "    spike_times_binned[trial, [ spike_times ] ] = 1\n",
    "\n",
    "########################################\n",
    "# draw raster into first subplot, axs[0]\n",
    "# add shading for stimulus duration)\n",
    "# axs[0].axvspan(light_onset_time, light_offset_time, alpha=0.5, color='greenyellow')\n",
    "\n",
    "fig, axs = plt.subplots(2, 1, figsize=[10,5], sharex = True )\n",
    "\n",
    "for trial in range(len(spike_times_binned)):\n",
    "    spike_times = [i for i, x in enumerate(spike_times_binned[trial]) if x == spike_value]\n",
    "    axs[0].vlines(spike_times, trial - 0.5, trial + 0.5, colors = 'black')\n",
    "\n",
    "axs[0].set_xlim( [ 0, 100000 ] )  \n",
    "axs[0].set_xticks( [ 0, 50000, 100000 ] )  \n",
    "axs[0].tick_params(axis='y', labelsize=18, )\n",
    "axs[0].set_title( 'Delay2', fontsize = 32 )\n",
    "axs[0].set_ylabel( 'trial', fontsize = 24 )\n",
    "axs[0].spines['bottom'].set_visible(False)\n",
    "##\n",
    "spike_times_binned_reshape = spike_times_binned.reshape( [250000, 10 ], order='F' )\n",
    "\n",
    "spike_times_binned_reshape = np.sum( spike_times_binned_reshape, axis = 0 )\n",
    "spike_rates_binned_reshape =(spike_times_binned_reshape/(25))\n",
    "\n",
    "# Draw the PSTH\n",
    "axs[1].bar(np.array( [500, 1500, 2500, 3500, 4500, 5500, 6500, 7500, 8500, 9500]),\n",
    "           spike_rates_binned_reshape, 10000, color = 'black')\n",
    "\n",
    "axs[1].set_xlim( [ 0, 100000 ] )  \n",
    "axs[1].set_xticks( [ 0, 50000, 100000 ] )  \n",
    "axs[1].tick_params(axis='y', labelsize=18, )\n",
    "axs[1].set_xticklabels( [ '0', '5', '10' ], fontsize = 20 )  \n",
    "axs[1].set_ylabel( 'spikes/s', fontsize = 24 )\n",
    "axs[1].set_xlabel( 'time (s)', fontsize = 24  )\n",
    "\n",
    "\n",
    "plt.tight_layout()\n",
    "\n",
    "plt.savefig('delay2.eps', dpi=300)"
   ]
  },
  {
   "cell_type": "code",
   "execution_count": null,
   "id": "625c137f-defd-416d-9fb4-d7b26142770e",
   "metadata": {},
   "outputs": [],
   "source": [
    "type( axs[0] )"
   ]
  },
  {
   "cell_type": "code",
   "execution_count": null,
   "id": "a4fea7d7-4e70-45e3-972a-125bd24f137c",
   "metadata": {},
   "outputs": [],
   "source": []
  },
  {
   "cell_type": "code",
   "execution_count": null,
   "id": "e7a798c5-7f99-4a22-8d1c-fd0a8eb3b68a",
   "metadata": {},
   "outputs": [],
   "source": []
  }
 ],
 "metadata": {
  "kernelspec": {
   "display_name": "workshop",
   "language": "python",
   "name": "workshop"
  },
  "language_info": {
   "codemirror_mode": {
    "name": "ipython",
    "version": 3
   },
   "file_extension": ".py",
   "mimetype": "text/x-python",
   "name": "python",
   "nbconvert_exporter": "python",
   "pygments_lexer": "ipython3",
   "version": "3.7.6"
  }
 },
 "nbformat": 4,
 "nbformat_minor": 5
}

{
 "cells": [
  {
   "cell_type": "code",
   "execution_count": 1,
   "metadata": {},
   "outputs": [],
   "source": [
    "# General\n",
    "import sys\n",
    "import os\n",
    "import os.path as op\n",
    "from time import time\n",
    "from collections import OrderedDict as od\n",
    "from importlib import reload\n",
    "from glob import glob\n",
    "import itertools\n",
    "import h5py\n",
    "import warnings\n",
    "\n",
    "# Scientific\n",
    "import numpy as np\n",
    "import pandas as pd\n",
    "pd.options.display.max_rows = 200\n",
    "pd.options.display.max_columns = 999\n",
    "import scipy.io as sio\n",
    "\n",
    "# Stats\n",
    "import scipy.stats as stats\n",
    "import statsmodels.api as sm\n",
    "from statsmodels.formula.api import ols\n",
    "import random\n",
    "from sklearn.decomposition import PCA\n",
    "\n",
    "# Plots\n",
    "import warnings\n",
    "warnings.filterwarnings( 'ignore' )\n",
    "import matplotlib.pyplot as plt\n",
    "%matplotlib inline\n",
    "import seaborn as sns\n",
    "import matplotlib as mpl\n",
    "from matplotlib.lines import Line2D\n",
    "import matplotlib.patches as patches\n",
    "\n",
    "# Plotting parameters\n",
    "mpl.rcParams['grid.linewidth'] = 0.1\n",
    "mpl.rcParams['grid.alpha'] = 0.75\n",
    "mpl.rcParams['lines.linewidth'] = 1\n",
    "mpl.rcParams['lines.markersize'] = 3\n",
    "mpl.rcParams['xtick.labelsize'] = 15\n",
    "mpl.rcParams['ytick.labelsize'] = 15 \n",
    "colors = ['1f77b4', 'd62728', '2ca02c', 'ff7f0e', '9467bd', \n",
    "          '8c564b', 'e377c2', '7f7f7f', 'bcbd22', '17becf']\n",
    "mpl.rcParams['axes.prop_cycle'] = mpl.cycler('color', colors)\n",
    "mpl.rcParams['axes.spines.right'] = False\n",
    "mpl.rcParams['axes.spines.top'] = False\n",
    "mpl.rcParams['axes.formatter.offset_threshold'] = 2\n",
    "mpl.rcParams['axes.labelsize'] = 17\n",
    "mpl.rcParams['axes.labelpad'] = 10\n",
    "mpl.rcParams['axes.titlesize'] = 19\n",
    "mpl.rcParams['axes.grid'] = True\n",
    "mpl.rcParams['axes.axisbelow'] = True\n",
    "mpl.rcParams['legend.loc'] = 'upper right'\n",
    "mpl.rcParams['legend.fontsize'] = 15\n",
    "mpl.rcParams['legend.frameon'] = False\n",
    "mpl.rcParams['figure.dpi'] = 300\n",
    "mpl.rcParams['figure.titlesize'] = 19\n",
    "mpl.rcParams['figure.figsize'] = (6.85039, 4.79527) \n",
    "mpl.rcParams['figure.subplot.wspace'] = 0.25 \n",
    "mpl.rcParams['figure.subplot.hspace'] = 0.25 \n",
    "mpl.rcParams['font.sans-serif'] = ['Helvetica']\n",
    "mpl.rcParams['savefig.format'] = 'pdf'\n",
    "mpl.rcParams['pdf.fonttype'] = 42\n",
    "# warnings.filterwarnings( 'default' )\n",
    "\n",
    "# Personal\n",
    "sys.path.append('/home1/cjmac/code/general')\n",
    "sys.path.append('/home1/cjmac/code/manning_replication')\n",
    "sys.path.append('/home1/cjmac/code/projects/')\n",
    "import data_io as dio\n",
    "import array_operations as aop\n",
    "from eeg_plotting import plot_trace, plot_trace2\n",
    "\n",
    "from time_cells import spike_sorting, spike_preproc, events_preproc, events_proc, time_bin_analysis\n",
    "\n",
    "# Colors\n",
    "n = 4\n",
    "c = 2\n",
    "colors = [sns.color_palette('Blues', n)[c], \n",
    "          sns.color_palette('Reds', n)[c], \n",
    "          sns.color_palette('Greens', n)[c],\n",
    "          sns.color_palette('Purples', n)[c],\n",
    "          sns.color_palette('Oranges', n)[c],\n",
    "          sns.color_palette('Greys', n)[c],\n",
    "          sns.color_palette('YlOrBr', n+3)[c],\n",
    "          'k']\n",
    "cmap = sns.palettes.blend_palette((colors[0], \n",
    "                                   'w',\n",
    "                                   colors[1]), 501)\n",
    "font = {'tick': 12,\n",
    "        'label': 14,\n",
    "        'fig': 16}"
   ]
  },
  {
   "cell_type": "markdown",
   "metadata": {
    "tags": []
   },
   "source": [
    "## Perform alignment"
   ]
  },
  {
   "cell_type": "code",
   "execution_count": 2,
   "metadata": {},
   "outputs": [
    {
     "name": "stdout",
     "output_type": "stream",
     "text": [
      "The first timestamp in events before zero-ing is 1627593194100.360\n",
      "The first timestamp in events after zero-ing is 0.000\n",
      "85458 events recorded over 68 min and 52 sec\n"
     ]
    }
   ],
   "source": [
    "subj_sess = 'U540_ses0'\n",
    "\n",
    "# Read events file and get event synctimes.\n",
    "events, event_synctimes = events_preproc.read_events_json(subj_sess)"
   ]
  },
  {
   "cell_type": "code",
   "execution_count": 3,
   "metadata": {},
   "outputs": [
    {
     "name": "stdout",
     "output_type": "stream",
     "text": [
      "The first timestamp in lfp_timestamps before zero-ing & before conv factor is 0.000\n",
      "The first timestamp in lfp_timestamps before zero-ing & after conv factor is 0.000\n",
      "The first timestamp in lfp_timestamps after zero-ing & conv factor is 0.000\n",
      "Conversion factor is 1\n",
      "123945508 timestamps over 68 min and 51.5 s\n",
      "Sampling rate is 30000 Hz\n"
     ]
    }
   ],
   "source": [
    "# Load LFP timestamps.\n",
    "# lfp_timestamps, sr = spike_sorting.load_lfp_timestamps(subj_sess, start_at_zero = False)\n",
    "lfp_timestamps, sr = spike_sorting.load_lfp_timestamps(subj_sess )"
   ]
  },
  {
   "cell_type": "code",
   "execution_count": 6,
   "metadata": {},
   "outputs": [],
   "source": [
    "# Load the sync channel.\n",
    "# sync_chan = events_preproc.load_syncs(subj_sess, data_key='data')\n",
    "sync_chan = events_preproc.load_syncs(subj_sess, data_key='data')"
   ]
  },
  {
   "cell_type": "code",
   "execution_count": 7,
   "metadata": {},
   "outputs": [
    {
     "ename": "ValueError",
     "evalue": "operands could not be broadcast together with shapes (0,) (123945508,) ",
     "output_type": "error",
     "traceback": [
      "\u001b[0;31m---------------------------------------------------------------------------\u001b[0m",
      "\u001b[0;31mValueError\u001b[0m                                Traceback (most recent call last)",
      "\u001b[0;32m<ipython-input-7-fa488a623abc>\u001b[0m in \u001b[0;36m<module>\u001b[0;34m()\u001b[0m\n\u001b[1;32m      4\u001b[0m                                                    \u001b[0mpulse_thresh\u001b[0m\u001b[0;34m=\u001b[0m\u001b[0;36m200\u001b[0m\u001b[0;34m,\u001b[0m\u001b[0;34m\u001b[0m\u001b[0;34m\u001b[0m\u001b[0m\n\u001b[1;32m      5\u001b[0m                                                    \u001b[0mintrapulse_thresh_ms\u001b[0m\u001b[0;34m=\u001b[0m\u001b[0;36m20\u001b[0m\u001b[0;34m,\u001b[0m\u001b[0;34m\u001b[0m\u001b[0;34m\u001b[0m\u001b[0m\n\u001b[0;32m----> 6\u001b[0;31m                                                    interpulse_thresh_ms=790)\n\u001b[0m",
      "\u001b[0;32m/home1/cjmac/code/projects/time_cells/events_preproc.py\u001b[0m in \u001b[0;36mfind_pulse_starts\u001b[0;34m(sync_chan, pulse_thresh, sampling_rate, interpulse_thresh_ms, intrapulse_thresh_ms, pos_only, verbose)\u001b[0m\n\u001b[1;32m    155\u001b[0m     \u001b[0;31m# Find sync pulses by looking for suprathreshold changes\u001b[0m\u001b[0;34m\u001b[0m\u001b[0;34m\u001b[0m\u001b[0;34m\u001b[0m\u001b[0m\n\u001b[1;32m    156\u001b[0m     \u001b[0;31m# in the absolute value of the derivative of the sync channel\u001b[0m\u001b[0;34m\u001b[0m\u001b[0;34m\u001b[0m\u001b[0;34m\u001b[0m\u001b[0m\n\u001b[0;32m--> 157\u001b[0;31m     \u001b[0msync_pulses\u001b[0m \u001b[0;34m=\u001b[0m \u001b[0mnp\u001b[0m\u001b[0;34m.\u001b[0m\u001b[0mabs\u001b[0m\u001b[0;34m(\u001b[0m\u001b[0mnp\u001b[0m\u001b[0;34m.\u001b[0m\u001b[0mpad\u001b[0m\u001b[0;34m(\u001b[0m\u001b[0mnp\u001b[0m\u001b[0;34m.\u001b[0m\u001b[0mdiff\u001b[0m\u001b[0;34m(\u001b[0m\u001b[0msync_chan\u001b[0m\u001b[0;34m)\u001b[0m\u001b[0;34m,\u001b[0m \u001b[0;34m(\u001b[0m\u001b[0;36m1\u001b[0m\u001b[0;34m,\u001b[0m \u001b[0;36m0\u001b[0m\u001b[0;34m)\u001b[0m\u001b[0;34m,\u001b[0m \u001b[0;34m'constant'\u001b[0m\u001b[0;34m)\u001b[0m\u001b[0;34m)\u001b[0m \u001b[0;34m>\u001b[0m \u001b[0mpulse_thresh\u001b[0m\u001b[0;34m\u001b[0m\u001b[0;34m\u001b[0m\u001b[0m\n\u001b[0m\u001b[1;32m    158\u001b[0m     \u001b[0mpulse_inds\u001b[0m \u001b[0;34m=\u001b[0m \u001b[0mnp\u001b[0m\u001b[0;34m.\u001b[0m\u001b[0mwhere\u001b[0m\u001b[0;34m(\u001b[0m\u001b[0msync_pulses\u001b[0m\u001b[0;34m)\u001b[0m\u001b[0;34m[\u001b[0m\u001b[0;36m0\u001b[0m\u001b[0;34m]\u001b[0m\u001b[0;34m\u001b[0m\u001b[0;34m\u001b[0m\u001b[0m\n\u001b[1;32m    159\u001b[0m \u001b[0;34m\u001b[0m\u001b[0m\n",
      "\u001b[0;32m<__array_function__ internals>\u001b[0m in \u001b[0;36mdiff\u001b[0;34m(*args, **kwargs)\u001b[0m\n",
      "\u001b[0;32m/usr/global/Anaconda/2019-10/envs/cml37/lib/python3.7/site-packages/numpy/lib/function_base.py\u001b[0m in \u001b[0;36mdiff\u001b[0;34m(a, n, axis, prepend, append)\u001b[0m\n\u001b[1;32m   1290\u001b[0m     \u001b[0mop\u001b[0m \u001b[0;34m=\u001b[0m \u001b[0mnot_equal\u001b[0m \u001b[0;32mif\u001b[0m \u001b[0ma\u001b[0m\u001b[0;34m.\u001b[0m\u001b[0mdtype\u001b[0m \u001b[0;34m==\u001b[0m \u001b[0mnp\u001b[0m\u001b[0;34m.\u001b[0m\u001b[0mbool_\u001b[0m \u001b[0;32melse\u001b[0m \u001b[0msubtract\u001b[0m\u001b[0;34m\u001b[0m\u001b[0;34m\u001b[0m\u001b[0m\n\u001b[1;32m   1291\u001b[0m     \u001b[0;32mfor\u001b[0m \u001b[0m_\u001b[0m \u001b[0;32min\u001b[0m \u001b[0mrange\u001b[0m\u001b[0;34m(\u001b[0m\u001b[0mn\u001b[0m\u001b[0;34m)\u001b[0m\u001b[0;34m:\u001b[0m\u001b[0;34m\u001b[0m\u001b[0;34m\u001b[0m\u001b[0m\n\u001b[0;32m-> 1292\u001b[0;31m         \u001b[0ma\u001b[0m \u001b[0;34m=\u001b[0m \u001b[0mop\u001b[0m\u001b[0;34m(\u001b[0m\u001b[0ma\u001b[0m\u001b[0;34m[\u001b[0m\u001b[0mslice1\u001b[0m\u001b[0;34m]\u001b[0m\u001b[0;34m,\u001b[0m \u001b[0ma\u001b[0m\u001b[0;34m[\u001b[0m\u001b[0mslice2\u001b[0m\u001b[0;34m]\u001b[0m\u001b[0;34m)\u001b[0m\u001b[0;34m\u001b[0m\u001b[0;34m\u001b[0m\u001b[0m\n\u001b[0m\u001b[1;32m   1293\u001b[0m \u001b[0;34m\u001b[0m\u001b[0m\n\u001b[1;32m   1294\u001b[0m     \u001b[0;32mreturn\u001b[0m \u001b[0ma\u001b[0m\u001b[0;34m\u001b[0m\u001b[0;34m\u001b[0m\u001b[0m\n",
      "\u001b[0;31mValueError\u001b[0m: operands could not be broadcast together with shapes (0,) (123945508,) "
     ]
    }
   ],
   "source": [
    "# Identify sync pulses in the sync channel EEG.\n",
    "pulse_startinds = events_preproc.find_pulse_starts(sync_chan, \n",
    "                                                   sampling_rate=sr, \n",
    "                                                   pulse_thresh=200, \n",
    "                                                   intrapulse_thresh_ms=20, \n",
    "                                                   interpulse_thresh_ms=790)"
   ]
  },
  {
   "cell_type": "code",
   "execution_count": null,
   "metadata": {},
   "outputs": [],
   "source": [
    "lfp_synctimes = lfp_timestamps[pulse_startinds]\n",
    "print('Detected {} syncs for {} sync pulse events'.format(len(pulse_startinds), len(events.loc[events.key=='syncPulse', 'time'])))"
   ]
  },
  {
   "cell_type": "code",
   "execution_count": null,
   "metadata": {},
   "outputs": [],
   "source": [
    "print( event_synctimes[1:20:1] ) \n",
    "print( lfp_timestamps[1:20:1] ) \n",
    "print( sync_chan[1:20:1] ) \n",
    "print( pulse_startinds[1:20:1] ) \n",
    "print( lfp_synctimes[1:20:1] ) "
   ]
  },
  {
   "cell_type": "code",
   "execution_count": null,
   "metadata": {},
   "outputs": [],
   "source": [
    "subj, sess = subj_sess.split('_')\n",
    "sync_f = os.path.join('/home1/cjmac/projects/time_cells', 'data', subj, sess, 'sync', 'sync_channel_micro.mat')"
   ]
  },
  {
   "cell_type": "code",
   "execution_count": null,
   "metadata": {},
   "outputs": [],
   "source": [
    "# Find matching sync pulse pairs.\n",
    "event_synctimes_adj, lfp_synctimes_adj = events_preproc.pair_sync_pulses(event_synctimes, \n",
    "                                                                         lfp_synctimes, step=5, max_shift=200, max_slide=50, ipi_thresh=2)"
   ]
  },
  {
   "cell_type": "code",
   "execution_count": null,
   "metadata": {},
   "outputs": [],
   "source": [
    "# print( event_synctimes_adj[1:20:1] ) \n",
    "print( lfp_synctimes_adj[1:20:1] ) "
   ]
  },
  {
   "cell_type": "code",
   "execution_count": null,
   "metadata": {},
   "outputs": [],
   "source": [
    "# Perform the alignment.\n",
    "alignment = events_preproc.align_sync_pulses(event_synctimes_adj, \n",
    "                                             lfp_synctimes_adj)"
   ]
  },
  {
   "cell_type": "code",
   "execution_count": null,
   "metadata": {},
   "outputs": [],
   "source": [
    "# print( alignment )"
   ]
  },
  {
   "cell_type": "code",
   "execution_count": null,
   "metadata": {},
   "outputs": [],
   "source": [
    "print( events[1:25:1 ] )"
   ]
  },
  {
   "cell_type": "code",
   "execution_count": null,
   "metadata": {},
   "outputs": [],
   "source": [
    "# Apply the alignment to all event times.\n",
    "events['time'] = events['time'].apply(lambda x: alignment['sync_params']['intercept'] + (alignment['sync_params']['slope'] * x))"
   ]
  },
  {
   "cell_type": "code",
   "execution_count": null,
   "metadata": {},
   "outputs": [],
   "source": [
    "print( events[1:25:1 ] )\n",
    "print( lfp_synctimes_adj[1:25:1 ] )"
   ]
  },
  {
   "cell_type": "code",
   "execution_count": null,
   "metadata": {},
   "outputs": [],
   "source": [
    "# How did our alignment go?\n",
    "print('{} event sync pulses'.format(len(event_synctimes_adj)))\n",
    "print('{} LFP sync pulses identified'.format(len(lfp_synctimes_adj)))\n",
    "print('\\n--------------------\\nAlignment parameters\\n--------------------')\n",
    "for k, v in alignment.items():\n",
    "    print('{}: {}'.format(k, v))"
   ]
  },
  {
   "cell_type": "code",
   "execution_count": null,
   "metadata": {},
   "outputs": [],
   "source": [
    "plt.close()\n",
    "fig, ax = plt.subplots(1, 3, figsize=(16, 6), dpi=300)\n",
    "ax = np.ravel(ax)\n",
    "\n",
    "min_syncs = np.min((len(event_synctimes_adj), len(lfp_synctimes_adj)))\n",
    "start = 0\n",
    "stop = None\n",
    "\n",
    "i = 0\n",
    "ax[i].scatter(np.diff(event_synctimes_adj), np.diff(lfp_synctimes_adj))\n",
    "ax[i].set_xlabel('$Event_{IPI}$', fontsize=font['label'], labelpad=8)\n",
    "ax[i].set_ylabel('$LFP_{IPI}$', fontsize=font['label'], labelpad=8)\n",
    "ax[i].set_title('Inter-pulse interval correlation', fontsize=font['fig'], y=1.05)\n",
    "\n",
    "i = 1\n",
    "ax[i].plot(np.diff(lfp_synctimes_adj)[start:stop] - np.diff(event_synctimes_adj)[start:stop])\n",
    "ax[i].plot(np.diff(lfp_synctimes_adj)[start:stop] - np.diff(event_synctimes_adj)[start:stop])\n",
    "ax[i].set_xlabel('Sync no.', fontsize=font['label'], labelpad=8)\n",
    "ax[i].set_ylabel('Time (ms)', fontsize=font['label'], labelpad=8)\n",
    "ax[i].set_title('$LFP_{IPI} - Event_{IPI}$', fontsize=font['fig'], y=1.05)\n",
    "\n",
    "i = 2\n",
    "ax[i].plot(lfp_synctimes_adj[start:stop] - event_synctimes_adj[start:stop])\n",
    "ax[i].set_xlabel('Sync no.', fontsize=font['label'], labelpad=8)\n",
    "ax[i].set_ylabel('Time (ms)', fontsize=font['label'], labelpad=8)\n",
    "ax[i].set_title('LFP - Event synctimes', fontsize=font['fig'], y=1.05)\n",
    "\n",
    "for i in range(len(ax)):\n",
    "    ax[i].tick_params(axis='both', which='major', labelsize=font['tick'])\n",
    "fig.tight_layout()"
   ]
  },
  {
   "cell_type": "code",
   "execution_count": null,
   "metadata": {},
   "outputs": [],
   "source": [
    "event_synctimes = events.loc[events['key']=='syncPulse', 'time'].values\n",
    "event_pulse_inds = (np.array([x for x in (event_synctimes-lfp_timestamps[0]) * (sr/1e3) \n",
    "                              if x<len(lfp_timestamps)])).astype(np.int64)\n",
    "event_pulse_startinds_train = np.zeros(len(sync_chan))\n",
    "event_pulse_startinds_train[event_pulse_inds] = 1\n",
    "\n",
    "fig, ax = plot_trace2(sync_chan, spike_dat=event_pulse_startinds_train,\n",
    "                      start=300, duration=30, nwin=6, x_units='secs', sampling_rate=sr)"
   ]
  },
  {
   "cell_type": "code",
   "execution_count": null,
   "metadata": {},
   "outputs": [],
   "source": [
    "print(event_synctimes)"
   ]
  },
  {
   "cell_type": "markdown",
   "metadata": {},
   "source": [
    "## Format events and spikes"
   ]
  },
  {
   "cell_type": "code",
   "execution_count": null,
   "metadata": {},
   "outputs": [],
   "source": [
    "proc_events = 0\n",
    "proc_spikes = 1\n",
    "proj_dir = '/home1/cjmac/projects/time_cells'\n",
    "run_all = True\n",
    "save_output = True\n",
    "overwrite = False\n",
    "verbose = True\n",
    "\n",
    "start_time = time()\n",
    "warnings.filterwarnings('ignore')\n",
    "\n",
    "print(subj_sess)\n",
    "if proc_events:\n",
    "    # Load events and event times.\n",
    "    print('Processing events data.', end='\\n\\n')\n",
    "    events = events_preproc.format_events(events=events,\n",
    "                                          noisy_trials=[],\n",
    "                                          remove_incomplete_trials=True,\n",
    "                                          remove_noisy_trials=False,\n",
    "                                          remove_paused_trials=False,\n",
    "                                          overwrite=overwrite,\n",
    "                                          save_output=save_output,\n",
    "                                          proj_dir=proj_dir,\n",
    "                                          verbose=verbose)\n",
    "    events = events_proc.load_events(subj_sess,\n",
    "                                     proj_dir=proj_dir,\n",
    "                                     overwrite=overwrite,\n",
    "                                     verbose=verbose,\n",
    "                                     run_all=run_all)\n",
    "    if save_output:\n",
    "        events_proc.save_events(events,\n",
    "                                overwrite=overwrite,\n",
    "                                verbose=verbose)\n",
    "    \n",
    "if proc_spikes:\n",
    "    # Load spikes.\n",
    "    print('Processing spikes data.', end='\\n\\n')\n",
    "    spikes = spike_preproc.format_spikes(subj_sess,\n",
    "                                         conv_factor='infer',\n",
    "                                         fr_thresh=0.1,\n",
    "                                         overwrite=True,\n",
    "                                         save_output=True,\n",
    "                                         split_files=True,\n",
    "                                         verbose=verbose)\n",
    "\n",
    "warnings.resetwarnings()\n",
    "print('Done in {:.2f} s'.format(time() - start_time))"
   ]
  },
  {
   "cell_type": "code",
   "execution_count": null,
   "metadata": {},
   "outputs": [],
   "source": [
    "savefile = True\n",
    "overwrite = False\n",
    "\n",
    "event_spikes = time_bin_analysis.load_event_spikes(subj_sess, overwrite=overwrite)\n",
    "if savefile:\n",
    "    time_bin_analysis.save_event_spikes(event_spikes, overwrite=overwrite)"
   ]
  },
  {
   "cell_type": "code",
   "execution_count": null,
   "metadata": {},
   "outputs": [],
   "source": [
    "print( event_spikes )"
   ]
  },
  {
   "cell_type": "code",
   "execution_count": null,
   "metadata": {},
   "outputs": [],
   "source": [
    "def model_unit_fr_parallel(subj_sess_neuron):\n",
    "    import sys\n",
    "    import os\n",
    "    from time import sleep\n",
    "    import numpy as np\n",
    "    sys.path.append('/home1/cjmac/code/projects')\n",
    "    from time_cells.time_bin_analysis import model_unit_fr\n",
    "    \n",
    "    # Take a nap.\n",
    "    if False:\n",
    "        sleep_secs = int(1800 * np.random.rand())\n",
    "        sleep(sleep_secs)\n",
    "    try:\n",
    "        subj_sess, chan, unit = subj_sess_neuron.split('-')\n",
    "        neuron = '{}-{}'.format(chan, unit)\n",
    "        output = model_unit_fr(subj_sess,\n",
    "                               neuron,\n",
    "                               model='ols',\n",
    "                               n_perm=1000,\n",
    "                               overwrite=False,\n",
    "                               save_output=True)\n",
    "    except:\n",
    "        err = sys.exc_info()\n",
    "        errf = '/home1/cjmac/logs/TryExceptError-model_unit_fr_parallel-{}'.format(subj_sess_neuron)\n",
    "        os.system('touch {}'.format(errf))\n",
    "        with open(errf, 'w') as f:\n",
    "            f.write(str(err) + '\\n')\n",
    "    \n",
    "    return None\n",
    "\n",
    "start_time = time()\n",
    "\n",
    "# Load event_spikes and get the names of each neuron.\n",
    "proj_dir = '/home1/cjmac/projects/time_cells'\n",
    "\n",
    "# Get sessions.\n",
    "sessions = np.unique([op.basename(f).split('-')[0] \n",
    "                      for f in glob(op.join(proj_dir, 'analysis', 'events', '*.pkl'))])\n",
    "print('{} subjects, {} sessions'.format(len(np.unique([x.split('_')[0] for x in sessions])), len(sessions)))\n",
    "\n",
    "subj_sess_neurons = []\n",
    "for subj_sess in sessions:\n",
    "    event_spikes = time_bin_analysis.load_event_spikes(subj_sess, verbose=False)\n",
    "    for neuron in event_spikes.column_map['neurons']:\n",
    "        subj_sess_neuron = '{}-{}'.format(subj_sess, neuron)\n",
    "        #output_f = op.join(proj_dir, 'analysis', 'behav_glms', '{}-glm_results.pkl'.format(subj_sess_neuron))\n",
    "        output_f = op.join(proj_dir, 'analysis', 'unit_to_behav', '{}-ols-time_bin-model_pairs.pkl'.format(subj_sess_neuron))\n",
    "        if not op.exists(output_f):\n",
    "            subj_sess_neurons.append(subj_sess_neuron)\n",
    "print('{} neurons'.format(len(subj_sess_neurons)))\n",
    "\n",
    "# Parallel processing\n",
    "for subj_sess_neuron in subj_sess_neurons:\n",
    "    _start_time = time()\n",
    "    print(subj_sess_neuron)\n",
    "    _ = model_unit_fr_parallel(subj_sess_neuron)\n",
    "    print('{:.1f}s'.format(time() - start_time))\n",
    "\n",
    "print('Done in {:.1f}s')"
   ]
  },
  {
   "cell_type": "code",
   "execution_count": null,
   "metadata": {},
   "outputs": [],
   "source": [
    "events"
   ]
  },
  {
   "cell_type": "code",
   "execution_count": null,
   "metadata": {},
   "outputs": [],
   "source": []
  }
 ],
 "metadata": {
  "kernelspec": {
   "display_name": "workshop",
   "language": "python",
   "name": "workshop"
  },
  "language_info": {
   "codemirror_mode": {
    "name": "ipython",
    "version": 3
   },
   "file_extension": ".py",
   "mimetype": "text/x-python",
   "name": "python",
   "nbconvert_exporter": "python",
   "pygments_lexer": "ipython3",
   "version": "3.7.6"
  }
 },
 "nbformat": 4,
 "nbformat_minor": 4
}

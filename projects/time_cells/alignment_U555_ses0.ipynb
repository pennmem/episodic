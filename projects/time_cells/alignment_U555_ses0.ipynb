{
 "cells": [
  {
   "cell_type": "markdown",
   "metadata": {
    "tags": []
   },
   "source": [
    "# Load fundamental modules & initialize variables"
   ]
  },
  {
   "cell_type": "code",
   "execution_count": 1,
   "metadata": {
    "tags": []
   },
   "outputs": [
    {
     "name": "stderr",
     "output_type": "stream",
     "text": [
      "In /usr/global/Anaconda/2019-10/envs/cml37/lib/python3.7/site-packages/matplotlib/mpl-data/stylelib/_classic_test.mplstyle: \n",
      "The text.latex.preview rcparam was deprecated in Matplotlib 3.3 and will be removed two minor releases later.\n",
      "In /usr/global/Anaconda/2019-10/envs/cml37/lib/python3.7/site-packages/matplotlib/mpl-data/stylelib/_classic_test.mplstyle: \n",
      "The mathtext.fallback_to_cm rcparam was deprecated in Matplotlib 3.3 and will be removed two minor releases later.\n",
      "In /usr/global/Anaconda/2019-10/envs/cml37/lib/python3.7/site-packages/matplotlib/mpl-data/stylelib/_classic_test.mplstyle: Support for setting the 'mathtext.fallback_to_cm' rcParam is deprecated since 3.3 and will be removed two minor releases later; use 'mathtext.fallback : 'cm' instead.\n",
      "In /usr/global/Anaconda/2019-10/envs/cml37/lib/python3.7/site-packages/matplotlib/mpl-data/stylelib/_classic_test.mplstyle: \n",
      "The validate_bool_maybe_none function was deprecated in Matplotlib 3.3 and will be removed two minor releases later.\n",
      "In /usr/global/Anaconda/2019-10/envs/cml37/lib/python3.7/site-packages/matplotlib/mpl-data/stylelib/_classic_test.mplstyle: \n",
      "The savefig.jpeg_quality rcparam was deprecated in Matplotlib 3.3 and will be removed two minor releases later.\n",
      "In /usr/global/Anaconda/2019-10/envs/cml37/lib/python3.7/site-packages/matplotlib/mpl-data/stylelib/_classic_test.mplstyle: \n",
      "The keymap.all_axes rcparam was deprecated in Matplotlib 3.3 and will be removed two minor releases later.\n",
      "In /usr/global/Anaconda/2019-10/envs/cml37/lib/python3.7/site-packages/matplotlib/mpl-data/stylelib/_classic_test.mplstyle: \n",
      "The animation.avconv_path rcparam was deprecated in Matplotlib 3.3 and will be removed two minor releases later.\n",
      "In /usr/global/Anaconda/2019-10/envs/cml37/lib/python3.7/site-packages/matplotlib/mpl-data/stylelib/_classic_test.mplstyle: \n",
      "The animation.avconv_args rcparam was deprecated in Matplotlib 3.3 and will be removed two minor releases later.\n"
     ]
    }
   ],
   "source": [
    "# Standard library imports\n",
    "from collections import OrderedDict as od\n",
    "from glob import glob\n",
    "from importlib import reload\n",
    "import inspect\n",
    "import itertools\n",
    "import os\n",
    "import os.path as op\n",
    "import random\n",
    "import sys\n",
    "from time import time\n",
    "import warnings\n",
    "\n",
    "# Third party imports\n",
    "import cv2 as cv2\n",
    "import h5py\n",
    "import matplotlib as mpl # plotting\n",
    "from matplotlib.lines import Line2D # plotting\n",
    "import matplotlib.patches as patches # plotting \n",
    "import matplotlib.pyplot as plt # plotting\n",
    "import matplotlib.gridspec as gridspec  # plotting\n",
    "import numpy as np # functions to analyze and manipulate arrays & matrices\n",
    "import pandas as pd # dataframes\n",
    "import scipy.interpolate as interp # scientific computation \n",
    "import scipy.io as sio # scientific computation \n",
    "import scipy.stats as stats # scientific computation \n",
    "import scipy.ndimage as ndi\n",
    "from scipy import signal\n",
    "import seaborn as sns # plotting\n",
    "from sklearn.decomposition import PCA # tools for machine learning and statistical modeling. Useful for predictions of unobserved values.\n",
    "import statsmodels.api as sm # tools for statistical analysis. Useful for statistical inference and statistical hypothesis testing.\n",
    "from statsmodels.formula.api import ols\n",
    "\n",
    "# Local application imports\n",
    "sys.path.append('/home1/cjmac/code/general')\n",
    "sys.path.append('/home1/cjmac/code/manning_replication')\n",
    "sys.path.append('/home1/cjmac/code/projects/')\n",
    "import array_operations as aop # for coding\n",
    "import data_io as dio # for coding\n",
    "from eeg_plotting import plot_trace, plot_trace2 #plotting\n",
    "from time_cells import spike_sorting, spike_preproc, events_preproc, events_proc, time_bin_analysis, trial_phase_analysis # processing eeg data\n",
    "\n",
    "# Initializing commands\n",
    "%matplotlib inline\n",
    "warnings.filterwarnings( 'ignore' )\n",
    "pd.options.display.max_rows = 500\n",
    "pd.options.display.max_columns = 999\n",
    "\n",
    "# Plotting parameters\n",
    "mpl.rcParams['grid.linewidth'] = 0.1\n",
    "mpl.rcParams['grid.alpha'] = 0.75\n",
    "mpl.rcParams['lines.linewidth'] = 1\n",
    "mpl.rcParams['lines.markersize'] = 3\n",
    "mpl.rcParams['xtick.labelsize'] = 15\n",
    "mpl.rcParams['ytick.labelsize'] = 15 \n",
    "colors = ['1f77b4', 'd62728', '2ca02c', 'ff7f0e', '9467bd', \n",
    "          '8c564b', 'e377c2', '7f7f7f', 'bcbd22', '17becf']\n",
    "mpl.rcParams['axes.prop_cycle'] = mpl.cycler('color', colors)\n",
    "mpl.rcParams['axes.spines.right'] = False\n",
    "mpl.rcParams['axes.spines.top'] = False\n",
    "mpl.rcParams['axes.formatter.offset_threshold'] = 2\n",
    "mpl.rcParams['axes.labelsize'] = 17\n",
    "mpl.rcParams['axes.labelpad'] = 10\n",
    "mpl.rcParams['axes.titlesize'] = 19\n",
    "mpl.rcParams['axes.grid'] = True\n",
    "mpl.rcParams['axes.axisbelow'] = True\n",
    "mpl.rcParams['legend.loc'] = 'upper right'\n",
    "mpl.rcParams['legend.fontsize'] = 15\n",
    "mpl.rcParams['legend.frameon'] = False\n",
    "mpl.rcParams['figure.dpi'] = 300\n",
    "mpl.rcParams['figure.titlesize'] = 19\n",
    "mpl.rcParams['figure.figsize'] = (6.85039, 4.79527) \n",
    "mpl.rcParams['figure.subplot.wspace'] = 0.25 \n",
    "mpl.rcParams['figure.subplot.hspace'] = 0.25 \n",
    "mpl.rcParams['font.sans-serif'] = ['Helvetica']\n",
    "mpl.rcParams['savefig.format'] = 'pdf'\n",
    "mpl.rcParams['pdf.fonttype'] = 42\n",
    "# warnings.filterwarnings( 'default' )\n",
    "\n",
    "# Plotting colors\n",
    "n = 4\n",
    "c = 2\n",
    "colors = [sns.color_palette('Blues', n)[c], \n",
    "          sns.color_palette('Reds', n)[c], \n",
    "          sns.color_palette('Greens', n)[c],\n",
    "          sns.color_palette('Purples', n)[c],\n",
    "          sns.color_palette('Oranges', n)[c],\n",
    "          sns.color_palette('Greys', n)[c],\n",
    "          sns.color_palette('YlOrBr', n+3)[c],\n",
    "          'k']\n",
    "cmap = sns.palettes.blend_palette((colors[0], \n",
    "                                   'w',\n",
    "                                   colors[1]), 501)\n",
    "# Plotting font\n",
    "font = {'tick': 12,\n",
    "        'label': 14,\n",
    "        'fig': 16}"
   ]
  },
  {
   "cell_type": "markdown",
   "metadata": {
    "tags": []
   },
   "source": [
    "## Perform alignment (or not)"
   ]
  },
  {
   "cell_type": "code",
   "execution_count": 2,
   "metadata": {},
   "outputs": [],
   "source": [
    "subj_sess = 'U540_ses0'\n",
    "\n",
    "# Load the sync channel.\n",
    "# sync_chan = events_preproc.load_syncs(subj_sess, data_key='data')\n",
    "sync_chan, TTL, timestamp_flag = events_preproc.load_syncs(subj_sess, data_key='data')"
   ]
  },
  {
   "cell_type": "code",
   "execution_count": 3,
   "metadata": {},
   "outputs": [
    {
     "name": "stdout",
     "output_type": "stream",
     "text": [
      "The first timestamp in events before zero-ing is 1627593194100.360\n",
      "The first timestamp in events after zero-ing is 0.000\n",
      "85458 events recorded over 68 min and 52 sec\n",
      "The first timestamp in lfp_timestamps before zero-ing & before conv factor is 0.000\n",
      "The first timestamp in lfp_timestamps before zero-ing & after conv factor is 0.000\n",
      "The first timestamp in lfp_timestamps after zero-ing & conv factor is 0.000\n",
      "Conversion factor is 1\n",
      "123945508 timestamps over 68 min and 51.5 s\n",
      "Sampling rate is 30000 Hz\n",
      "> /home1/cjmac/code/projects/time_cells/events_preproc.py(167)find_pulse_starts()\n",
      "-> interpulse_thresh = interpulse_thresh_ms * (sampling_rate / 1000)\n"
     ]
    },
    {
     "name": "stdin",
     "output_type": "stream",
     "text": [
      "(Pdb)  ipis\n"
     ]
    },
    {
     "name": "stdout",
     "output_type": "stream",
     "text": [
      "array([ 7956,   388, 26096, ...,   427, 25521,   396])\n"
     ]
    },
    {
     "name": "stdin",
     "output_type": "stream",
     "text": [
      "(Pdb)  interpulse_thresh_ms\n"
     ]
    },
    {
     "name": "stdout",
     "output_type": "stream",
     "text": [
      "790\n"
     ]
    },
    {
     "name": "stdin",
     "output_type": "stream",
     "text": [
      "(Pdb)  intrapulse_thresh_ms\n"
     ]
    },
    {
     "name": "stdout",
     "output_type": "stream",
     "text": [
      "20\n"
     ]
    },
    {
     "name": "stdin",
     "output_type": "stream",
     "text": [
      "(Pdb)  q\n"
     ]
    },
    {
     "ename": "BdbQuit",
     "evalue": "",
     "output_type": "error",
     "traceback": [
      "\u001b[0;31m---------------------------------------------------------------------------\u001b[0m",
      "\u001b[0;31mBdbQuit\u001b[0m                                   Traceback (most recent call last)",
      "\u001b[0;32m<ipython-input-3-0002d2c73677>\u001b[0m in \u001b[0;36m<module>\u001b[0;34m()\u001b[0m\n\u001b[1;32m     12\u001b[0m                                                        \u001b[0mpulse_thresh\u001b[0m\u001b[0;34m=\u001b[0m\u001b[0;36m200\u001b[0m\u001b[0;34m,\u001b[0m\u001b[0;34m\u001b[0m\u001b[0;34m\u001b[0m\u001b[0m\n\u001b[1;32m     13\u001b[0m                                                        \u001b[0mintrapulse_thresh_ms\u001b[0m\u001b[0;34m=\u001b[0m\u001b[0;36m20\u001b[0m\u001b[0;34m,\u001b[0m\u001b[0;34m\u001b[0m\u001b[0;34m\u001b[0m\u001b[0m\n\u001b[0;32m---> 14\u001b[0;31m                                                        \u001b[0minterpulse_thresh_ms\u001b[0m\u001b[0;34m=\u001b[0m\u001b[0;36m790\u001b[0m\u001b[0;34m\u001b[0m\u001b[0;34m\u001b[0m\u001b[0m\n\u001b[0m\u001b[1;32m     15\u001b[0m                                                       )\n\u001b[1;32m     16\u001b[0m \u001b[0;34m\u001b[0m\u001b[0m\n",
      "\u001b[0;32m/home1/cjmac/code/projects/time_cells/events_preproc.py\u001b[0m in \u001b[0;36mfind_pulse_starts\u001b[0;34m(sync_chan, pulse_thresh, sampling_rate, interpulse_thresh_ms, intrapulse_thresh_ms, pos_only, verbose)\u001b[0m\n\u001b[1;32m    165\u001b[0m     \u001b[0;31m# Identify the start of each pulse by finding suprathreshold\u001b[0m\u001b[0;34m\u001b[0m\u001b[0;34m\u001b[0m\u001b[0;34m\u001b[0m\u001b[0m\n\u001b[1;32m    166\u001b[0m     \u001b[0;31m# inter-pulse intervals that are followed by a short IPI.\u001b[0m\u001b[0;34m\u001b[0m\u001b[0;34m\u001b[0m\u001b[0;34m\u001b[0m\u001b[0m\n\u001b[0;32m--> 167\u001b[0;31m     \u001b[0minterpulse_thresh\u001b[0m \u001b[0;34m=\u001b[0m \u001b[0minterpulse_thresh_ms\u001b[0m \u001b[0;34m*\u001b[0m \u001b[0;34m(\u001b[0m\u001b[0msampling_rate\u001b[0m \u001b[0;34m/\u001b[0m \u001b[0;36m1000\u001b[0m\u001b[0;34m)\u001b[0m\u001b[0;34m\u001b[0m\u001b[0;34m\u001b[0m\u001b[0m\n\u001b[0m\u001b[1;32m    168\u001b[0m     \u001b[0mintrapulse_thresh\u001b[0m \u001b[0;34m=\u001b[0m \u001b[0mintrapulse_thresh_ms\u001b[0m \u001b[0;34m*\u001b[0m \u001b[0;34m(\u001b[0m\u001b[0msampling_rate\u001b[0m \u001b[0;34m/\u001b[0m \u001b[0;36m1000\u001b[0m\u001b[0;34m)\u001b[0m\u001b[0;34m\u001b[0m\u001b[0;34m\u001b[0m\u001b[0m\n\u001b[1;32m    169\u001b[0m     pulse_startinds = pulse_inds[[i for i in range(len(ipis)-1) \n",
      "\u001b[0;32m/home1/cjmac/code/projects/time_cells/events_preproc.py\u001b[0m in \u001b[0;36mfind_pulse_starts\u001b[0;34m(sync_chan, pulse_thresh, sampling_rate, interpulse_thresh_ms, intrapulse_thresh_ms, pos_only, verbose)\u001b[0m\n\u001b[1;32m    165\u001b[0m     \u001b[0;31m# Identify the start of each pulse by finding suprathreshold\u001b[0m\u001b[0;34m\u001b[0m\u001b[0;34m\u001b[0m\u001b[0;34m\u001b[0m\u001b[0m\n\u001b[1;32m    166\u001b[0m     \u001b[0;31m# inter-pulse intervals that are followed by a short IPI.\u001b[0m\u001b[0;34m\u001b[0m\u001b[0;34m\u001b[0m\u001b[0;34m\u001b[0m\u001b[0m\n\u001b[0;32m--> 167\u001b[0;31m     \u001b[0minterpulse_thresh\u001b[0m \u001b[0;34m=\u001b[0m \u001b[0minterpulse_thresh_ms\u001b[0m \u001b[0;34m*\u001b[0m \u001b[0;34m(\u001b[0m\u001b[0msampling_rate\u001b[0m \u001b[0;34m/\u001b[0m \u001b[0;36m1000\u001b[0m\u001b[0;34m)\u001b[0m\u001b[0;34m\u001b[0m\u001b[0;34m\u001b[0m\u001b[0m\n\u001b[0m\u001b[1;32m    168\u001b[0m     \u001b[0mintrapulse_thresh\u001b[0m \u001b[0;34m=\u001b[0m \u001b[0mintrapulse_thresh_ms\u001b[0m \u001b[0;34m*\u001b[0m \u001b[0;34m(\u001b[0m\u001b[0msampling_rate\u001b[0m \u001b[0;34m/\u001b[0m \u001b[0;36m1000\u001b[0m\u001b[0;34m)\u001b[0m\u001b[0;34m\u001b[0m\u001b[0;34m\u001b[0m\u001b[0m\n\u001b[1;32m    169\u001b[0m     pulse_startinds = pulse_inds[[i for i in range(len(ipis)-1) \n",
      "\u001b[0;32m/usr/global/Anaconda/2019-10/envs/cml37/lib/python3.7/bdb.py\u001b[0m in \u001b[0;36mtrace_dispatch\u001b[0;34m(self, frame, event, arg)\u001b[0m\n\u001b[1;32m     86\u001b[0m             \u001b[0;32mreturn\u001b[0m \u001b[0;31m# None\u001b[0m\u001b[0;34m\u001b[0m\u001b[0;34m\u001b[0m\u001b[0m\n\u001b[1;32m     87\u001b[0m         \u001b[0;32mif\u001b[0m \u001b[0mevent\u001b[0m \u001b[0;34m==\u001b[0m \u001b[0;34m'line'\u001b[0m\u001b[0;34m:\u001b[0m\u001b[0;34m\u001b[0m\u001b[0;34m\u001b[0m\u001b[0m\n\u001b[0;32m---> 88\u001b[0;31m             \u001b[0;32mreturn\u001b[0m \u001b[0mself\u001b[0m\u001b[0;34m.\u001b[0m\u001b[0mdispatch_line\u001b[0m\u001b[0;34m(\u001b[0m\u001b[0mframe\u001b[0m\u001b[0;34m)\u001b[0m\u001b[0;34m\u001b[0m\u001b[0;34m\u001b[0m\u001b[0m\n\u001b[0m\u001b[1;32m     89\u001b[0m         \u001b[0;32mif\u001b[0m \u001b[0mevent\u001b[0m \u001b[0;34m==\u001b[0m \u001b[0;34m'call'\u001b[0m\u001b[0;34m:\u001b[0m\u001b[0;34m\u001b[0m\u001b[0;34m\u001b[0m\u001b[0m\n\u001b[1;32m     90\u001b[0m             \u001b[0;32mreturn\u001b[0m \u001b[0mself\u001b[0m\u001b[0;34m.\u001b[0m\u001b[0mdispatch_call\u001b[0m\u001b[0;34m(\u001b[0m\u001b[0mframe\u001b[0m\u001b[0;34m,\u001b[0m \u001b[0marg\u001b[0m\u001b[0;34m)\u001b[0m\u001b[0;34m\u001b[0m\u001b[0;34m\u001b[0m\u001b[0m\n",
      "\u001b[0;32m/usr/global/Anaconda/2019-10/envs/cml37/lib/python3.7/bdb.py\u001b[0m in \u001b[0;36mdispatch_line\u001b[0;34m(self, frame)\u001b[0m\n\u001b[1;32m    111\u001b[0m         \u001b[0;32mif\u001b[0m \u001b[0mself\u001b[0m\u001b[0;34m.\u001b[0m\u001b[0mstop_here\u001b[0m\u001b[0;34m(\u001b[0m\u001b[0mframe\u001b[0m\u001b[0;34m)\u001b[0m \u001b[0;32mor\u001b[0m \u001b[0mself\u001b[0m\u001b[0;34m.\u001b[0m\u001b[0mbreak_here\u001b[0m\u001b[0;34m(\u001b[0m\u001b[0mframe\u001b[0m\u001b[0;34m)\u001b[0m\u001b[0;34m:\u001b[0m\u001b[0;34m\u001b[0m\u001b[0;34m\u001b[0m\u001b[0m\n\u001b[1;32m    112\u001b[0m             \u001b[0mself\u001b[0m\u001b[0;34m.\u001b[0m\u001b[0muser_line\u001b[0m\u001b[0;34m(\u001b[0m\u001b[0mframe\u001b[0m\u001b[0;34m)\u001b[0m\u001b[0;34m\u001b[0m\u001b[0;34m\u001b[0m\u001b[0m\n\u001b[0;32m--> 113\u001b[0;31m             \u001b[0;32mif\u001b[0m \u001b[0mself\u001b[0m\u001b[0;34m.\u001b[0m\u001b[0mquitting\u001b[0m\u001b[0;34m:\u001b[0m \u001b[0;32mraise\u001b[0m \u001b[0mBdbQuit\u001b[0m\u001b[0;34m\u001b[0m\u001b[0;34m\u001b[0m\u001b[0m\n\u001b[0m\u001b[1;32m    114\u001b[0m         \u001b[0;32mreturn\u001b[0m \u001b[0mself\u001b[0m\u001b[0;34m.\u001b[0m\u001b[0mtrace_dispatch\u001b[0m\u001b[0;34m\u001b[0m\u001b[0;34m\u001b[0m\u001b[0m\n\u001b[1;32m    115\u001b[0m \u001b[0;34m\u001b[0m\u001b[0m\n",
      "\u001b[0;31mBdbQuit\u001b[0m: "
     ]
    }
   ],
   "source": [
    "if not timestamp_flag: \n",
    "     \n",
    "    # Read events file and get event synctimes.\n",
    "    events, event_synctimes = events_preproc.read_events_json(subj_sess)\n",
    "\n",
    "    # Load LFP timestamps. LFP timestamps must be in msec\n",
    "    lfp_timestamps, sr = spike_sorting.load_lfp_timestamps(subj_sess, start_at_zero=False)\n",
    "\n",
    "    # Identify sync pulses in the sync channel EEG. The sync channel EEG is typically sampled at a different rate than the physiological EEG.\n",
    "    pulse_startinds = events_preproc.find_pulse_starts(sync_chan, \n",
    "                                                       sampling_rate=sr, \n",
    "                                                       pulse_thresh=200, \n",
    "                                                       intrapulse_thresh_ms=20, \n",
    "                                                       interpulse_thresh_ms=790\n",
    "                                                      )\n",
    "    \n",
    "    lfp_synctimes = lfp_timestamps[pulse_startinds]\n",
    "    \n",
    "    print('Detected {} syncs for {} sync pulse events'.format(len(pulse_startinds), len(events.loc[events.key=='syncPulse', 'time'])))\n",
    "\n",
    "    subj, sess = subj_sess.split('_')\n",
    "    sync_f = os.path.join('/home1/cjmac/projects/time_cells', 'data', subj, sess, 'sync', 'sync_channel_micro.mat')\n",
    "\n",
    "\n",
    "    # Find matching sync pulse pairs.\n",
    "    event_synctimes_adj, lfp_synctimes_adj = events_preproc.pair_sync_pulses(event_synctimes, \n",
    "                                                                             lfp_synctimes, \n",
    "                                                                             step=5, \n",
    "                                                                             max_shift=200, \n",
    "                                                                             max_slide=50, \n",
    "                                                                             ipi_thresh=2\n",
    "                                                                            )\n",
    "    # Perform the alignment.\n",
    "    alignment = events_preproc.align_sync_pulses(event_synctimes_adj, \n",
    "                                                 lfp_synctimes_adj)\n",
    "    \n",
    "    # Apply the alignment to all event times.\n",
    "    events['time'] = events['time'].apply(lambda x: alignment['sync_params']['intercept'] + (alignment['sync_params']['slope'] * x))    \n",
    "    \n",
    "    flag_plot = 1     \n",
    "    if (flag_plot):\n",
    "        # How did our alignment go?\n",
    "        print('{} event sync pulses'.format(len(event_synctimes_adj)))\n",
    "        print('{} LFP sync pulses identified'.format(len(lfp_synctimes_adj)))\n",
    "        print('\\n--------------------\\nAlignment parameters\\n--------------------')\n",
    "        for k, v in alignment.items():\n",
    "            print('{}: {}'.format(k, v))\n",
    "\n",
    "        plt.close()\n",
    "        fig, ax = plt.subplots(1, 3, figsize=(16, 6), dpi=300)\n",
    "        ax = np.ravel(ax)\n",
    "\n",
    "        min_syncs = np.min((len(event_synctimes_adj), len(lfp_synctimes_adj)))\n",
    "        start = 0\n",
    "        stop = None\n",
    "\n",
    "        i = 0\n",
    "        ax[i].scatter(np.diff(event_synctimes_adj), np.diff(lfp_synctimes_adj))\n",
    "        ax[i].set_xlabel('$Event_{IPI}$', fontsize=font['label'], labelpad=8)\n",
    "        ax[i].set_ylabel('$LFP_{IPI}$', fontsize=font['label'], labelpad=8)\n",
    "        ax[i].set_title('Inter-pulse interval correlation', fontsize=font['fig'], y=1.05)\n",
    "\n",
    "        i = 1\n",
    "        ax[i].plot(np.diff(lfp_synctimes_adj)[start:stop] - np.diff(event_synctimes_adj)[start:stop])\n",
    "        ax[i].plot(np.diff(lfp_synctimes_adj)[start:stop] - np.diff(event_synctimes_adj)[start:stop])\n",
    "        ax[i].set_xlabel('Sync no.', fontsize=font['label'], labelpad=8)\n",
    "        ax[i].set_ylabel('Time (ms)', fontsize=font['label'], labelpad=8)\n",
    "        ax[i].set_title('$LFP_{IPI} - Event_{IPI}$', fontsize=font['fig'], y=1.05)\n",
    "\n",
    "        i = 2\n",
    "        ax[i].plot(lfp_synctimes_adj[start:stop] - event_synctimes_adj[start:stop])\n",
    "        ax[i].set_xlabel('Sync no.', fontsize=font['label'], labelpad=8)\n",
    "        ax[i].set_ylabel('Time (ms)', fontsize=font['label'], labelpad=8)\n",
    "        ax[i].set_title('LFP - Event synctimes', fontsize=font['fig'], y=1.05)\n",
    "\n",
    "        for i in range(len(ax)):\n",
    "            ax[i].tick_params(axis='both', which='major', labelsize=font['tick'])\n",
    "        fig.tight_layout()\n",
    "\n",
    "        event_synctimes = events.loc[events['key']=='syncPulse', 'time'].values\n",
    "        event_pulse_inds = (np.array([x for x in (event_synctimes-lfp_timestamps[0]) * (sr/1e3) \n",
    "                                      if x<len(lfp_timestamps)])).astype(np.int64)\n",
    "        event_pulse_startinds_train = np.zeros(len(sync_chan))\n",
    "        event_pulse_startinds_train[event_pulse_inds] = 1\n",
    "\n",
    "        fig, ax = plot_trace2(sync_chan, spike_dat=event_pulse_startinds_train,\n",
    "                              start=300, duration=30, nwin=6, x_units='secs', sampling_rate=sr)  \n",
    "else:    \n",
    "    # Read events file and get event synctimes in msec.\n",
    "    events, event_synctimes = events_preproc.read_events_json( subj_sess, start_at_zero = False  )\n",
    "    \n",
    "    # Load LFP timestamps in msec\n",
    "    lfp_timestamps, sr = spike_sorting.load_lfp_timestamps( subj_sess, start_at_zero = True, conv_factor = 'infer' )\n",
    "\n",
    "    if (False):\n",
    "        #\n",
    "        sync_chan_new = sync_chan.copy()\n",
    "        sync_chan_new *= 1000 ; # converts to msec\n",
    "        sync_chan_new = sync_chan_new - sync_chan_new[0] #sync_chan_new and sync_chan are shorter in length than lfp_timestamps bc of different sampling frequency\n",
    "        TTL_new = TTL.copy()\n",
    "        TTL_new[np.where(TTL != 255)] = 0\n",
    "        from scipy import interpolate\n",
    "        f = interpolate.interp1d(sync_chan_new, TTL_new, kind = 'next', fill_value='extrapolate')\n",
    "        TTL_up = f(lfp_timestamps)\n",
    "\n",
    "        flag_plot = 0\n",
    "        if flag_plot:\n",
    "            ind_range_1 = [ 0, 100000 ] \n",
    "            fig, ax = plt.subplots(1, 1, figsize=(16, 6), dpi=300)\n",
    "            plt.plot(lfp_timestamps[ slice( ind_range_1[0], ind_range_1[1], 1)], \n",
    "                     TTL_up[ slice( ind_range_1[0], ind_range_1[1], 1)],\n",
    "                     marker = 'o', color = 'blue', linestyle = 'none', markersize = 8 )\n",
    "\n",
    "        pulse_startinds = np.where(TTL_up == 255)[0] \n",
    "        lfp_synctimes = lfp_timestamps[pulse_startinds]\n",
    "        \n",
    "        # \n",
    "        flag_plot = 0\n",
    "        if flag_plot:\n",
    "            time_range = [ 30000, 100000 ] \n",
    "            ind_lfp_synctimes = np.where(np.logical_and(lfp_synctimes>=time_range[0], lfp_synctimes<=time_range[1]))\n",
    "            ind_event_synctimes= np.where(np.logical_and(event_synctimes>=time_range[0], event_synctimes<=time_range[1]))\n",
    "            fig, ax = plt.subplots(1, 1, figsize=(30, 10), dpi=300)\n",
    "            plt.plot(lfp_synctimes[ ind_lfp_synctimes ], \n",
    "                     np.full( ( 1, len( ind_lfp_synctimes[0] ) ), 255 )[0],\n",
    "                     marker = 'o', color = 'blue', linestyle = 'none', markersize = 16 ) \n",
    "            plt.plot(event_synctimes[ ind_event_synctimes ], \n",
    "                     np.full( ( 1, len( ind_event_synctimes[0] ) ), 255 )[0],\n",
    "                     marker = 'x', color = 'red', linestyle = 'none', mew = 4, markersize = 16 ) \n",
    "            plt.show()   \n",
    "    \n",
    "    else:\n",
    "        #\n",
    "        sync_chan_new = sync_chan.copy()\n",
    "        sync_chan_new /= 1000  # converts to msec\n",
    "#         sync_chan_new = sync_chan_new - sync_chan_new[0] # zero the timestamps\n",
    "        TTL_up = TTL.copy()\n",
    "        pulse_startinds = np.where(TTL_up == 1)[0] \n",
    "        lfp_synctimes = sync_chan_new[pulse_startinds]\n",
    "        event_synctimes = event_synctimes[2000:]"
   ]
  },
  {
   "cell_type": "code",
   "execution_count": 67,
   "metadata": {
    "tags": []
   },
   "outputs": [
    {
     "data": {
      "text/plain": [
       "True"
      ]
     },
     "execution_count": 67,
     "metadata": {},
     "output_type": "execute_result"
    }
   ],
   "source": [
    "# working on this. \n",
    "# requirements: the times must be in msec\n",
    "# compute the time difference between succesive indices in the event and lfp synctime time series\n",
    "event_synctimes_diff = np.diff(event_synctimes)\n",
    "event_synctimes_diff = np.expand_dims(event_synctimes_diff, axis = -1)\n",
    "lfp_synctimes_diff = np.diff(lfp_synctimes)\n",
    "lfp_synctimes_diff = np.expand_dims(lfp_synctimes_diff, axis = -1)\n",
    "\n",
    "# get the difference matrix for all possible combinaiotions of event_synctimes_diff and lfp_synctimes_diff\n",
    "event_lfp_pairs_diff = event_synctimes_diff - lfp_synctimes_diff.T\n",
    "\n",
    "# \n",
    "event_lfp_pairs_diff_lt = np.array(np.abs(event_lfp_pairs_diff)<2).astype('uint8')\n",
    "\n",
    "#\n",
    "kernel = np.eye(4)\n",
    "img00 = signal.convolve2d(np.array(signal.convolve2d(event_lfp_pairs_diff_lt,kernel,mode='valid') == np.sum(kernel[:])).astype('uint8'),kernel,mode='full') > 0\n",
    "# convert from boolean ndarray to uint8 type. Should be an array of all zeros and ones\n",
    "img01 = np.array(img00*255, dtype = np.uint8)\n",
    "cv2.imwrite('./outputs/images/img01.jpeg', img01)"
   ]
  },
  {
   "cell_type": "code",
   "execution_count": 68,
   "metadata": {
    "tags": []
   },
   "outputs": [
    {
     "data": {
      "text/plain": [
       "True"
      ]
     },
     "execution_count": 68,
     "metadata": {},
     "output_type": "execute_result"
    }
   ],
   "source": [
    "# Read image\n",
    "image = img01.copy() #cv2.imread('path/to/image.png')\n",
    "\n",
    "# Convert image to grayscale\n",
    "gray = img01.copy() #cv2.cvtColor(image,cv2.COLOR_BGR2GRAY)\n",
    "\n",
    "# Use canny edge detection\n",
    "edges = img01.copy() #cv2.Canny(gray,50,150,apertureSize=3)\n",
    "\n",
    "# Apply HoughLinesP method to\n",
    "# to directly obtain line end points\n",
    "lines_list =[]\n",
    "lines = cv2.HoughLinesP(edges, # Input edge image\n",
    "                        1, # Distance resolution in pixels\n",
    "                        np.pi/180, # Angle resolution in radians\n",
    "                        threshold=25, # Min number of votes for valid line\n",
    "                        minLineLength=25, # Min allowed length of line\n",
    "                        maxLineGap=10 # Max allowed gap between line for joining them\n",
    "                       )\n",
    "\n",
    "# Iterate over points\n",
    "for points in lines:\n",
    "\t# Extracted points nested in the list\n",
    "\tx1,y1,x2,y2=points[0]\n",
    "\t# Draw the lines joing the points\n",
    "\t# On the original image\n",
    "\tcv2.line(image,(x1,y1),(x2,y2),(0,255,0),2)\n",
    "\t# Maintain a simples lookup list for points\n",
    "\tlines_list.append([(x1,y1),(x2,y2)])\n",
    "\t\n",
    "# Save the result image\n",
    "cv2.imwrite('./outputs/images/detectedLines.png',image)\n"
   ]
  },
  {
   "cell_type": "code",
   "execution_count": 69,
   "metadata": {
    "tags": []
   },
   "outputs": [
    {
     "data": {
      "image/png": "[encoded data removed]",
      "text/plain": [
       "<Figure size 936x936 with 1 Axes>"
      ]
     },
     "metadata": {
      "needs_background": "light"
     },
     "output_type": "display_data"
    }
   ],
   "source": [
    "# Reading image\n",
    "font = cv2.FONT_HERSHEY_COMPLEX\n",
    "img2 = cv2.imread('./outputs/images/img01.jpeg', cv2.IMREAD_COLOR)\n",
    "  \n",
    "# Reading same image in another \n",
    "# variable and converting to gray scale.\n",
    "img = cv2.imread('./outputs/images/img01.jpeg', cv2.IMREAD_GRAYSCALE)\n",
    "  \n",
    "# Converting image to a binary image\n",
    "# ( black and white only image).\n",
    "_, threshold = cv2.threshold(img, 110, 255, cv2.THRESH_BINARY)\n",
    "  \n",
    "# Detecting contours in image.\n",
    "contours, _= cv2.findContours(threshold, cv2.RETR_TREE,\n",
    "                               cv2.CHAIN_APPROX_SIMPLE)\n",
    "\n",
    "# Going through every contours found in the image.\n",
    "for cnt in contours :\n",
    "  \n",
    "    approx = cv2.approxPolyDP(cnt, 0.009 * cv2.arcLength(cnt, True), True)\n",
    "  \n",
    "    # draws boundary of contours.\n",
    "    cv2.drawContours(img2, [approx], 0, (255, 0, 0), 5) \n",
    "    \n",
    "#     # Used to flatted the array containing\n",
    "#     # the co-ordinates of the vertices.\n",
    "#     n = approx.ravel() \n",
    "#     i = 0\n",
    "    \n",
    "#     for j in n :\n",
    "#         if(i % 2 == 0):\n",
    "#             x = n[i]\n",
    "#             y = n[i + 1]\n",
    "  \n",
    "#             # String containing the co-ordinates.\n",
    "#             string = str(x) + \" \" + str(y) \n",
    "  \n",
    "#             if(i == 0):\n",
    "#                 # text on topmost co-ordinate.\n",
    "#                 cv2.putText(img2, \"Arrow tip\", (x, y),\n",
    "#                                 font, 0.5, (255, 0, 0)) \n",
    "#             else:\n",
    "#                 # text on remaining co-ordinates.\n",
    "#                 cv2.putText(img2, string, (x, y), \n",
    "#                           font, 0.5, (0, 255, 0)) \n",
    "#         i = i + 1\n",
    "\n",
    "# for contour in contours:\n",
    "#     x, y, _, _ = cv2.boundingRect(contour)\n",
    "#     print(x, \" \", y)\n",
    "\n",
    "fig00, ax00 = plt.subplots(1,1, figsize=(13, 13))\n",
    "im00 = ax00.imshow(img2, origin='lower')\n",
    "\n",
    "# collect arrays in dictionary\n",
    "savedict = {'R' : img2[:,:,0], \n",
    "            'G' : img2[:,:,1],\n",
    "            'B' : img2[:,:,2],\n",
    "            'event_synctimes' : event_synctimes,\n",
    "            'lfp_synctimes' : lfp_synctimes\n",
    "           }\n",
    "\n",
    "sio.savemat('./outputs/mat/img2.mat', savedict)\n",
    "\n",
    "\n",
    "\n",
    "# # Reading image\n",
    "# font = cv2.FONT_HERSHEY_COMPLEX\n",
    "# img2 = cv2.imread('test.jpeg', cv2.IMREAD_COLOR)\n",
    "# # sio.savemat(\"img2.mat\", img2)\n",
    "\n",
    "# # collect arrays in dictionary\n",
    "# savedict = {'R' : img2[:,:,0], \n",
    "#             'G' : img2[:,:,1],\n",
    "#             'B' : img2[:,:,2]\n",
    "#            }\n",
    "\n",
    "# save to disk\n",
    "# sio.savemat('./outputs/mat/img2.mat', savedict)\n",
    "\n",
    "# cv2.imwrite('./outputs/images/img01.jpeg', img01)\n",
    "# test00 = cv2.imread('./outputs/images/img01.jpeg', cv2.IMREAD_GRAYSCALE)\n",
    "# test00.shape"
   ]
  },
  {
   "cell_type": "code",
   "execution_count": 71,
   "metadata": {
    "tags": []
   },
   "outputs": [
    {
     "name": "stdout",
     "output_type": "stream",
     "text": [
      "[[10  0]\n",
      " [11  1]\n",
      " [12  2]\n",
      " [13  3]\n",
      " [14  4]\n",
      " [15  5]\n",
      " [16  6]\n",
      " [17  7]\n",
      " [18  8]]\n"
     ]
    }
   ],
   "source": [
    "from sklearn import linear_model\n",
    "\n",
    "# get coordinates (x,y)\n",
    "xy_coords = np.flip(np.column_stack(np.where(img01 > 0)), axis=1)\n",
    "X = xy_coords[:,0].reshape(-1,1)\n",
    "y = xy_coords[:,1].T\n",
    "print(xy_coords[0:9, :])\n",
    "\n",
    "# Robustly fit linear model with RANSAC algorithm\n",
    "ransac = linear_model.RANSACRegressor(base_estimator=linear_model.LinearRegression(fit_intercept=True))\n",
    "ransac.fit(X, y)"
   ]
  },
  {
   "cell_type": "code",
   "execution_count": 76,
   "metadata": {
    "tags": []
   },
   "outputs": [
    {
     "data": {
      "text/plain": [
       "-12.256791677189085"
      ]
     },
     "execution_count": 76,
     "metadata": {},
     "output_type": "execute_result"
    }
   ],
   "source": [
    "ransac.estimator_.intercept_"
   ]
  },
  {
   "cell_type": "code",
   "execution_count": 75,
   "metadata": {
    "tags": []
   },
   "outputs": [],
   "source": []
  },
  {
   "cell_type": "code",
   "execution_count": 75,
   "metadata": {
    "tags": []
   },
   "outputs": [],
   "source": [
    "flag_plot = 0\n",
    "if (flag_plot):\n",
    "    \n",
    "    # Fit line using all data\n",
    "    lr = linear_model.LinearRegression()\n",
    "    lr.fit(X, y)\n",
    "\n",
    "    \n",
    "    inlier_mask = ransac.inlier_mask_\n",
    "    outlier_mask = np.logical_not(inlier_mask)\n",
    "\n",
    "    # Predict data of estimated models\n",
    "    line_X = np.arange(X.min(), X.max())[:, np.newaxis]\n",
    "    line_y = lr.predict(line_X)\n",
    "    line_y_ransac = ransac.predict(line_X)\n",
    "\n",
    "    # Compare estimated coefficients\n",
    "    print(\"Estimated coefficients (true, linear regression, RANSAC):\")\n",
    "    print(coef, lr.coef_, ransac.estimator_.coef_)\n",
    "\n",
    "    lw = 2\n",
    "    plt.scatter(\n",
    "        X[inlier_mask], y[inlier_mask], color=\"green\", marker=\".\", label=\"Inliers\"\n",
    "    )\n",
    "    plt.scatter(\n",
    "        X[outlier_mask], y[outlier_mask], color=\"red\", marker=\".\", label=\"Outliers\"\n",
    "    )\n",
    "    # plt.plot(line_X, line_y, color=\"navy\", linewidth=lw, label=\"Linear regressor\")\n",
    "    # plt.plot(\n",
    "    #     line_X,\n",
    "    #     line_y_ransac,\n",
    "    #     color=\"cornflowerblue\",\n",
    "    #     linewidth=lw,\n",
    "    #     label=\"RANSAC regressor\",\n",
    "    # )\n",
    "    plt.legend(loc=\"lower right\")\n",
    "    plt.xlabel(\"Input\")\n",
    "    plt.ylabel(\"Response\")\n",
    "    plt.show()"
   ]
  },
  {
   "cell_type": "code",
   "execution_count": 66,
   "metadata": {
    "tags": []
   },
   "outputs": [
    {
     "data": {
      "text/plain": [
       "array([1.00787922])"
      ]
     },
     "execution_count": 66,
     "metadata": {},
     "output_type": "execute_result"
    }
   ],
   "source": [
    "ransac.estimator_.coef_\n",
    "\n",
    "\n"
   ]
  },
  {
   "cell_type": "code",
   "execution_count": null,
   "metadata": {
    "tags": []
   },
   "outputs": [],
   "source": []
  },
  {
   "cell_type": "code",
   "execution_count": null,
   "metadata": {
    "tags": []
   },
   "outputs": [],
   "source": []
  },
  {
   "cell_type": "code",
   "execution_count": null,
   "metadata": {},
   "outputs": [],
   "source": [
    "    "
   ]
  },
  {
   "cell_type": "code",
   "execution_count": null,
   "metadata": {
    "tags": []
   },
   "outputs": [],
   "source": [
    "flag_plot = 0\n",
    "if flag_plot:\n",
    "    time_range = [ 30000, 100000 ] \n",
    "    ind_lfp_synctimes = np.where(np.logical_and(lfp_synctimes>=time_range[0], lfp_synctimes<=time_range[1]))\n",
    "    ind_event_synctimes= np.where(np.logical_and(event_synctimes>=time_range[0], event_synctimes<=time_range[1]))\n",
    "    fig, ax = plt.subplots(1, 1, figsize=(30, 10), dpi=300)\n",
    "    plt.plot(lfp_synctimes[ ind_lfp_synctimes ], \n",
    "             np.full( ( 1, len( ind_lfp_synctimes[0] ) ), 255 )[0],\n",
    "             marker = 'o', color = 'blue', linestyle = 'none', markersize = 16 ) \n",
    "    plt.plot(event_synctimes[ ind_event_synctimes ], \n",
    "             np.full( ( 1, len( ind_event_synctimes[0] ) ), 255 )[0],\n",
    "             marker = 'x', color = 'red', linestyle = 'none', mew = 4, markersize = 16 ) \n",
    "    plt.show()  \n",
    "    \n",
    "# need a way to check (a) if time is in UNIX time or ? AND (b) if UNIX time is in us, ms, or s.\n",
    "\n",
    "flag_plot = 0\n",
    "# Creating histogram\n",
    "if flag_plot:\n",
    "    fig, ax = plt.subplots(figsize=[8, 8], sharex = 'col', sharey = 'row')\n",
    "    ax = plt.subplot(2, 1, 1)\n",
    "    ax.hist(np.diff(event_synctimes), bins = range(0, 2000, 10))\n",
    "    ax = plt.subplot(2, 1, 2)\n",
    "    ax.hist(np.diff(lfp_synctimes), bins = range(0, 2000, 10))   \n",
    "    \n",
    "# \n",
    "flag_plot = 0\n",
    "if flag_plot:\n",
    "    time_range = [ 30000, 50000 ] \n",
    "    ind_lfp_synctimes = np.where(np.logical_and(lfp_synctimes>=time_range[0], lfp_synctimes<=time_range[1]))\n",
    "    ind_event_synctimes= np.where(np.logical_and(event_synctimes>=time_range[0], event_synctimes<=time_range[1]))\n",
    "    fig, ax = plt.subplots(1, 1, figsize=(30, 10), dpi=300)\n",
    "    plt.plot(lfp_synctimes[ ind_lfp_synctimes ], \n",
    "             np.full( ( 1, len( ind_lfp_synctimes[0] ) ), 255 )[0],\n",
    "             marker = 'o', color = 'blue', linestyle = 'none', markersize = 16 ) \n",
    "    plt.plot(event_synctimes[ ind_event_synctimes ], \n",
    "             np.full( ( 1, len( ind_event_synctimes[0] ) ), 255 )[0],\n",
    "             marker = 'x', color = 'red', linestyle = 'none', mew = 4, markersize = 16 ) \n",
    "    plt.show()  \n",
    "    \n",
    "#\n",
    "print('Detected {} syncs for {} sync pulse events'.format(len(pulse_startinds), len(events.loc[events.key=='syncPulse', 'time'])))\n",
    "\n",
    "subj, sess = subj_sess.split('_')\n",
    "sync_f = os.path.join('/home1/cjmac/projects/time_cells', 'data', subj, sess, 'sync', 'sync_channel_micro.mat')"
   ]
  },
  {
   "cell_type": "code",
   "execution_count": null,
   "metadata": {},
   "outputs": [],
   "source": [
    "# Find matching sync pulse pairs.\n",
    "event_synctimes_adj, lfp_synctimes_adj = events_preproc.pair_sync_pulses(event_synctimes, \n",
    "                                                                         lfp_synctimes, \n",
    "                                                                         step=5, \n",
    "                                                                         max_shift=250, \n",
    "                                                                         max_slide=50, \n",
    "                                                                         ipi_thresh=2\n",
    "                                                                        )\n",
    "                                           "
   ]
  },
  {
   "cell_type": "code",
   "execution_count": null,
   "metadata": {},
   "outputs": [],
   "source": [
    "# all_value = pd.DataFrame(events.value.tolist())\n",
    "# # events.to_csv('./outputs/csv/events_all.csv')\n",
    "# # events[events.key=='gameState'].to_csv('./outputs/csv/events_gameState.csv')\n",
    "# # events_gs = events[events.key=='gameState' & all_value.stateName == 'InitTrial']\n",
    "# events_gs = events[(events.key == 'gameState') & (all_value.stateName == 'InitTrial')]\n",
    "# events_gs\n",
    "events.loc[events.key == 'syncPulse'].to_csv('./outputs/csv/events_all_synctimes_U540.csv')\n",
    "pd.DataFrame(lfp_synctimes).to_csv('./outputs/csv/lfp_synctimes_U540.csv')"
   ]
  },
  {
   "cell_type": "code",
   "execution_count": null,
   "metadata": {},
   "outputs": [],
   "source": [
    "events.loc[events.key == 'syncPulse'].to_csv('./outputs/csv/events_all_synctimes_U540.csv')\n",
    "pd.DataFrame(lfp_synctimes).to_csv('./outputs/csv/lfp_synctimes_U540.csv')\n",
    "# pd.DataFrame(lfp_synctimes_adj).to_csv('./outputs/csv/lfp_synctimes_adj.csv')\n",
    "# # pd.DataFrame(event_synctimes).to_csv('./outputs/csv/synctimes_events.csv')\n",
    "# # pd.DataFrame(lfp_synctimes).to_csv('./outputs/csv/synctimes_lfp.csv')\n",
    "# # pd.DataFrame(event_synctimes_adj).to_csv('./outputs/csv/synctimes_events_adj.csv')\n",
    "# # pd.DataFrame(lfp_synctimes_adj).to_csv('./outputs/csv/synctimes_lfp_adj.csv')\n",
    "\n",
    "# Perform the alignment.\n",
    "alignment = events_preproc.align_sync_pulses(event_synctimes_adj, \n",
    "                                             lfp_synctimes_adj)\n",
    "\n",
    "# Apply the alignment to all event times.\n",
    "events['time'] = events['time'].apply(lambda x: alignment['sync_params']['intercept'] + (alignment['sync_params']['slope'] * x))\n",
    "\n",
    "# events.to_csv('./outputs/csv/events_all_adj.csv')\n",
    "events.loc[events.key == 'syncPulse'].to_csv('./outputs/csv/events_all_adj_synctimes.csv')\n",
    "\n",
    "# cjm addition\n",
    "events['time'] = (events['time'] - events.at[0, 'time'])\n",
    "\n",
    "flag_plot = 0     \n",
    "if (flag_plot):\n",
    "\n",
    "    # How did our alignment go?\n",
    "    print('{} event sync pulses'.format(len(event_synctimes_adj)))\n",
    "    print('{} LFP sync pulses identified'.format(len(lfp_synctimes_adj)))\n",
    "    print('\\n--------------------\\nAlignment parameters\\n--------------------')\n",
    "    for k, v in alignment.items():\n",
    "        print('{}: {}'.format(k, v))\n",
    "\n",
    "    plt.close()\n",
    "    fig, ax = plt.subplots(1, 3, figsize=(16, 6), dpi=300)\n",
    "    ax = np.ravel(ax)\n",
    "\n",
    "    min_syncs = np.min((len(event_synctimes_adj), len(lfp_synctimes_adj)))\n",
    "    start = 0\n",
    "    stop = None\n",
    "\n",
    "    i = 0\n",
    "    ax[i].scatter(np.diff(event_synctimes_adj), np.diff(lfp_synctimes_adj))\n",
    "    ax[i].set_xlabel('$Event_{IPI}$', fontsize=font['label'], labelpad=8)\n",
    "    ax[i].set_ylabel('$LFP_{IPI}$', fontsize=font['label'], labelpad=8)\n",
    "    ax[i].set_title('Inter-pulse interval correlation', fontsize=font['fig'], y=1.05)\n",
    "\n",
    "    i = 1\n",
    "    ax[i].plot(np.diff(lfp_synctimes_adj)[start:stop] - np.diff(event_synctimes_adj)[start:stop])\n",
    "    ax[i].plot(np.diff(lfp_synctimes_adj)[start:stop] - np.diff(event_synctimes_adj)[start:stop])\n",
    "    ax[i].set_xlabel('Sync no.', fontsize=font['label'], labelpad=8)\n",
    "    ax[i].set_ylabel('Time (ms)', fontsize=font['label'], labelpad=8)\n",
    "    ax[i].set_title('$LFP_{IPI} - Event_{IPI}$', fontsize=font['fig'], y=1.05)\n",
    "\n",
    "    i = 2\n",
    "    ax[i].plot(lfp_synctimes_adj[start:stop] - event_synctimes_adj[start:stop])\n",
    "    ax[i].set_xlabel('Sync no.', fontsize=font['label'], labelpad=8)\n",
    "    ax[i].set_ylabel('Time (ms)', fontsize=font['label'], labelpad=8)\n",
    "    ax[i].set_title('LFP - Event synctimes', fontsize=font['fig'], y=1.05)\n",
    "\n",
    "    for i in range(len(ax)):\n",
    "        ax[i].tick_params(axis='both', which='major', labelsize=font['tick'])\n",
    "    fig.tight_layout()    \n",
    "\n",
    "    event_synctimes = events.loc[events['key']=='syncPulse', 'time'].values\n",
    "    event_pulse_inds = (np.array([x for x in (event_synctimes-lfp_timestamps[0]) * (sr/1e3) \n",
    "                                  if x<len(lfp_timestamps)])).astype(np.int64)\n",
    "    event_pulse_startinds_train = np.zeros(len(lfp_timestamps))\n",
    "    event_pulse_startinds_train[event_pulse_inds] = 1\n",
    "\n",
    "#     fig, ax = plot_trace2(TTL_up, spike_dat=event_pulse_startinds_train,\n",
    "#                           start=300, duration=30, nwin=6, x_units='secs', sampling_rate=sr)\n"
   ]
  },
  {
   "cell_type": "markdown",
   "metadata": {},
   "source": [
    "## Format events and spikes"
   ]
  },
  {
   "cell_type": "code",
   "execution_count": null,
   "metadata": {},
   "outputs": [],
   "source": [
    "reload(events_preproc)\n",
    "reload(events_proc)\n",
    "\n",
    "events.value"
   ]
  },
  {
   "cell_type": "code",
   "execution_count": null,
   "metadata": {},
   "outputs": [],
   "source": [
    "proc_events = True\n",
    "proc_spikes = True\n",
    "proj_dir = '/home1/cjmac/projects/time_cells'\n",
    "subj_sess = 'U555_ses0'\n",
    "run_all = True\n",
    "save_output = True\n",
    "overwrite = True\n",
    "verbose = False\n",
    "\n",
    "start_time = time()\n",
    "warnings.filterwarnings('ignore')\n",
    "\n",
    "if proc_events:\n",
    "    # Load events and event times.\n",
    "    print('Processing events data.', end='\\n\\n')\n",
    "    events = events_preproc.format_events(events=events,\n",
    "                                          noisy_trials=[],\n",
    "                                          remove_incomplete_trials=True,\n",
    "                                          remove_noisy_trials=False,\n",
    "                                          remove_paused_trials=False,\n",
    "                                          overwrite=overwrite,\n",
    "                                          save_output=save_output,\n",
    "                                          proj_dir=proj_dir,\n",
    "                                          verbose=verbose)"
   ]
  },
  {
   "cell_type": "code",
   "execution_count": null,
   "metadata": {},
   "outputs": [],
   "source": [
    "events = events_proc.load_events(subj_sess,\n",
    "                             proj_dir=proj_dir,\n",
    "                             overwrite=overwrite,\n",
    "                             verbose=verbose,\n",
    "                             run_all=run_all)"
   ]
  },
  {
   "cell_type": "code",
   "execution_count": null,
   "metadata": {},
   "outputs": [],
   "source": [
    "if save_output:\n",
    "events_proc.save_events(events,\n",
    "                        overwrite=overwrite,\n",
    "                        verbose=verbose)\n",
    "\n",
    "if proc_spikes:\n",
    "    # Load spikes.\n",
    "    print('Processing spikes data.', end='\\n\\n')\n",
    "    spikes = spike_preproc.format_spikes(subj_sess,\n",
    "                                         conv_factor='infer',\n",
    "                                         fr_thresh=0.1,\n",
    "                                         overwrite=True,\n",
    "                                         save_output=True,\n",
    "                                         split_files=True,\n",
    "                                         verbose=verbose)\n",
    "\n",
    "# warnings.resetwarnings()\n",
    "# print('Done in {:.2f} s'.format(time() - start_time))\n",
    "\n",
    "savefile = False\n",
    "overwrite = False\n",
    "\n",
    "event_spikes = time_bin_analysis.load_event_spikes(subj_sess, overwrite=overwrite)\n",
    "if savefile:\n",
    "    time_bin_analysis.save_event_spikes(event_spikes, overwrite=overwrite)\n",
    "\n",
    "savefile = True\n",
    "overwrite = True\n",
    "\n",
    "event_spikes = time_bin_analysis.load_event_spikes(subj_sess, overwrite=overwrite)\n",
    "if savefile:\n",
    "    time_bin_analysis.save_event_spikes(event_spikes, overwrite=overwrite)"
   ]
  },
  {
   "cell_type": "code",
   "execution_count": null,
   "metadata": {},
   "outputs": [],
   "source": [
    "def model_unit_fr_parallel(subj_sess_neuron):\n",
    "    import sys\n",
    "    import os\n",
    "    from time import sleep\n",
    "    import numpy as np\n",
    "    sys.path.append('/home1/cjmac/code/projects')\n",
    "    from time_cells.time_bin_analysis import model_unit_fr\n",
    "    # Take a nap.\n",
    "    if False:\n",
    "        sleep_secs = int(1800 * np.random.rand())\n",
    "        sleep(sleep_secs)\n",
    "    try:\n",
    "        subj_sess, chan, unit = subj_sess_neuron.split('-')\n",
    "        neuron = '{}-{}'.format(chan, unit)\n",
    "        output = model_unit_fr(subj_sess,\n",
    "                               neuron,\n",
    "                               model='ols',\n",
    "                               n_perm=1000,\n",
    "                               overwrite=True,\n",
    "                               save_output=True)\n",
    "    except:\n",
    "        err = sys.exc_info()\n",
    "        errf = '/home1/cjmac/logs/TryExceptError-model_unit_fr_parallel-{}'.format(subj_sess_neuron)\n",
    "        os.system('touch {}'.format(errf))\n",
    "        with open(errf, 'w') as f:\n",
    "            f.write(str(err) + '\\n')\n",
    "    \n",
    "    return None\n",
    "\n",
    "# from importlib import reload\n",
    "# flag_reload = 1\n",
    "# if flag_reload:\n",
    "#     reload( time_bin_analysis )\n",
    "\n",
    "start_time = time()\n",
    "\n",
    "# Load event_spikes and get the names of each neuron.\n",
    "proj_dir = '/home1/cjmac/projects/time_cells'\n",
    "\n",
    "# Get sessions.\n",
    "sessions = np.unique([op.basename(f).split('-')[0] \n",
    "                      for f in glob(op.join(proj_dir, 'analysis', 'events', '*.pkl'))])\n",
    "sessions = np.delete(sessions, 0)\n",
    "print('{} subjects, {} sessions'.format(len(np.unique([x.split('_')[0] for x in sessions])), len(sessions)))\n",
    "\n",
    "subj_sess_neurons = []\n",
    "for subj_sess in sessions:\n",
    "    event_spikes = time_bin_analysis.load_event_spikes(subj_sess, verbose=False)\n",
    "    for neuron in event_spikes.column_map['neurons']:\n",
    "        subj_sess_neuron = '{}-{}'.format(subj_sess, neuron)\n",
    "        #output_f = op.join(proj_dir, 'analysis', 'behav_glms', '{}-glm_results.pkl'.format(subj_sess_neuron))\n",
    "        output_f = op.join(proj_dir, 'analysis', 'unit_to_behav', '{}-ols-time_bin-model_pairs.pkl'.format(subj_sess_neuron))\n",
    "        print(output_f)\n",
    "        if not op.exists(output_f):\n",
    "            subj_sess_neurons.append(subj_sess_neuron)\n",
    "    print('{} neurons'.format(len(subj_sess_neurons)))\n",
    "\n",
    "# cjm change\n",
    "subj_sess_neurons = ['U554_ses0-46-1']\n",
    "\n",
    "# # cjm change\n",
    "if False:\n",
    "    subj_sess_neurons = [which_neuron for which_neuron in subj_sess_neurons if which_neuron in [ 'U554_ses0-46-1' ] ]"
   ]
  },
  {
   "cell_type": "markdown",
   "metadata": {},
   "source": [
    "## Section to understand how OLS fitting was done in time_bin_analysis.py"
   ]
  },
  {
   "cell_type": "code",
   "execution_count": null,
   "metadata": {},
   "outputs": [],
   "source": [
    "df = event_spikes.event_spikes.query(\"(gameState=='{}')\".format('Retrieval')).copy()\n",
    "neuron = '46-1'\n",
    "keep_cols = ['trial', 'gameState', 'time_step', 'maze_region', 'head_direc', 'is_moving', \n",
    "             'base_in_view', 'gold_in_view', 'dig_performed', neuron]\n",
    "df = df[keep_cols]\n",
    "dummys = ['is_moving', 'base_in_view', 'gold_in_view', 'dig_performed']\n",
    "df[dummys] = df[dummys].fillna(0)\n",
    "df.to_csv('mdl_46-1.csv')\n",
    "regress_trial = False\n",
    "trial_term = ' + C(trial)' if regress_trial else ''\n",
    "formulas = od([])\n",
    "formulas['full']          = \"Q('{}') ~ 1 + C(time_step) + C(maze_region) + C(head_direc) + is_moving + base_in_view + dig_performed{}\".format(neuron, trial_term)\n",
    "formulas['full_subtime']  = \"Q('{}') ~ 1                + C(maze_region) + C(head_direc) + is_moving + base_in_view + dig_performed{}\".format(neuron, trial_term)\n",
    "formulas['full_subplace'] = \"Q('{}') ~ 1 + C(time_step)                  + C(head_direc) + is_moving + base_in_view + dig_performed{}\".format(neuron, trial_term)\n",
    "formulas['full_subhd']    = \"Q('{}') ~ 1 + C(time_step) + C(maze_region)                 + is_moving + base_in_view + dig_performed{}\".format(neuron, trial_term)\n",
    "formulas['full_submvmt']  = \"Q('{}') ~ 1 + C(time_step) + C(maze_region) + C(head_direc)             + base_in_view + dig_performed{}\".format(neuron, trial_term)\n",
    "formulas['full_subbiv']   = \"Q('{}') ~ 1 + C(time_step) + C(maze_region) + C(head_direc) + is_moving                + dig_performed{}\".format(neuron, trial_term)\n",
    "formulas['full_subdig']   = \"Q('{}') ~ 1 + C(time_step) + C(maze_region) + C(head_direc) + is_moving + base_in_view                {}\".format(neuron, trial_term)\n",
    "mod_names = list(formulas.keys())\n",
    "df2 = df[['trial', 'gameState', 'maze_region', '46-1']].to_csv('mdl_place_46-1.csv')"
   ]
  },
  {
   "cell_type": "markdown",
   "metadata": {},
   "source": [
    "## Section to organize spiking data into a table to determin the # spikes per maze segment."
   ]
  },
  {
   "cell_type": "code",
   "execution_count": null,
   "metadata": {},
   "outputs": [],
   "source": [
    "all_neurons = event_spikes.column_map.get('neurons')\n",
    "which_neuron = all_neurons[5]\n",
    "keep_cols = ['trial', 'gameState', 'time_step', 'maze_region', 'head_direc', 'is_moving', \n",
    "             'base_in_view', 'gold_in_view', 'dig_performed', which_neuron]\n",
    "rows = {'gameState':'Encoding'}\n",
    "df = get_df_subset(event_spikes.event_spikes.copy(), columns = keep_cols, rows = rows)\n",
    "df\n",
    "\n",
    "# df.insert(4, 'duration', df['stop_time']-df['start_time'])\n",
    "# df = df.drop(columns=['start_time', 'stop_time'])\n",
    "\n",
    "# Let's print the first entries\n",
    "# in all the groups formed.\n",
    "df_group = df.groupby(['maze_region']).sum()\n",
    "df_group.insert(3, 'rate', df_group[which_cell]/df_group['duration']*1000)\n",
    "df_group"
   ]
  },
  {
   "cell_type": "code",
   "execution_count": null,
   "metadata": {},
   "outputs": [],
   "source": [
    "if True:\n",
    "    reload(time_bin_analysis)\n",
    "\n",
    "# Parallel processing\n",
    "for subj_sess_neuron in subj_sess_neurons:\n",
    "    _start_time = time()\n",
    "    print(subj_sess_neuron)\n",
    "    _ = model_unit_fr_parallel(subj_sess_neuron)\n",
    "    print('{:.1f}s'.format(time() - start_time))\n",
    "\n",
    "print('Done in {:.1f}s')"
   ]
  },
  {
   "cell_type": "code",
   "execution_count": null,
   "metadata": {},
   "outputs": [],
   "source": [
    "# subj_sess_neurons = subj_sess_neurons[23]\n",
    "subj_sess_neurons"
   ]
  },
  {
   "cell_type": "code",
   "execution_count": null,
   "metadata": {},
   "outputs": [],
   "source": [
    "# import pickle\n",
    "\n",
    "with open('U554_ses0-46-1-ols-time_bin-model_pairs.pkl', 'rb') as f:\n",
    "    data = pickle.load(f)\n",
    "\n",
    "# %cd /home1/cjmac/projects/time_cells/analysis/unit_to_behav"
   ]
  },
  {
   "cell_type": "code",
   "execution_count": null,
   "metadata": {},
   "outputs": [],
   "source": [
    "data"
   ]
  },
  {
   "cell_type": "code",
   "execution_count": null,
   "metadata": {},
   "outputs": [],
   "source": []
  }
 ],
 "metadata": {
  "kernelspec": {
   "display_name": "workshop",
   "language": "python",
   "name": "workshop"
  },
  "language_info": {
   "codemirror_mode": {
    "name": "ipython",
    "version": 3
   },
   "file_extension": ".py",
   "mimetype": "text/x-python",
   "name": "python",
   "nbconvert_exporter": "python",
   "pygments_lexer": "ipython3",
   "version": "3.7.6"
  }
 },
 "nbformat": 4,
 "nbformat_minor": 4
}

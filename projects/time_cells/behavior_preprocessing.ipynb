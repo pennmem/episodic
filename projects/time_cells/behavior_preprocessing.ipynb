{
 "cells": [
  {
   "cell_type": "markdown",
   "id": "cf5138f2-7747-43a1-818d-62f5c852e681",
   "metadata": {},
   "source": [
    "# Foundation"
   ]
  },
  {
   "cell_type": "code",
   "execution_count": 1,
   "id": "c4a893d8-6c15-4ba9-b225-3d27eacece12",
   "metadata": {
    "tags": []
   },
   "outputs": [
    {
     "name": "stderr",
     "output_type": "stream",
     "text": [
      "In /usr/global/Anaconda/2019-10/envs/cml37/lib/python3.7/site-packages/matplotlib/mpl-data/stylelib/_classic_test.mplstyle: \n",
      "The text.latex.preview rcparam was deprecated in Matplotlib 3.3 and will be removed two minor releases later.\n",
      "In /usr/global/Anaconda/2019-10/envs/cml37/lib/python3.7/site-packages/matplotlib/mpl-data/stylelib/_classic_test.mplstyle: \n",
      "The mathtext.fallback_to_cm rcparam was deprecated in Matplotlib 3.3 and will be removed two minor releases later.\n",
      "In /usr/global/Anaconda/2019-10/envs/cml37/lib/python3.7/site-packages/matplotlib/mpl-data/stylelib/_classic_test.mplstyle: Support for setting the 'mathtext.fallback_to_cm' rcParam is deprecated since 3.3 and will be removed two minor releases later; use 'mathtext.fallback : 'cm' instead.\n",
      "In /usr/global/Anaconda/2019-10/envs/cml37/lib/python3.7/site-packages/matplotlib/mpl-data/stylelib/_classic_test.mplstyle: \n",
      "The validate_bool_maybe_none function was deprecated in Matplotlib 3.3 and will be removed two minor releases later.\n",
      "In /usr/global/Anaconda/2019-10/envs/cml37/lib/python3.7/site-packages/matplotlib/mpl-data/stylelib/_classic_test.mplstyle: \n",
      "The savefig.jpeg_quality rcparam was deprecated in Matplotlib 3.3 and will be removed two minor releases later.\n",
      "In /usr/global/Anaconda/2019-10/envs/cml37/lib/python3.7/site-packages/matplotlib/mpl-data/stylelib/_classic_test.mplstyle: \n",
      "The keymap.all_axes rcparam was deprecated in Matplotlib 3.3 and will be removed two minor releases later.\n",
      "In /usr/global/Anaconda/2019-10/envs/cml37/lib/python3.7/site-packages/matplotlib/mpl-data/stylelib/_classic_test.mplstyle: \n",
      "The animation.avconv_path rcparam was deprecated in Matplotlib 3.3 and will be removed two minor releases later.\n",
      "In /usr/global/Anaconda/2019-10/envs/cml37/lib/python3.7/site-packages/matplotlib/mpl-data/stylelib/_classic_test.mplstyle: \n",
      "The animation.avconv_args rcparam was deprecated in Matplotlib 3.3 and will be removed two minor releases later.\n"
     ]
    }
   ],
   "source": [
    "# Standard library imports\n",
    "from collections import OrderedDict as od\n",
    "from glob import glob\n",
    "from importlib import reload\n",
    "import inspect\n",
    "import itertools\n",
    "import os\n",
    "import os.path as op\n",
    "import random\n",
    "import sys\n",
    "from time import time\n",
    "import warnings\n",
    "\n",
    "# Third party imports\n",
    "import h5py\n",
    "import matplotlib as mpl # plotting\n",
    "from matplotlib.lines import Line2D # plotting\n",
    "import matplotlib.patches as patches # plotting\n",
    "import matplotlib.pyplot as plt # plotting\n",
    "import matplotlib.gridspec as gridspec  # plotting\n",
    "import numpy as np # functions to analyze and manipulate arrays & matrices\n",
    "import pandas as pd # dataframes\n",
    "import scipy.interpolate as interp # scientific computation \n",
    "import scipy.io as sio # scientific computation \n",
    "import scipy.stats as stats # scientific computation \n",
    "import scipy.ndimage as ndi\n",
    "import seaborn as sns # plotting\n",
    "from sklearn.decomposition import PCA # tools for machine learning and statistical modeling. Useful for predictions of unobserved values.\n",
    "import statsmodels.api as sm # tools for statistical analysis. Useful for statistical inference and statistical hypothesis testing.\n",
    "from statsmodels.formula.api import ols\n",
    "\n",
    "# Local application imports\n",
    "sys.path.append('/home1/cjmac/code/general')\n",
    "sys.path.append('/home1/cjmac/code/manning_replication')\n",
    "sys.path.append('/home1/cjmac/code/projects/')\n",
    "import array_operations as aop # for coding\n",
    "import data_io as dio # for coding\n",
    "from eeg_plotting import plot_trace, plot_trace2 #plotting\n",
    "from time_cells import spike_sorting, spike_preproc, events_preproc, events_proc, time_bin_analysis, trial_phase_analysis # processing eeg data\n",
    "\n",
    "# Initializing commands\n",
    "%matplotlib inline\n",
    "warnings.filterwarnings( 'ignore' )\n",
    "pd.options.display.max_rows = 500\n",
    "pd.options.display.max_columns = 999\n",
    "\n",
    "# Plotting parameters\n",
    "mpl.rcParams['grid.linewidth'] = 0.1\n",
    "mpl.rcParams['grid.alpha'] = 0.75\n",
    "mpl.rcParams['lines.linewidth'] = 1\n",
    "mpl.rcParams['lines.markersize'] = 3\n",
    "mpl.rcParams['xtick.labelsize'] = 15\n",
    "mpl.rcParams['ytick.labelsize'] = 15 \n",
    "colors = ['1f77b4', 'd62728', '2ca02c', 'ff7f0e', '9467bd', \n",
    "          '8c564b', 'e377c2', '7f7f7f', 'bcbd22', '17becf']\n",
    "mpl.rcParams['axes.prop_cycle'] = mpl.cycler('color', colors)\n",
    "mpl.rcParams['axes.spines.right'] = False\n",
    "mpl.rcParams['axes.spines.top'] = False\n",
    "mpl.rcParams['axes.formatter.offset_threshold'] = 2\n",
    "mpl.rcParams['axes.labelsize'] = 17\n",
    "mpl.rcParams['axes.labelpad'] = 10\n",
    "mpl.rcParams['axes.titlesize'] = 19\n",
    "mpl.rcParams['axes.grid'] = True\n",
    "mpl.rcParams['axes.axisbelow'] = True\n",
    "mpl.rcParams['legend.loc'] = 'upper right'\n",
    "mpl.rcParams['legend.fontsize'] = 15\n",
    "mpl.rcParams['legend.frameon'] = False\n",
    "mpl.rcParams['figure.dpi'] = 300\n",
    "mpl.rcParams['figure.titlesize'] = 19\n",
    "mpl.rcParams['figure.figsize'] = (6.85039, 4.79527) \n",
    "mpl.rcParams['figure.subplot.wspace'] = 0.25 \n",
    "mpl.rcParams['figure.subplot.hspace'] = 0.25 \n",
    "mpl.rcParams['font.sans-serif'] = ['Helvetica']\n",
    "mpl.rcParams['savefig.format'] = 'pdf'\n",
    "mpl.rcParams['pdf.fonttype'] = 42\n",
    "# warnings.filterwarnings( 'default' )\n",
    "\n",
    "# Plotting colors\n",
    "n = 4\n",
    "c = 2\n",
    "colors = [sns.color_palette('Blues', n)[c], \n",
    "          sns.color_palette('Reds', n)[c], \n",
    "          sns.color_palette('Greens', n)[c],\n",
    "          sns.color_palette('Purples', n)[c],\n",
    "          sns.color_palette('Oranges', n)[c],\n",
    "          sns.color_palette('Greys', n)[c],\n",
    "          sns.color_palette('YlOrBr', n+3)[c],\n",
    "          'k']\n",
    "cmap = sns.palettes.blend_palette((colors[0], \n",
    "                                   'w',\n",
    "                                   colors[1]), 501)\n",
    "# Plotting font\n",
    "font = {'tick': 12,\n",
    "        'label': 14,\n",
    "        'fig': 16}"
   ]
  },
  {
   "cell_type": "markdown",
   "id": "3345dc92-5062-4eba-8c68-d788e38fa71b",
   "metadata": {},
   "source": [
    "# Event Alignment"
   ]
  },
  {
   "cell_type": "code",
   "execution_count": 2,
   "id": "2b449833-9565-452e-af98-b0d6ce609056",
   "metadata": {
    "tags": []
   },
   "outputs": [
    {
     "name": "stdout",
     "output_type": "stream",
     "text": [
      "The first timestamp in events before zero-ing is 1654735168087.340\n",
      "The first timestamp in events after zero-ing is 0.000\n",
      "143295 events recorded over 78 min and 57 sec\n",
      "The first timestamp in lfp_timestamps before zero-ing & before conv factor is 1654709925.092\n",
      "The first timestamp in lfp_timestamps before zero-ing & after conv factor is 1654709925091.791\n",
      "The first timestamp in lfp_timestamps after zero-ing & conv factor is 0.000\n",
      "Conversion factor is 1000.0\n",
      "153210591 timestamps over 79 min and 47.8 s\n",
      "Sampling rate is 32000 Hz\n",
      "Detected 6082 syncs for 4732 sync pulse events\n",
      "Loop 1: Inter-sync times failed to converge\n",
      "Loop 8: Inter-sync times failed to converge\n",
      "Loop 11: Inter-sync times failed to converge\n",
      "Loop 12: Inter-sync times failed to converge\n",
      "Loop 23: Inter-sync times failed to converge\n",
      "Loop 24: Inter-sync times failed to converge\n",
      "Loop 32: Inter-sync times failed to converge\n",
      "Loop 40: Inter-sync times failed to converge\n",
      "Loop 48: Inter-sync times failed to converge\n",
      "Loop 61: Inter-sync times failed to converge\n",
      "Loop 64: Inter-sync times failed to converge\n",
      "Loop 65: Inter-sync times failed to converge\n",
      "Loop 76: Inter-sync times failed to converge\n",
      "Loop 77: Inter-sync times failed to converge\n",
      "Loop 84: Inter-sync times failed to converge\n",
      "Loop 86: Inter-sync times failed to converge\n",
      "Loop 87: Inter-sync times failed to converge\n",
      "Loop 93: Inter-sync times failed to converge\n",
      "Loop 94: Inter-sync times failed to converge\n",
      "Loop 95: Inter-sync times failed to converge\n",
      "Loop 102: Inter-sync times failed to converge\n",
      "Loop 107: Inter-sync times failed to converge\n",
      "Loop 111: Inter-sync times failed to converge\n",
      "Loop 123: Inter-sync times failed to converge\n",
      "Loop 128: Inter-sync times failed to converge\n",
      "Loop 140: Inter-sync times failed to converge\n",
      "Loop 154: Inter-sync times failed to converge\n",
      "Retained 650 sync pulses\n"
     ]
    }
   ],
   "source": [
    "subj_sess = 'U554_ses0'\n",
    "\n",
    "# Load the sync channel.\n",
    "# sync_chan = events_preproc.load_syncs(subj_sess, data_key='data')\n",
    "sync_chan, TTL, timestamp_flag = events_preproc.load_syncs(subj_sess, data_key='data')\n",
    "\n",
    "from importlib import reload\n",
    "import spike_preproc\n",
    "flag_reload = 1\n",
    "if flag_reload:\n",
    "    reload( events_preproc )\n",
    "\n",
    "if not timestamp_flag: \n",
    "     \n",
    "    # Read events file and get event synctimes.\n",
    "    events, event_synctimes = events_preproc.read_events_json( subj_sess )\n",
    "\n",
    "    # Load LFP timestamps.\n",
    "    lfp_timestamps, sr = spike_sorting.load_lfp_timestamps( subj_sess )\n",
    "\n",
    "    # Identify sync pulses in the sync channel EEG.\n",
    "    pulse_startinds = events_preproc.find_pulse_starts(sync_chan, \n",
    "                                                   sampling_rate=sr, \n",
    "                                                   pulse_thresh=200, \n",
    "                                                   intrapulse_thresh_ms=20, \n",
    "                                                   interpulse_thresh_ms=790)\n",
    "    \n",
    "    lfp_synctimes = lfp_timestamps[pulse_startinds]\n",
    "    print('Detected {} syncs for {} sync pulse events'.format(len(pulse_startinds), len(events.loc[events.key=='syncPulse', 'time'])))\n",
    "\n",
    "    subj, sess = subj_sess.split('_')\n",
    "    sync_f = os.path.join('/home1/cjmac/projects/time_cells', 'data', subj, sess, 'sync', 'sync_channel_micro.mat')\n",
    "\n",
    "\n",
    "    # Find matching sync pulse pairs.\n",
    "    event_synctimes_adj, lfp_synctimes_adj = events_preproc.pair_sync_pulses(event_synctimes, \n",
    "                                                                             lfp_synctimes, step=5, max_shift=200, max_slide=50, ipi_thresh=2)\n",
    "    # Perform the alignment.\n",
    "    alignment = events_preproc.align_sync_pulses(event_synctimes_adj, \n",
    "                                                 lfp_synctimes_adj)\n",
    "    \n",
    "    # Apply the alignment to all event times.\n",
    "    events['time'] = events['time'].apply(lambda x: alignment['sync_params']['intercept'] + (alignment['sync_params']['slope'] * x))    \n",
    "    \n",
    "else:    \n",
    "    # Read events file and get event synctimes in msec.\n",
    "    events, event_synctimes = events_preproc.read_events_json( subj_sess, start_at_zero = True  )\n",
    "\n",
    "    \n",
    "    # Load LFP timestamps in msec\n",
    "    lfp_timestamps, sr = spike_sorting.load_lfp_timestamps( subj_sess, start_at_zero = True, conv_factor = 'infer' )\n",
    "\n",
    "    sync_chan_new = sync_chan\n",
    "    sync_chan_new = sync_chan_new - sync_chan[0] \n",
    "    sync_chan_new *= 1000 ; # converts to msec\n",
    "    TTL_new = TTL\n",
    "    TTL_new[ np.where( TTL != 255) ] = 0\n",
    "    from scipy import interpolate\n",
    "    f = interpolate.interp1d(sync_chan_new, TTL_new, kind = 'next', fill_value='extrapolate')\n",
    "    TTL_up = f( lfp_timestamps ) \n",
    "    \n",
    "    plot_flag = 0\n",
    "    if plot_flag:\n",
    "        ind_range_1 = [ 0, 100000 ] \n",
    "        fig, ax = plt.subplots(1, 1, figsize=(16, 6), dpi=300)\n",
    "        plt.plot(lfp_timestamps[ slice( ind_range_1[0], ind_range_1[1], 1)], \n",
    "                 TTL_up[ slice( ind_range_1[0], ind_range_1[1], 1)],\n",
    "                 marker = 'o', color = 'blue', linestyle = 'none', markersize = 8 )\n",
    "    \n",
    "    pulse_startinds = np.where( TTL_up == 255)[0] \n",
    "    lfp_synctimes = lfp_timestamps[pulse_startinds]\n",
    "    \n",
    "    # \n",
    "    plot_flag = 0\n",
    "    if plot_flag:\n",
    "        time_range = [ 30000, 100000 ] \n",
    "        ind_lfp_synctimes = np.where(np.logical_and(lfp_synctimes>=time_range[0], lfp_synctimes<=time_range[1]))\n",
    "        ind_event_synctimes= np.where(np.logical_and(event_synctimes>=time_range[0], event_synctimes<=time_range[1]))\n",
    "        fig, ax = plt.subplots(1, 1, figsize=(30, 10), dpi=300)\n",
    "        plt.plot(lfp_synctimes[ ind_lfp_synctimes ], \n",
    "                 np.full( ( 1, len( ind_lfp_synctimes[0] ) ), 255 )[0],\n",
    "                 marker = 'o', color = 'blue', linestyle = 'none', markersize = 16 ) \n",
    "        plt.plot(event_synctimes[ ind_event_synctimes ], \n",
    "                 np.full( ( 1, len( ind_event_synctimes[0] ) ), 255 )[0],\n",
    "                 marker = 'x', color = 'red', linestyle = 'none', mew = 4, markersize = 16 ) \n",
    "        plt.show()        \n",
    "\n",
    "    print('Detected {} syncs for {} sync pulse events'.format(len(pulse_startinds), len(events.loc[events.key=='syncPulse', 'time'])))\n",
    "\n",
    "    subj, sess = subj_sess.split('_')\n",
    "    sync_f = os.path.join('/home1/cjmac/projects/time_cells', 'data', subj, sess, 'sync', 'sync_channel_micro.mat')\n",
    "    \n",
    "    # Find matching sync pulse pairs.\n",
    "    event_synctimes_adj, lfp_synctimes_adj = events_preproc.pair_sync_pulses(event_synctimes, \n",
    "                                                                             lfp_synctimes, step=5, max_shift=200, max_slide=50, ipi_thresh=2)\n",
    "    \n",
    "    # Perform the alignment.\n",
    "    alignment = events_preproc.align_sync_pulses(event_synctimes_adj, \n",
    "                                                 lfp_synctimes_adj)\n",
    "\n",
    "    # Apply the alignment to all event times.\n",
    "    events['time'] = events['time'].apply(lambda x: alignment['sync_params']['intercept'] + (alignment['sync_params']['slope'] * x))"
   ]
  },
  {
   "cell_type": "markdown",
   "id": "0cd921c0-8dba-4ce1-af76-c41b9327b1b8",
   "metadata": {},
   "source": [
    "# Create events data frame and remove bad trials"
   ]
  },
  {
   "cell_type": "code",
   "execution_count": 3,
   "id": "b919956b-31ad-434d-9913-18c2241348da",
   "metadata": {},
   "outputs": [
    {
     "name": "stdout",
     "output_type": "stream",
     "text": [
      "Processing events data.\n",
      "\n",
      "Found formatted events dataframe\n"
     ]
    }
   ],
   "source": [
    "from importlib import reload\n",
    "import spike_preproc\n",
    "flag_reload = 1\n",
    "if flag_reload:\n",
    "    reload( events_preproc )\n",
    "\n",
    "proc_events = 1\n",
    "proc_spikes = 1\n",
    "proj_dir = '/home1/cjmac/projects/time_cells'\n",
    "run_all = True\n",
    "save_output = True\n",
    "overwrite = False\n",
    "verbose = True\n",
    "\n",
    "start_time = time()\n",
    "warnings.filterwarnings('ignore')\n",
    "\n",
    "if proc_events:\n",
    "    # Load events and event times.\n",
    "    print('Processing events data.', end='\\n\\n')\n",
    "    events = events_preproc.format_events(events=events,\n",
    "                                          noisy_trials=[],\n",
    "                                          remove_incomplete_trials=True,\n",
    "                                          remove_noisy_trials=False,\n",
    "                                          remove_paused_trials=False,\n",
    "                                          overwrite=overwrite,\n",
    "                                          save_output=save_output,\n",
    "                                          proj_dir=proj_dir,\n",
    "                                          verbose=verbose)"
   ]
  },
  {
   "cell_type": "markdown",
   "id": "aad6b513-b78a-4d62-a438-cddc384c6e95",
   "metadata": {},
   "source": [
    "# Create a table for the Study phase"
   ]
  },
  {
   "cell_type": "code",
   "execution_count": 4,
   "id": "26691612-b8d6-4b43-b372-2200ae9d64fa",
   "metadata": {},
   "outputs": [],
   "source": [
    "# create dataframe by unnesting all item (key:value) pairs\n",
    "all_value = pd.DataFrame( events.value.tolist() )\n",
    "# create a boolean index for events based on whether gameState = Encoding\n",
    "isEncoding = np.where(events['gameState'] == 'Encoding', True, False ) \n",
    "# create a boolean index for masking. get all dataframe entries where key = pickup\n",
    "isPickup = np.where(events['key'] == 'pickup', True, False ) \n",
    "#\n",
    "isSuccessful = all_value.successful\n",
    "#\n",
    "isEncodingPickup = np.logical_and( isEncoding, isPickup )\n",
    "isEncodingPickup = np.logical_and(isEncodingPickup, isSuccessful )\n",
    "#\n",
    "events_study = events[isEncodingPickup]\n",
    "events_study = events_study.reset_index(drop=True)\n",
    "#\n",
    "nearestItemName = pd.DataFrame( events_study.value.tolist() ).nearestItemName\n",
    "#\n",
    "events_study.insert( 5, 'gem', nearestItemName )\n",
    "#\n",
    "events_study = events_study.drop( { 'time', 'key', 'value', 'scene', 'time_penalty', 'bad_trials' }, axis = 1 )\n",
    "\n",
    "events_study = events_study.rename( { 'trial':'list', 'gem':'item', 'gameState':'trial_type' }, axis= 'columns' )\n",
    "events_study['trial_type'] = events_study['trial_type'].str.replace( 'Encoding', 'study' )\n",
    "events_study['position'] = events_study.groupby( 'list' ).cumcount() + 1\n",
    "events_study = events_study.iloc[:, [0, 2, 3, 1 ] ]\n",
    "events_study.insert(0, 'subject', 1 )\n",
    "events_study.insert(5 , 'category', 'gems' )\n",
    "events_study.insert(5 , 'list_type', 'pure'  )"
   ]
  },
  {
   "cell_type": "markdown",
   "id": "6a0927ea-70f6-402f-b390-de707b728b17",
   "metadata": {},
   "source": [
    "# Create a table for the Recall phase"
   ]
  },
  {
   "cell_type": "code",
   "execution_count": 5,
   "id": "b8df4726-df96-4ca7-b7d6-96797a37313e",
   "metadata": {},
   "outputs": [],
   "source": [
    "# create dataframe by unnesting all item (key:value) pairs\n",
    "all_value = pd.DataFrame( events.value.tolist() )\n",
    "# get each trial's timeline info\n",
    "timelines = list( all_value.loc[all_value.chosenTimelineItems.notna().values].chosenTimelineItems )\n",
    "#\n",
    "events_recall = [ ( trial, chosengem ) for trial, gem in enumerate( timelines ) for chosengem in gem ]\n",
    "#\n",
    "events_recall = pd.DataFrame( events_recall, columns=['trial', 'chosengems_all' ] )\n",
    "chosengems_all = pd.DataFrame( events_recall.chosengems_all.tolist() )\n",
    "#\n",
    "events_recall = pd.concat( [events_recall, chosengems_all ], axis = 1  )\n",
    "#\n",
    "events_recall = events_recall.drop( { 'chosengems_all', 'actualTime' }, axis = 1 )\n",
    "\n",
    "events_recall.drop_duplicates(keep='last' )\n",
    "events_recall['trial'] = events_recall['trial'] + 1\n",
    "\n",
    "events_recall = events_recall.drop_duplicates(keep = 'last' )\n",
    "\n",
    "events_recall = events_recall[ events_recall.chosenTime > 0 ]\n",
    "\n",
    "events_recall['chosenTime'] = events_recall.groupby( 'trial' ).cumcount() + 1\n",
    "events_recall[ 'trial_type' ] = 'recall'\n",
    "events_recall = events_recall.rename( { 'trial':'list', 'name':'item', 'chosenTime':'position' }, axis= 'columns' )\n",
    "events_recall = events_recall.iloc[:, [0, 3, 2, 1 ] ]\n",
    "events_recall.insert(0, 'subject', 1 )\n",
    "events_recall.insert(5 , 'category', 'gems' )\n",
    "events_recall.insert(5 , 'list_type', 'pure'  )"
   ]
  },
  {
   "cell_type": "code",
   "execution_count": 6,
   "id": "fdb288de-c156-42a8-af3f-e753b4456859",
   "metadata": {},
   "outputs": [],
   "source": [
    "raw = pd.concat( [ events_study, events_recall ] )\n",
    "data = fr.merge_free_recall( raw )"
   ]
  },
  {
   "cell_type": "markdown",
   "id": "ff826ae0-d472-43f9-bd4c-14fb59b9d37c",
   "metadata": {},
   "source": [
    "# Make a pretty heat plot"
   ]
  },
  {
   "cell_type": "code",
   "execution_count": 53,
   "id": "cce3903a-2f39-404e-a2c1-76535ec1954c",
   "metadata": {},
   "outputs": [
    {
     "data": {
      "image/png": "[encoded data removed]",
      "text/plain": [
       "<Figure size 432x432 with 2 Axes>"
      ]
     },
     "metadata": {
      "needs_background": "light"
     },
     "output_type": "display_data"
    }
   ],
   "source": [
    "tab00 = pd.crosstab(data.input, data.output, normalize = 'index')\n",
    "fig00, ax00 = plt.subplots(figsize=(6, 6), ncols=1 )\n",
    "cmap00 = plt.get_cmap('binary')\n",
    "sns.heatmap(tab00.values,\\\n",
    "            annot=True,\\\n",
    "            cmap = cmap00,\\\n",
    "            annot_kws={\"size\": 20 },\\\n",
    "            norm = mpl.colors.LogNorm( vmin = 0.01, vmax = 1, clip=True ),\\\n",
    "            cbar_kws = {\"format\": mpl.ticker.ScalarFormatter() },\\\n",
    "            clip_on  = False,\\\n",
    "            linecolor = 'k',\\\n",
    "            linewidth = 1,\\\n",
    "            xticklabels = [1, 2, 3, 4],\\\n",
    "            yticklabels = [1, 2, 3, 4],\\\n",
    "            ax=ax00)\n",
    "#\n",
    "plt.yticks( axes = ax00, rotation = 0)\n",
    "ax00.set_ylabel('output position', size=24)\n",
    "ax00.set_xlabel('input position', size=24 )\n",
    "# make the heatplot axes boundary visible bc by default it is not\n",
    "ax00.spines[:].set_visible( True )\n",
    "# thicken the heatplot axes boundary\n",
    "ax00.spines[:].set_linewidth( 2 )\n",
    "# make the colorbar axes boundary visible bc by default it is not\n",
    "fig00.axes[-1].spines[:].set_visible( True )\n",
    "fig00.axes[-1].set_ylabel('recall probability')\n",
    "# \n",
    "plt.savefig('test01.eps', dpi=300)"
   ]
  },
  {
   "cell_type": "code",
   "execution_count": null,
   "id": "ffe73882-26b0-4a8c-9505-c7866778ddfa",
   "metadata": {},
   "outputs": [],
   "source": []
  },
  {
   "cell_type": "markdown",
   "id": "818ae3ec-74f0-45be-a504-a0e228c57c74",
   "metadata": {},
   "source": [
    "# Make a pretty lineplot with a break in the y axis"
   ]
  },
  {
   "cell_type": "code",
   "execution_count": 52,
   "id": "ac4a446c-1a8f-4019-bf84-b4bcccee1343",
   "metadata": {},
   "outputs": [
    {
     "data": {
      "image/png": "[encoded data removed]",
      "text/plain": [
       "<Figure size 432x432 with 3 Axes>"
      ]
     },
     "metadata": {
      "needs_background": "light"
     },
     "output_type": "display_data"
    }
   ],
   "source": [
    "# #\n",
    "recprob = data.groupby([ \"input\"],dropna=True)[\"recall\"].mean()\n",
    "# #\n",
    "fig00, (ax00, ax01) = plt.subplots(2, 1, sharex=True, figsize=(6, 6),gridspec_kw={'height_ratios': [3, 1]})\n",
    "# #\n",
    "ax00.plot(recprob.index, recprob.values, marker = 'o', markersize = 10, c = 'k')\n",
    "ax01.plot(recprob.index, recprob.values)\n",
    "# ax00.plot(recprob)\n",
    "# zoom-in / limit the view to different portions of the data\n",
    "ax00.set_ylim(.85, 1.03)  # all of the data\n",
    "ax01.set_ylim(0, .25)  \n",
    "# # hide the spines between ax00 and ax01\n",
    "ax00.spines['bottom'].set_visible(False)\n",
    "ax01.spines['top'].set_visible(False)\n",
    "ax00.tick_params(\n",
    "    axis='x',          # changes apply to the x-axis\n",
    "    which='both',      # both major and minor ticks are affected\n",
    "    bottom=False,      # ticks along the bottom edge are off\n",
    "    top=False,         # ticks along the top edge are off\n",
    "    labelbottom=False) # labels along the bottom edge are off    top\n",
    "#\n",
    "d = .015  # how big to make the diagonal lines in axes coordinates\n",
    "# arguments to pass to plot, just so we don't keep repeating them\n",
    "kwargs = dict(transform=ax00.transAxes, color='k', clip_on=False)\n",
    "# ax00.plot((-d, +d), (-d, +d), **kwargs)        # top-left diagonal\n",
    "ax00.plot((-d, +d), (-d, +d), **kwargs) \n",
    "#\n",
    "kwargs.update(transform=ax01.transAxes)  # switch to the bottom axes\n",
    "ax01.plot((-d, +d), (1 - 3*d, 1 + 3*d), **kwargs)  # bottom-left diagonal\n",
    "#\n",
    "ax00.set_yticks([0.9, 1.0])\n",
    "ax01.set_yticks([0])\n",
    "ax01.set_xticks([1, 2, 3, 4])\n",
    "ax01.set_xlabel('input position', size = 24)\n",
    "#\n",
    "# Create a big subplot\n",
    "ax02 = fig00.add_subplot(111, frameon=False)\n",
    "# hide tick and tick label of the big axes\n",
    "ax02.tick_params(\n",
    "    axis = 'both',\n",
    "    which = 'both',\n",
    "    bottom = False,\n",
    "    top = False,\n",
    "    left = False,\n",
    "    labelcolor = 'none')\n",
    "ax02.set_ylabel('recall probability', size=24, labelpad=20)\n",
    "plt.tight_layout()\n",
    "plt.savefig('test00.eps', dpi=300)\n"
   ]
  },
  {
   "cell_type": "code",
   "execution_count": null,
   "id": "82b6209a-319e-44c9-9a90-e870999b5070",
   "metadata": {},
   "outputs": [],
   "source": [
    "fig = plt.figure()\n",
    "ax = fig.add_subplot(111)\n",
    "ax.plot((3, 5), (1,5), color='black')\n",
    "plt.show()"
   ]
  },
  {
   "cell_type": "code",
   "execution_count": null,
   "id": "6f863bb8-ca2d-4621-b76b-d5713018efb0",
   "metadata": {},
   "outputs": [],
   "source": []
  },
  {
   "cell_type": "code",
   "execution_count": null,
   "id": "4837f936-5ccc-41c6-9425-6892ec35d2b5",
   "metadata": {},
   "outputs": [],
   "source": []
  },
  {
   "cell_type": "code",
   "execution_count": null,
   "id": "d0c0ebe1-345b-447a-888c-45cf8eee0e65",
   "metadata": {},
   "outputs": [],
   "source": []
  },
  {
   "cell_type": "code",
   "execution_count": null,
   "id": "294dbe53-6e03-4782-83c9-60eb67b8d128",
   "metadata": {},
   "outputs": [],
   "source": [
    "help( fr.plot_raster )"
   ]
  },
  {
   "cell_type": "code",
   "execution_count": null,
   "id": "5c5f059c-5bed-4ca0-bb8b-b8415a2eba6e",
   "metadata": {},
   "outputs": [],
   "source": [
    "from psifr import fr\n",
    "\n",
    "data = fr.merge_lists( events_study, events_recall ) \n",
    "\n",
    "print( data )\n",
    "\n",
    "\n",
    "# df2 = fr.merge_free_recall(df1, list_keys=[\"list_type\"], study_keys=[\"category\"])"
   ]
  },
  {
   "cell_type": "code",
   "execution_count": null,
   "id": "e7afcf3c-88c8-48d9-b8b8-99f107083ca1",
   "metadata": {},
   "outputs": [],
   "source": [
    "\n",
    "\n"
   ]
  },
  {
   "cell_type": "code",
   "execution_count": null,
   "id": "15e7176c-d90a-4ba7-969e-8911419e555c",
   "metadata": {},
   "outputs": [],
   "source": []
  },
  {
   "cell_type": "code",
   "execution_count": null,
   "id": "c284c1f4-cba4-4579-853b-d77e183514c7",
   "metadata": {},
   "outputs": [],
   "source": []
  }
 ],
 "metadata": {
  "kernelspec": {
   "display_name": "workshop",
   "language": "python",
   "name": "workshop"
  },
  "language_info": {
   "codemirror_mode": {
    "name": "ipython",
    "version": 3
   },
   "file_extension": ".py",
   "mimetype": "text/x-python",
   "name": "python",
   "nbconvert_exporter": "python",
   "pygments_lexer": "ipython3",
   "version": "3.7.6"
  }
 },
 "nbformat": 4,
 "nbformat_minor": 5
}

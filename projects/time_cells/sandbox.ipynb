{
 "cells": [
  {
   "cell_type": "code",
   "execution_count": 2,
   "id": "95268aeb-84d0-4ec5-bb6f-2000a487e23f",
   "metadata": {},
   "outputs": [],
   "source": [
    "list_of_tuples = [('a', 1), ('b', 2), ('a', 3), ('c', 3)]"
   ]
  },
  {
   "cell_type": "markdown",
   "id": "cc9dafaa-0238-4f85-896c-be0b4feb59f2",
   "metadata": {},
   "source": [
    "# a= [(1,2),(1,4),(3,5),(5,7)]\n",
    "\n",
    "if not [element for element in list_of_tuples if 'a' in element]:\n",
    "    print('yep')\n",
    "else: print('nope')\n",
    "    \n",
    "[np.where(cluster_class[:, 0]==unit)[0]]\n"
   ]
  },
  {
   "cell_type": "code",
   "execution_count": 38,
   "id": "afbb6629-f456-4ae1-b1bf-a0c115dc1645",
   "metadata": {},
   "outputs": [],
   "source": [
    "# initializing lists\n",
    "test_list1 = [1, 3, 4, 5, 2, 6]\n",
    "test_list2 = [3, 4, 8, 3, 10, 1]"
   ]
  },
  {
   "cell_type": "code",
   "execution_count": 39,
   "id": "1ea7ca0c-3ea0-4a82-8837-77a49e20e18e",
   "metadata": {},
   "outputs": [],
   "source": [
    "blah = test_list1 + test_list2"
   ]
  },
  {
   "cell_type": "code",
   "execution_count": 40,
   "id": "e1a5e144-dd48-479a-969c-a4b0de28be0f",
   "metadata": {},
   "outputs": [
    {
     "data": {
      "text/plain": [
       "[1, 3, 4, 5, 2, 6, 3, 4, 8, 3, 10, 1]"
      ]
     },
     "execution_count": 40,
     "metadata": {},
     "output_type": "execute_result"
    }
   ],
   "source": [
    "blah"
   ]
  },
  {
   "cell_type": "code",
   "execution_count": 45,
   "id": "855f8f6b-60b2-4103-a964-fca84547e714",
   "metadata": {},
   "outputs": [
    {
     "data": {
      "text/plain": [
       "10"
      ]
     },
     "execution_count": 45,
     "metadata": {},
     "output_type": "execute_result"
    }
   ],
   "source": [
    "from itertools import chain\n",
    "\n",
    "min( chain( test_list1 , test_list2 ) )"
   ]
  },
  {
   "cell_type": "code",
   "execution_count": 53,
   "id": "306959a9-3439-4886-a2f5-cc6d83da771d",
   "metadata": {},
   "outputs": [
    {
     "name": "stdout",
     "output_type": "stream",
     "text": [
      "[[20 14]\n",
      " [16  5]\n",
      " [ 4  8]\n",
      " [ 2 24]\n",
      " [ 5  3]\n",
      " [ 8 17]\n",
      " [17 11]\n",
      " [24 15]\n",
      " [ 8 22]\n",
      " [13  6]]\n"
     ]
    }
   ],
   "source": [
    "import numpy as np\n",
    "\n",
    "test1 =  np.random.randint(1,25,(10, 2 ))\n",
    "print( test1 )"
   ]
  },
  {
   "cell_type": "code",
   "execution_count": 64,
   "id": "1ca46aa7-c54f-4a1c-92f2-7ad6ca7d9d40",
   "metadata": {},
   "outputs": [
    {
     "data": {
      "text/plain": [
       "5"
      ]
     },
     "execution_count": 64,
     "metadata": {},
     "output_type": "execute_result"
    }
   ],
   "source": [
    "test1[:, 1][(1,2,4)[0]]"
   ]
  },
  {
   "cell_type": "code",
   "execution_count": null,
   "id": "9ae72da7-9bc2-4278-9c7f-2a8cfa360126",
   "metadata": {},
   "outputs": [],
   "source": []
  }
 ],
 "metadata": {
  "kernelspec": {
   "display_name": "workshop",
   "language": "python",
   "name": "workshop"
  },
  "language_info": {
   "codemirror_mode": {
    "name": "ipython",
    "version": 3
   },
   "file_extension": ".py",
   "mimetype": "text/x-python",
   "name": "python",
   "nbconvert_exporter": "python",
   "pygments_lexer": "ipython3",
   "version": "3.7.6"
  }
 },
 "nbformat": 4,
 "nbformat_minor": 5
}

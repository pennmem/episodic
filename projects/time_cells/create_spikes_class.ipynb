{
 "cells": [
  {
   "cell_type": "code",
   "execution_count": null,
   "id": "0f603511-6486-442f-af01-5472e83c0fb4",
   "metadata": {},
   "outputs": [],
   "source": [
    "%%writefile spikes/general.py\n",
    "\n",
    "class spikes:\n",
    "    \n",
    "    def __init__(self):\n",
    "\t\n",
    "\t\t\"\"\" \n",
    "\t\tGeneric distribution class for calculating and \n",
    "\t\tvisualizing a probability distribution.\n",
    "\t\n",
    "\t\tAttributes:\n",
    "\t\t\tmean (float) representing the mean value of the distribution\n",
    "\t\t\tstdev (float) representing the standard deviation of the distribution\n",
    "\t\t\tdata_list (list of floats) a list of floats extracted from the data file\n",
    "\t\t\n",
    "\t\t\"\"\"\n",
    "\t\t\n",
    "\t\tself.xy = []\n",
    "        \n",
    "        \n",
    "    def create_interpolater():\n",
    "        \n",
    "        \n",
    "        \n",
    "\n"
   ]
  }
 ],
 "metadata": {
  "kernelspec": {
   "display_name": "workshop",
   "language": "python",
   "name": "workshop"
  },
  "language_info": {
   "codemirror_mode": {
    "name": "ipython",
    "version": 3
   },
   "file_extension": ".py",
   "mimetype": "text/x-python",
   "name": "python",
   "nbconvert_exporter": "python",
   "pygments_lexer": "ipython3",
   "version": "3.7.6"
  }
 },
 "nbformat": 4,
 "nbformat_minor": 5
}

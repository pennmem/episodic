{
 "cells": [
  {
   "cell_type": "markdown",
   "metadata": {},
   "source": [
    "# FORK 2\n",
    "## parallel_in_python3_fork2.ipynb"
   ]
  },
  {
   "cell_type": "code",
   "execution_count": 6,
   "metadata": {},
   "outputs": [],
   "source": [
    "import sys\n",
    "import os\n",
    "from glob import glob\n",
    "from time import time\n",
    "import numpy as np\n",
    "import pandas as pd\n",
    "from cluster_helper.cluster import cluster_view\n",
    "sys.path.append('/home1/dscho/code/general')\n",
    "sys.path.append('/home1/dscho/code/projects/unit_activity_and_hpc_theta')\n",
    "import data_io as dio\n",
    "import phase_locking"
   ]
  },
  {
   "cell_type": "code",
   "execution_count": 10,
   "metadata": {},
   "outputs": [
    {
     "data": {
      "text/plain": [
       "array(['U369_env1', 'U369_env2', 'U370_env1', 'U371_env1', 'U371_env2',\n",
       "       'U371_env3', 'U372_ses1', 'U372_ses2', 'U373_ses1', 'U373_ses2',\n",
       "       'U373_ses3', 'U374_ses1', 'U374_ses2', 'U379_ses1', 'U380_ses1a',\n",
       "       'U380_ses2', 'U380_ses3', 'U381_ses1', 'U381_ses2', 'U381_ses3',\n",
       "       'U384_ses1', 'U384_ses2', 'U384_ses3', 'U385_ses1', 'U385_ses2',\n",
       "       'U385_ses3', 'U385_ses4', 'U386_ses1', 'U386_ses2', 'U387_ses1',\n",
       "       'U387_ses2', 'U387_ses3', 'U390_ses1', 'U390_ses2', 'U390_ses3',\n",
       "       'U390_ses4', 'U392_ses1', 'U393_ses2', 'U394_ses1', 'U394_ses3',\n",
       "       'U395_ses1', 'U395_ses2', 'U395_ses3', 'U396_ses2', 'U396_ses3'],\n",
       "      dtype='<U10')"
      ]
     },
     "execution_count": 10,
     "metadata": {},
     "output_type": "execute_result"
    }
   ],
   "source": [
    "np.sort(sessions)"
   ]
  },
  {
   "cell_type": "code",
   "execution_count": 7,
   "metadata": {},
   "outputs": [],
   "source": [
    "def save_phase_vectors_parallel(subj_sess):\n",
    "    import os\n",
    "    import sys\n",
    "    sys.path.append('/home1/dscho/code/projects/unit_activity_and_hpc_theta')\n",
    "    import phase_locking\n",
    "    import numpy as np\n",
    "    \n",
    "    try:\n",
    "        sessions = ['U390_ses3', 'U387_ses3', 'U369_env1', 'U372_ses2', \n",
    "                    'U369_env2', 'U373_ses1', 'U387_ses1', 'U380_ses2',\n",
    "                    'U393_ses2', 'U395_ses2', 'U384_ses3', 'U385_ses4', \n",
    "                    'U371_env2', 'U371_env3',\n",
    "                    'U379_ses1', 'U380_ses1a', 'U381_ses1', 'U390_ses1',\n",
    "                    'U394_ses3', 'U395_ses3', 'U370_env1', 'U371_env1',\n",
    "                    'U372_ses1', 'U373_ses2', 'U373_ses3', 'U374_ses1', \n",
    "                    'U374_ses2', 'U380_ses3', 'U381_ses2', 'U381_ses3', \n",
    "                    'U384_ses1', 'U384_ses2', 'U387_ses2', 'U390_ses2', \n",
    "                    'U390_ses4', 'U392_ses1', 'U394_ses1', 'U395_ses1', \n",
    "                    'U396_ses2', 'U396_ses3', 'U385_ses1', 'U385_ses2', \n",
    "                    'U385_ses3',\n",
    "                    'U386_ses1', 'U386_ses2']\n",
    "        #freqs = np.logspace(np.log10(0.5), np.log10(16), 16)\n",
    "        #freqs = np.logspace(np.log10(0.5), np.log10(128), 17)\n",
    "        freqs = np.array([2**((i/2) - 1) for i in range(16)])\n",
    "        output_dir = '/scratch/dscho/unit_activity_and_hpc_theta/data/crosselec_phase_locking/wavelet/phase'\n",
    "        sleep_secs = sessions.index(subj_sess) * 360\n",
    "\n",
    "        _ = phase_locking.save_phase_vectors(subj_sess, \n",
    "                                             sampling_rate=2000,\n",
    "                                             resampling_rate=0,\n",
    "                                             notch_freqs=[60, 120],\n",
    "                                             freqs=freqs,\n",
    "                                             morlet_width=5,\n",
    "                                             output_dir=output_dir,\n",
    "                                             overwrite=False,\n",
    "                                             sleep_secs=sleep_secs)\n",
    "        return None\n",
    "    except:\n",
    "        err = sys.exc_info()\n",
    "        errf = '/home1/dscho/logs/TryExceptError-save_phase_vectors_parallel-{}'.format(subj_sess)\n",
    "        os.system('touch {}'.format(errf))\n",
    "        with open(errf, 'w') as f:\n",
    "            f.write(str(err)+'\\n')\n",
    "        return None\n",
    "    \n",
    "def save_power_vectors_parallel(subj_sess):\n",
    "    import os\n",
    "    import sys\n",
    "    sys.path.append('/home1/dscho/code/projects/unit_activity_and_hpc_theta')\n",
    "    import phase_locking\n",
    "    import numpy as np\n",
    "    \n",
    "    try:\n",
    "        sessions = ['U390_ses3', 'U387_ses3', 'U369_env1', 'U372_ses2', \n",
    "                    'U369_env2', 'U373_ses1', 'U387_ses1', 'U380_ses2',\n",
    "                    'U393_ses2', 'U395_ses2', 'U384_ses3', 'U385_ses4', \n",
    "                    'U371_env2', 'U371_env3',\n",
    "                    'U379_ses1', 'U380_ses1a', 'U381_ses1', 'U390_ses1',\n",
    "                    'U394_ses3', 'U395_ses3', 'U370_env1', 'U371_env1',\n",
    "                    'U372_ses1', 'U373_ses2', 'U373_ses3', 'U374_ses1', \n",
    "                    'U374_ses2', 'U380_ses3', 'U381_ses2', 'U381_ses3', \n",
    "                    'U384_ses1', 'U384_ses2', 'U387_ses2', 'U390_ses2', \n",
    "                    'U390_ses4', 'U392_ses1', 'U394_ses1', 'U395_ses1', \n",
    "                    'U396_ses2', 'U396_ses3', 'U385_ses1', 'U385_ses2', \n",
    "                    'U385_ses3',\n",
    "                    'U386_ses1', 'U386_ses2']\n",
    "        freqs = np.array([2**((i/2) - 1) for i in range(16)])\n",
    "        output_dir = '/scratch/dscho/unit_activity_and_hpc_theta/data/crosselec_phase_locking/wavelet/power'\n",
    "        sleep_secs = sessions.index(subj_sess) * 300\n",
    "        \n",
    "        subj_df = phase_locking.get_subj_df()\n",
    "        hpc_rois = ['LAH', 'LMH', 'LPH', 'RAH', 'RMH', 'RPH']\n",
    "        chans = subj_df.query(\"(subj_sess=='{}') & (location=={})\".format(subj_sess, hpc_rois)).chan.tolist()\n",
    "        _ = phase_locking.save_power_vectors(subj_sess, \n",
    "                                             chans=chans,\n",
    "                                             sampling_rate=2000,\n",
    "                                             resampling_rate=0,\n",
    "                                             notch_freqs=[60, 120],\n",
    "                                             freqs=freqs,\n",
    "                                             morlet_width=5,\n",
    "                                             log_power=True,\n",
    "                                             z_power=True,\n",
    "                                             output_dir=output_dir,\n",
    "                                             overwrite=True,\n",
    "                                             sleep_secs=sleep_secs)\n",
    "        return None\n",
    "    except:\n",
    "        err = sys.exc_info()\n",
    "        errf = '/home1/dscho/logs/TryExceptError-save_power_vectors_parallel-{}'.format(subj_sess)\n",
    "        os.system('touch {}'.format(errf))\n",
    "        with open(errf, 'w') as f:\n",
    "            f.write(str(err)+'\\n')\n",
    "        return None"
   ]
  },
  {
   "cell_type": "code",
   "execution_count": 8,
   "metadata": {},
   "outputs": [
    {
     "name": "stdout",
     "output_type": "stream",
     "text": [
      "45\n"
     ]
    }
   ],
   "source": [
    "sessions1 = ['U387_ses3', 'U369_env1', 'U372_ses2', 'U390_ses3', \n",
    "             'U369_env2', 'U373_ses1', 'U387_ses1', 'U380_ses2',\n",
    "             'U393_ses2', 'U395_ses2', 'U384_ses3', 'U385_ses4', \n",
    "             'U371_env2', 'U371_env3']\n",
    "\n",
    "sessions2 = ['U379_ses1', 'U380_ses1a', 'U381_ses1', 'U390_ses1',\n",
    "             'U394_ses3', 'U395_ses3', 'U370_env1', 'U371_env1',\n",
    "             'U372_ses1', 'U373_ses2', 'U373_ses3', 'U374_ses1', \n",
    "             'U374_ses2', 'U380_ses3', 'U381_ses2', 'U381_ses3', \n",
    "             'U384_ses1', 'U384_ses2', 'U387_ses2', 'U390_ses2', \n",
    "             'U390_ses4', 'U392_ses1', 'U394_ses1', 'U395_ses1', \n",
    "             'U396_ses2', 'U396_ses3', 'U385_ses1', 'U385_ses2', \n",
    "             'U385_ses3']\n",
    "\n",
    "sessions_nohpc = ['U386_ses1', 'U386_ses2'] \n",
    "\n",
    "sessions = sessions1 + sessions2 + sessions_nohpc\n",
    "\n",
    "print(len(sessions))"
   ]
  },
  {
   "cell_type": "code",
   "execution_count": null,
   "metadata": {},
   "outputs": [
    {
     "name": "stdout",
     "output_type": "stream",
     "text": [
      "Running code for 45 sessions.\n",
      "\n",
      "7 Engines running\n"
     ]
    }
   ],
   "source": [
    "# Parallel processing\n",
    "print('Running code for {} sessions.\\n'.format(len(sessions)))\n",
    "with cluster_view(scheduler=\"sge\", queue=\"RAM.q\", num_jobs=len(sessions), cores_per_job=2) as view: \n",
    "    output = view.map(save_power_vectors_parallel, sessions)"
   ]
  },
  {
   "cell_type": "code",
   "execution_count": null,
   "metadata": {},
   "outputs": [],
   "source": []
  },
  {
   "cell_type": "code",
   "execution_count": null,
   "metadata": {},
   "outputs": [],
   "source": []
  },
  {
   "cell_type": "code",
   "execution_count": null,
   "metadata": {},
   "outputs": [],
   "source": []
  },
  {
   "cell_type": "code",
   "execution_count": null,
   "metadata": {},
   "outputs": [],
   "source": [
    "# Prep for calc_phase_locking_mrl_morlet_unit_to_region_parallel()\n",
    "u2r_file = '{}_unit_to_lfp-region_pairs_df.pkl'\n",
    "u2r_path = os.path.join('/scratch/dscho/unit_activity_and_hpc_theta/data/crosselec_phase_locking/metadata', u2r_file.format(sessions[0]))\n",
    "u2r_df = dio.open_pickle(u2r_path)\n",
    "for subj_sess in sessions:\n",
    "    u2r_path = os.path.join('/scratch/dscho/unit_activity_and_hpc_theta/data/crosselec_phase_locking/metadata', u2r_file.format(subj_sess))\n",
    "    u2r_df = u2r_df.append(dio.open_pickle(u2r_path))\n",
    "u2r_df.reset_index(drop=True, inplace=True)\n",
    "u2r_df = [u2r_df.iloc[i] for i in range(len(u2r_df))]\n",
    "print('{} unit to region pairs'.format(len(u2r_df)))\n",
    "\n",
    "# Which files do we still need to run?\n",
    "pairs_to_process = []\n",
    "output_fname = os.path.join('/scratch/dscho/unit_activity_and_hpc_theta/data/crosselec_phase_locking/phase_locking/unit_to_region/',\n",
    "                            'phase_locking_stats-{}-unit_{}-lfp_{}-2000Hz-notch60_120Hz5cycles-16log10freqs_0.5_to_90.5Hz.pkl')\n",
    "for row in u2r_df:\n",
    "    if not os.path.exists(output_fname.format(row.subj_sess, row.unit, row.lfp_hemroi)):\n",
    "        pairs_to_process.append(row)\n",
    "print('{} pairs to process'.format(len(pairs_to_process)))"
   ]
  },
  {
   "cell_type": "code",
   "execution_count": 7,
   "metadata": {},
   "outputs": [
    {
     "data": {
      "text/plain": [
       "(array(['U371_env1', 'U371_env3', 'U372_ses1', 'U380_ses3', 'U384_ses2',\n",
       "        'U390_ses2', 'U396_ses2'], dtype='<U9'),\n",
       " array([181, 122,  36,  45, 290,  45,  80]))"
      ]
     },
     "execution_count": 7,
     "metadata": {},
     "output_type": "execute_result"
    }
   ],
   "source": [
    "np.unique([x.subj_sess for x in pairs_to_process], return_counts=True)"
   ]
  },
  {
   "cell_type": "code",
   "execution_count": 8,
   "metadata": {},
   "outputs": [
    {
     "name": "stdout",
     "output_type": "stream",
     "text": [
      "U387_ses3 0\n",
      "U369_env1 1024\n",
      "U372_ses2 0\n",
      "U390_ses3 0\n",
      "U369_env2 0\n",
      "U373_ses1 0\n",
      "U387_ses1 0\n",
      "U380_ses2 0\n",
      "U393_ses2 0\n",
      "U395_ses2 0\n",
      "U384_ses3 0\n",
      "U385_ses4 0\n",
      "U371_env2 0\n",
      "U379_ses1 0\n",
      "U380_ses1a 0\n",
      "U381_ses1 0\n",
      "U390_ses1 0\n",
      "U394_ses3 0\n",
      "U395_ses3 0\n",
      "U370_env1 0\n",
      "U373_ses2 0\n",
      "U373_ses3 0\n",
      "U374_ses1 0\n",
      "U374_ses2 0\n",
      "U381_ses2 0\n",
      "U381_ses3 0\n",
      "U384_ses1 0\n",
      "U387_ses2 401\n",
      "U390_ses4 928\n",
      "U392_ses1 1024\n",
      "U394_ses1 1024\n",
      "U395_ses1 1024\n",
      "U396_ses3 1024\n",
      "U385_ses1 896\n",
      "U385_ses2 896\n",
      "U385_ses3 896\n",
      "U386_ses1 1024\n",
      "U386_ses2 1024\n",
      "Removed 0 phase files\n",
      "Done in 1.68 secs\n"
     ]
    }
   ],
   "source": [
    "# Remove phase files that we've already run calc_phase_locking_mrl_morlet_unit_to_region() on\n",
    "start_time = time()\n",
    "\n",
    "remove_phase = [x for x in sessions if x not in list(np.unique([x.subj_sess for x in pairs_to_process]))]\n",
    "files_removed = 0\n",
    "phase_dir = '/scratch/dscho/unit_activity_and_hpc_theta/data/crosselec_phase_locking/wavelet/phase'\n",
    "phase_f = os.path.join(phase_dir, 'phase-{}-*-2000Hz-notch60_120Hz-nospikeinterp-5cycles-16log10freqs_0.5_to_90.5Hz.pkl')\n",
    "for subj_sess in remove_phase:\n",
    "    files = glob(phase_f.format(subj_sess))\n",
    "    print(subj_sess, len(files))\n",
    "#     for f in files:\n",
    "#         os.remove(f)\n",
    "#         files_removed += 1\n",
    "print('Removed {} phase files'.format(files_removed))\n",
    "\n",
    "print('Done in {:.2f} secs'.format(time() - start_time))"
   ]
  },
  {
   "cell_type": "code",
   "execution_count": null,
   "metadata": {},
   "outputs": [],
   "source": [
    "1"
   ]
  },
  {
   "cell_type": "code",
   "execution_count": null,
   "metadata": {},
   "outputs": [],
   "source": []
  }
 ],
 "metadata": {
  "kernelspec": {
   "display_name": "memlab",
   "language": "python",
   "name": "memlab"
  },
  "language_info": {
   "codemirror_mode": {
    "name": "ipython",
    "version": 3
   },
   "file_extension": ".py",
   "mimetype": "text/x-python",
   "name": "python",
   "nbconvert_exporter": "python",
   "pygments_lexer": "ipython3",
   "version": "3.6.8"
  }
 },
 "nbformat": 4,
 "nbformat_minor": 2
}

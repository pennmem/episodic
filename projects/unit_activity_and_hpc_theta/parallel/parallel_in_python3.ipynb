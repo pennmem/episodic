{
 "cells": [
  {
   "cell_type": "markdown",
   "metadata": {},
   "source": [
    "## parallel_in_python3.ipynb"
   ]
  },
  {
   "cell_type": "code",
   "execution_count": 27,
   "metadata": {},
   "outputs": [],
   "source": [
    "import sys\n",
    "import os\n",
    "import os.path as op\n",
    "from glob import glob\n",
    "import numpy as np\n",
    "from importlib import reload\n",
    "from time import time\n",
    "from cluster_helper.cluster import cluster_view\n",
    "sys.path.append('/home1/dscho/code/projects/unit_activity_and_hpc_theta')\n",
    "import phase_locking\n",
    "sys.path.append('/home1/dscho/code/general')\n",
    "import data_io as dio "
   ]
  },
  {
   "cell_type": "code",
   "execution_count": 282,
   "metadata": {},
   "outputs": [],
   "source": [
    "def test_parallel(subj_sess):\n",
    "    return 'hello {}'.format(subj_sess)\n",
    "\n",
    "def calc_phase_locking_parallel(subj_sess):\n",
    "    \"\"\"Wrapper function to calculate phase-locking to the local LFP.\"\"\"\n",
    "    import sys\n",
    "    sys.path.append('/home1/dscho/code/projects/unit_activity_and_hpc_theta')\n",
    "    import phase_locking\n",
    "    \n",
    "    pl_df = phase_locking.calc_local_phase_locking(subj_sess)\n",
    "    \n",
    "    return pl_df\n",
    "\n",
    "def get_cycle_stats_parallel(subj_sess):\n",
    "    \"\"\"Wrapper function to calculate phase-locking to the local LFP.\"\"\"\n",
    "    import sys\n",
    "    sys.path.append('/home1/dscho/code/projects/unit_activity_and_hpc_theta')\n",
    "    import phase_locking\n",
    "    \n",
    "    phase_locking.get_cycle_stats(subj_sess)\n",
    "    \n",
    "    return None\n",
    "\n",
    "def inspect_session_parallel(subj_sess):\n",
    "    \"\"\"Wrapper function to calculate phase-locking to the local LFP.\"\"\"\n",
    "    import sys\n",
    "    sys.path.append('/home1/dscho/code/projects/unit_activity_and_hpc_theta')\n",
    "    import phase_locking\n",
    "    \n",
    "    fname = phase_locking.inspect_session(subj_sess)\n",
    "    \n",
    "    return fname\n",
    "    \n",
    "def calc_cross_electrode_phase_locking_parallel(subj_sess):\n",
    "    import sys\n",
    "    from collections import OrderedDict\n",
    "    sys.path.append('/home1/dscho/code/projects/unit_activity_and_hpc_theta')\n",
    "    import phase_locking\n",
    "    \n",
    "    bands = OrderedDict([('sub_delta', [0.5, 2]),\n",
    "                         ('delta', [1, 4]),\n",
    "                         ('low_theta', [2, 8]),\n",
    "                         ('high_theta', [4, 16]),\n",
    "                         ('alpha_beta', [8, 32])])\n",
    "    interp_spikes = False\n",
    "    notch_freqs = [60, 120]\n",
    "    phase_type = 'extrema2'\n",
    "    mask_type = None\n",
    "    pl_df = phase_locking.calc_cross_electrode_phase_locking(subj_sess, \n",
    "                                                             bands=bands, \n",
    "                                                             interp_spikes=interp_spikes,\n",
    "                                                             notch_freqs=notch_freqs,\n",
    "                                                             phase_type=phase_type,\n",
    "                                                             mask_type=mask_type,\n",
    "                                                             hpc_subset=True,\n",
    "                                                             n_bootstraps=10000,\n",
    "                                                             roll2=False)\n",
    "    return None\n",
    "\n",
    "def calc_cross_electrode_phase_locking_timelag_parallel(subj_sess):\n",
    "    import sys\n",
    "    from collections import OrderedDict\n",
    "    sys.path.append('/home1/dscho/code/projects/unit_activity_and_hpc_theta')\n",
    "    import phase_locking\n",
    "    \n",
    "    bands = OrderedDict([('sub_delta', [0.5, 2]),\n",
    "                         ('delta', [1, 4]),\n",
    "                         ('low_theta', [2, 8]),\n",
    "                         ('high_theta', [4, 16]),\n",
    "                         ('alpha_beta', [8, 32])])\n",
    "    interp_spikes = False\n",
    "    notch_freqs = [60, 120]\n",
    "    phase_type = 'extrema2'\n",
    "    mask_type = None\n",
    "    pl_df = phase_locking.calc_cross_electrode_phase_locking_timelag(subj_sess, \n",
    "                                                                     bands=bands, \n",
    "                                                                     interp_spikes=interp_spikes,\n",
    "                                                                     notch_freqs=notch_freqs,\n",
    "                                                                     phase_type=phase_type,\n",
    "                                                                     mask_type=mask_type,\n",
    "                                                                     hpc_subset=True)\n",
    "    return None\n",
    "\n",
    "def calc_cross_electrode_phase_locking_mrl_parallel(subj_sess):\n",
    "    import sys\n",
    "    from collections import OrderedDict\n",
    "    sys.path.append('/home1/dscho/code/projects/unit_activity_and_hpc_theta')\n",
    "    import phase_locking\n",
    "    \n",
    "    bands = OrderedDict([('sub_delta', [0.5, 2]),\n",
    "                         ('delta', [1, 4]),\n",
    "                         ('low_theta', [2, 8]),\n",
    "                         ('high_theta', [4, 16]),\n",
    "                         ('alpha_beta', [8, 32])])\n",
    "    upl_df = phase_locking.calc_cross_electrode_phase_locking_mrl(subj_sess,\n",
    "                                                                  bands=bands, \n",
    "                                                                  interp_spikes=False,\n",
    "                                                                  notch_freqs=[60, 120],\n",
    "                                                                  phase_type='extrema2',\n",
    "                                                                  mask_type=None,\n",
    "                                                                  hpc_subset=True,\n",
    "                                                                  n_bootstraps=1000)\n",
    "    return None\n",
    "\n",
    "def calc_phase_locking_fr_power_differences_parallel(subj_sess):\n",
    "    import sys\n",
    "    from collections import OrderedDict\n",
    "    sys.path.append('/home1/dscho/code/projects/unit_activity_and_hpc_theta')\n",
    "    import phase_locking\n",
    "    \n",
    "    bands = OrderedDict([('sub_delta', [0.5, 2]),\n",
    "                         ('delta', [1, 4]),\n",
    "                         ('low_theta', [2, 8]),\n",
    "                         ('high_theta', [4, 16]),\n",
    "                         ('alpha_beta', [8, 32])])\n",
    "    upl_df = phase_locking.calc_phase_locking_fr_power_differences(subj_sess,\n",
    "                                                                   bands=bands, \n",
    "                                                                   interp_spikes=False,\n",
    "                                                                   notch_freqs=[60, 120],\n",
    "                                                                   phase_type='extrema2',\n",
    "                                                                   hpc_subset=True,\n",
    "                                                                   n_bootstraps=1000)\n",
    "    return None\n",
    "\n",
    "def calc_phase_locking_fr_power_bins_parallel(subj_sess):\n",
    "    import sys\n",
    "    from collections import OrderedDict\n",
    "    sys.path.append('/home1/dscho/code/projects/unit_activity_and_hpc_theta')\n",
    "    import phase_locking\n",
    "    \n",
    "    bands = OrderedDict([('sub_delta', [0.5, 2]),\n",
    "                         ('delta', [1, 4]),\n",
    "                         ('low_theta', [2, 8]),\n",
    "                         ('high_theta', [4, 16]),\n",
    "                         ('alpha_beta', [8, 32])])\n",
    "    upl_df = phase_locking.calc_phase_locking_fr_power_bins(subj_sess,\n",
    "                                                            bands=bands, \n",
    "                                                            interp_spikes=False,\n",
    "                                                            notch_freqs=[60, 120],\n",
    "                                                            phase_type='extrema2',\n",
    "                                                            hpc_subset=True,\n",
    "                                                            n_bins=4)\n",
    "    return None\n",
    "\n",
    "def calc_cross_electrode_phase_locking_mrl_ctx_parallel(subj_sess):\n",
    "    import sys\n",
    "    from collections import OrderedDict\n",
    "    sys.path.append('/home1/dscho/code/projects/unit_activity_and_hpc_theta')\n",
    "    import phase_locking\n",
    "    \n",
    "    bands = OrderedDict([('sub_delta', [0.5, 2]),\n",
    "                         ('delta', [1, 4]),\n",
    "                         ('low_theta', [2, 8]),\n",
    "                         ('high_theta', [4, 16]),\n",
    "                         ('alpha_beta', [8, 32])])\n",
    "    upl_df = phase_locking.calc_cross_electrode_phase_locking_mrl_ctx(subj_sess,\n",
    "                                                                      bands=bands, \n",
    "                                                                      interp_spikes=False,\n",
    "                                                                      notch_freqs=[60, 120],\n",
    "                                                                      phase_type='extrema2',\n",
    "                                                                      mask_type=None,\n",
    "                                                                      ctx_subset=True,\n",
    "                                                                      n_bootstraps=1000)\n",
    "    return None\n",
    "\n",
    "def calc_cross_electrode_phase_locking_mrl_morlet_parallel(subj_sess):\n",
    "    import sys\n",
    "    import numpy as np\n",
    "    sys.path.append('/home1/dscho/code/projects/unit_activity_and_hpc_theta')\n",
    "    import phase_locking\n",
    "    \n",
    "    \n",
    "    freqs = np.logspace(np.log10(0.5), np.log10(16), 16)\n",
    "    upl_df = phase_locking.calc_cross_electrode_phase_locking_mrl_morlet(subj_sess,\n",
    "                                                                         freqs=freqs, \n",
    "                                                                         interp_spikes=False,\n",
    "                                                                         notch_freqs=[60, 120],\n",
    "                                                                         hpc_subset=False,\n",
    "                                                                         n_bootstraps=1000)\n",
    "    return None\n",
    "\n",
    "def save_phase_vectors_parallel(info):\n",
    "    import os\n",
    "    import sys\n",
    "    sys.path.append('/home1/dscho/code/projects/unit_activity_and_hpc_theta')\n",
    "    import phase_locking\n",
    "    import numpy as np\n",
    "    \n",
    "    # Inputs to the wrapper\n",
    "    subj_sess, chans, sleep_secs = info\n",
    "    \n",
    "    # Hard-coded inputs to the main function\n",
    "    sampling_rate = 2000\n",
    "    resampling_rate = 0\n",
    "    notch_freqs = [60, 120]\n",
    "    freqs = np.array([2**((i/2) - 1) for i in range(16)])\n",
    "    morlet_width = 5\n",
    "    output_dir = '/scratch/dscho/unit_activity_and_hpc_theta/data/crosselec_phase_locking/wavelet/phase'\n",
    "    \n",
    "    try:\n",
    "        _ = phase_locking.save_phase_vectors(subj_sess, \n",
    "                                             chans=chans,\n",
    "                                             sampling_rate=sampling_rate,\n",
    "                                             resampling_rate=resampling_rate,\n",
    "                                             notch_freqs=notch_freqs,\n",
    "                                             freqs=freqs,\n",
    "                                             morlet_width=morlet_width,\n",
    "                                             output_dir=output_dir,\n",
    "                                             overwrite=True, # don't change this\n",
    "                                             sleep_secs=sleep_secs)\n",
    "        return None\n",
    "    except:\n",
    "        err = sys.exc_info()\n",
    "        errf = '/home1/dscho/logs/TryExceptError-save_phase_vectors_parallel-{}'.format(subj_sess)\n",
    "        os.system('touch {}'.format(errf))\n",
    "        with open(errf, 'w') as f:\n",
    "            f.write(str(err)+'\\n')\n",
    "        return None\n",
    "\n",
    "def save_power_vectors_parallel(info):\n",
    "    import os\n",
    "    import sys\n",
    "    sys.path.append('/home1/dscho/code/projects/unit_activity_and_hpc_theta')\n",
    "    import phase_locking\n",
    "    import numpy as np\n",
    "    \n",
    "    # Inputs to the wrapper\n",
    "    subj_sess, chans, sleep_secs = info\n",
    "    \n",
    "    # Hard-coded inputs to the main function\n",
    "    sampling_rate = 2000\n",
    "    resampling_rate = 0\n",
    "    notch_freqs = [60, 120]\n",
    "    freqs = np.array([2**((i/2) - 1) for i in range(16)])\n",
    "    morlet_width = 5\n",
    "    log_power = True\n",
    "    z_power = True\n",
    "    output_dir = '/scratch/dscho/unit_activity_and_hpc_theta/data/crosselec_phase_locking/wavelet/power'\n",
    "    \n",
    "    try:\n",
    "        _ = phase_locking.save_power_vectors(subj_sess, \n",
    "                                             chans=chans,\n",
    "                                             sampling_rate=sampling_rate,\n",
    "                                             resampling_rate=resampling_rate,\n",
    "                                             notch_freqs=notch_freqs,\n",
    "                                             freqs=freqs,\n",
    "                                             morlet_width=morlet_width,\n",
    "                                             log_power=log_power,\n",
    "                                             z_power=z_power,\n",
    "                                             output_dir=output_dir,\n",
    "                                             overwrite=True, # don't change this\n",
    "                                             sleep_secs=sleep_secs)\n",
    "        return None\n",
    "    except:\n",
    "        err = sys.exc_info()\n",
    "        errf = '/home1/dscho/logs/TryExceptError-save_power_vectors_parallel-{}'.format(subj_sess)\n",
    "        os.system('touch {}'.format(errf))\n",
    "        with open(errf, 'w') as f:\n",
    "            f.write(str(err)+'\\n')\n",
    "        return None\n",
    "\n",
    "def calc_phase_locking_mrl_morlet_unit_to_region_parallel(info):\n",
    "    import os\n",
    "    import sys\n",
    "    sys.path.append('/home1/dscho/code/projects/unit_activity_and_hpc_theta')\n",
    "    import phase_locking\n",
    "    \n",
    "    try:\n",
    "        phase_dir = '/scratch/dscho/unit_activity_and_hpc_theta/data/crosselec_phase_locking/wavelet/phase'\n",
    "        phase_fname='phase-{}-iChan{}-iFreq{}-{}Hz-notch60_120Hz-nospikeinterp-5cycles-16log10freqs_0.5_to_90.5Hz.pkl'\n",
    "        output_dir = '/home1/dscho/projects/unit_activity_and_hpc_theta/data/crosselec_phase_locking/phase_locking/unit_to_region'\n",
    "        output_fname = 'phase_locking_stats-{}-unit_{}-lfp_{}-{}Hz-notch60_120Hz{}5cycles-16log10freqs_0.5_to_90.5Hz.pkl'\n",
    "        info = phase_locking.calc_phase_locking_mrl_morlet_unit_to_region(info,\n",
    "                                                                          n_freqs=16,\n",
    "                                                                          sampling_rate=2000,\n",
    "                                                                          time_win=2,\n",
    "                                                                          n_bootstraps=1000,\n",
    "                                                                          remove_cospikes=True,\n",
    "                                                                          cospike_steps=4,\n",
    "                                                                          phase_dir=phase_dir,\n",
    "                                                                          phase_fname=phase_fname,\n",
    "                                                                          output_dir=output_dir,\n",
    "                                                                          output_fname=output_fname,\n",
    "                                                                          sleep_max=60) # 120\n",
    "        return None\n",
    "    except:\n",
    "        err = sys.exc_info()\n",
    "        subj_sess = info.subj_sess\n",
    "        unit = info.unit\n",
    "        lfp_roi = info.lfp_hemroi\n",
    "        errf = '/home1/dscho/logs/TryExceptError-calc_phase_locking_mrl_morlet_unit_to_region_parallel-{}-unit_{}-lfp_{}'.format(subj_sess, unit, lfp_roi)\n",
    "        os.system('touch {}'.format(errf))\n",
    "        with open(errf, 'w') as f:\n",
    "            f.write(str(err)+'\\n')\n",
    "        return None\n",
    "    \n",
    "def calc_phase_locking_mrl_morlet_unit_to_region2_parallel(info):\n",
    "    import os\n",
    "    import sys\n",
    "    sys.path.append('/home1/dscho/code/projects/unit_activity_and_hpc_theta')\n",
    "    import phase_locking\n",
    "    \n",
    "    try:\n",
    "        phase_dir = '/scratch/dscho/unit_activity_and_hpc_theta/data/crosselec_phase_locking/wavelet/phase'\n",
    "        phase_fname='phase-{}-iChan{}-iFreq{}-{}Hz-notch60_120Hz-nospikeinterp-5cycles-16log10freqs_0.5_to_90.5Hz.pkl'\n",
    "        output_dir = '/scratch/dscho/unit_activity_and_hpc_theta/data/crosselec_phase_locking/phase_locking/unit_to_region/hfa_removed'\n",
    "        output_fname = 'phase_locking_stats-{}-unit_{}-lfp_{}-{}Hz-notch60_120Hz{}5cycles-16log10freqs_0.5_to_90.5Hz.pkl'\n",
    "        info = phase_locking.calc_phase_locking_mrl_morlet_unit_to_region2(info,\n",
    "                                                                           n_freqs=16,\n",
    "                                                                           sampling_rate=2000,\n",
    "                                                                           time_win=2,\n",
    "                                                                           n_bootstraps=1000,\n",
    "                                                                           remove_hfa=True,\n",
    "                                                                           hfa_zthresh=3,\n",
    "                                                                           hfa_win=2.5,\n",
    "                                                                           max_hfa_overlap=0.2,\n",
    "                                                                           phase_dir=phase_dir,\n",
    "                                                                           phase_fname=phase_fname,\n",
    "                                                                           output_dir=output_dir,\n",
    "                                                                           output_fname=output_fname,\n",
    "                                                                           sleep_max=120)\n",
    "        return None\n",
    "    except:\n",
    "        err = sys.exc_info()\n",
    "        subj_sess = info.subj_sess\n",
    "        unit = info.unit\n",
    "        lfp_roi = info.lfp_hemroi\n",
    "        errf = '/home1/dscho/logs/calc_phase_locking_mrl_morlet_unit_to_region2_parallel-{}-unit_{}-lfp_{}'.format(subj_sess, unit, lfp_roi)\n",
    "        os.system('touch {}'.format(errf))\n",
    "        with open(errf, 'w') as f:\n",
    "            f.write(str(err)+'\\n')\n",
    "        return None\n",
    "    \n",
    "def get_epoch_plvs_sta_parallel(info_fpath):\n",
    "    import sys\n",
    "    sys.path.append('/home1/dscho/code/projects/unit_activity_and_hpc_theta')\n",
    "    import lfp_synchrony\n",
    "    \n",
    "    output = lfp_synchrony.get_epoch_plvs_sta(info_fpath)\n",
    "    \n",
    "    return None\n",
    "\n",
    "def calc_power_by_pl_fr_unit_to_region_parallel(info):\n",
    "    import os\n",
    "    import sys\n",
    "    sys.path.append('/home1/dscho/code/projects/unit_activity_and_hpc_theta')\n",
    "    import phase_locking\n",
    "    \n",
    "    try:       \n",
    "        _ = phase_locking.calc_power_by_pl_fr_unit_to_region(info,\n",
    "                                                             n_freqs=16,\n",
    "                                                             n_bootstraps=500,\n",
    "                                                             sampling_rate=2000,\n",
    "                                                             input_dir='/scratch/dscho/unit_activity_and_hpc_theta/data/crosselec_phase_locking',\n",
    "                                                             save_outputs=True,\n",
    "                                                             overwrite=False,\n",
    "                                                             output_dir='/scratch/dscho/unit_activity_and_hpc_theta/data/crosselec_phase_locking/power_by_pl_fr/target_lfp',\n",
    "                                                             sleep_max=240)\n",
    "        return None\n",
    "    except:\n",
    "        err = sys.exc_info()\n",
    "        subj_sess = info.subj_sess\n",
    "        unit = info.unit\n",
    "        lfp_roi = info.lfp_hemroi\n",
    "        errf = '/home1/dscho/logs/TryExceptError-calc_power_by_pl_fr_unit_to_region_parallel-{}-unit_{}-lfp_{}'.format(subj_sess, unit, lfp_roi)\n",
    "        os.system('touch {}'.format(errf))\n",
    "        with open(errf, 'w') as f:\n",
    "            f.write(str(err)+'\\n')\n",
    "        return None\n",
    "    \n",
    "def calc_power_by_pl_fr_unit_to_off_target_regions_parallel(info):\n",
    "    import os\n",
    "    import sys\n",
    "    sys.path.append('/home1/dscho/code/projects/unit_activity_and_hpc_theta')\n",
    "    import phase_locking\n",
    "    \n",
    "    try:       \n",
    "        _ = phase_locking.calc_power_by_pl_fr_unit_to_off_target_regions(info,\n",
    "                                                                         n_freqs=16,\n",
    "                                                                         n_bootstraps=500,\n",
    "                                                                         sampling_rate=2000,\n",
    "                                                                         input_dir='/scratch/dscho/unit_activity_and_hpc_theta/data/crosselec_phase_locking',\n",
    "                                                                         save_outputs=True,\n",
    "                                                                         overwrite=False,\n",
    "                                                                         output_dir='/scratch/dscho/unit_activity_and_hpc_theta/data/crosselec_phase_locking/power_by_pl_fr/off_target_lfp',\n",
    "                                                                         sleep_max=240)\n",
    "        return None\n",
    "    except:\n",
    "        err = sys.exc_info()\n",
    "        subj_sess = info.subj_sess\n",
    "        unit = info.unit\n",
    "        lfp_roi = info.lfp_hemroi\n",
    "        errf = '/home1/dscho/logs/TryExceptError-calc_power_by_pl_fr_unit_to_off_target_regions_parallel-{}-unit_{}-lfp_{}'.format(subj_sess, unit, lfp_roi)\n",
    "        os.system('touch {}'.format(errf))\n",
    "        with open(errf, 'w') as f:\n",
    "            f.write(str(err)+'\\n')\n",
    "        return None\n",
    "    \n",
    "def calc_power_by_pl_fr_unit_to_region_all_parallel(info):\n",
    "    import os\n",
    "    import sys\n",
    "    sys.path.append('/home1/dscho/code/projects/unit_activity_and_hpc_theta')\n",
    "    import phase_locking\n",
    "    \n",
    "    try:       \n",
    "        _ = phase_locking.calc_power_by_pl_fr_unit_to_region_all(info,\n",
    "                                                                 n_freqs=16,\n",
    "                                                                 n_bootstraps=1000,\n",
    "                                                                 sampling_rate=2000,\n",
    "                                                                 time_win=2,\n",
    "                                                                 test_phase_offsets=True,\n",
    "                                                                 input_dir='/scratch/dscho/unit_activity_and_hpc_theta/data/crosselec_phase_locking',\n",
    "                                                                 save_outputs=True,\n",
    "                                                                 overwrite=False,\n",
    "                                                                 output_dir='/scratch/dscho/unit_activity_and_hpc_theta/data/crosselec_phase_locking/power_by_pl_fr/lfp_all_regions',\n",
    "                                                                 sleep_max=600)\n",
    "        return None\n",
    "    except:\n",
    "        err = sys.exc_info()\n",
    "        subj_sess = info.subj_sess\n",
    "        unit = info.unit\n",
    "        lfp_roi = info.lfp_hemroi\n",
    "        errf = '/home1/dscho/logs/TryExceptError-calc_power_by_pl_fr_unit_to_region_all_parallel-{}-unit_{}-lfp_{}'.format(subj_sess, unit, lfp_roi)\n",
    "        os.system('touch {}'.format(errf))\n",
    "        with open(errf, 'w') as f:\n",
    "            f.write(str(err)+'\\n')\n",
    "        return None\n",
    "    \n",
    "def calc_power_by_pl_fr_unit_to_target_region_parallel(info):\n",
    "    import os\n",
    "    import sys\n",
    "    sys.path.append('/home1/dscho/code/projects/unit_activity_and_hpc_theta')\n",
    "    import phase_locking\n",
    "    \n",
    "    try:       \n",
    "        _ = phase_locking.calc_power_by_pl_fr_unit_to_target_region(info,\n",
    "                                                                    n_freqs=16,\n",
    "                                                                    n_bootstraps=1000,\n",
    "                                                                    sampling_rate=2000,\n",
    "                                                                    time_win=2,\n",
    "                                                                    test_phase_offsets=True,\n",
    "                                                                    subtract_mean=False,\n",
    "                                                                    input_dir='/scratch/dscho/unit_activity_and_hpc_theta/data/crosselec_phase_locking',\n",
    "                                                                    save_outputs=True,\n",
    "                                                                    overwrite=False,\n",
    "                                                                    output_dir='/scratch/dscho/unit_activity_and_hpc_theta/data/crosselec_phase_locking/power_by_pl_fr/lfp_target_region/sig_no_meanSub',\n",
    "                                                                    sleep_max=240)\n",
    "        return None\n",
    "    except:\n",
    "        err = sys.exc_info()\n",
    "        subj_sess = info.subj_sess\n",
    "        unit = info.unit\n",
    "        lfp_roi = info.lfp_hemroi\n",
    "        errf = '/home1/dscho/logs/TryExceptError-calc_power_by_pl_fr_unit_to_target_region_parallel-{}-unit_{}-lfp_{}'.format(subj_sess, unit, lfp_roi)\n",
    "        os.system('touch {}'.format(errf))\n",
    "        with open(errf, 'w') as f:\n",
    "            f.write(str(err)+'\\n')\n",
    "        return None\n",
    "    \n",
    "def calc_hpcfr_by_pl_fr_unit_to_target_region_parallel(info):\n",
    "    import os\n",
    "    import sys\n",
    "    sys.path.append('/home1/dscho/code/projects/unit_activity_and_hpc_theta')\n",
    "    import phase_locking\n",
    "    \n",
    "    try:       \n",
    "        _ = phase_locking.calc_hpcfr_by_pl_fr_unit_to_target_region(info,\n",
    "                                                                    n_bootstraps=1000,\n",
    "                                                                    sampling_rate=2000,\n",
    "                                                                    time_win=2,\n",
    "                                                                    test_phase_offsets=True,\n",
    "                                                                    input_dir='/scratch/dscho/unit_activity_and_hpc_theta/data/crosselec_phase_locking',\n",
    "                                                                    save_outputs=True,\n",
    "                                                                    overwrite=False,\n",
    "                                                                    output_dir='/scratch/dscho/unit_activity_and_hpc_theta/data/crosselec_phase_locking/hippocampal_fr_by_pl_fr/lfp_target_region/sig',\n",
    "                                                                    sleep_max=240)\n",
    "        return None\n",
    "    except:\n",
    "        err = sys.exc_info()\n",
    "        subj_sess = info.subj_sess\n",
    "        unit = info.unit\n",
    "        lfp_roi = info.lfp_hemroi\n",
    "        errf = '/home1/dscho/logs/TryExceptError-calc_hpcfr_by_pl_fr_unit_to_target_region_parallel-{}-unit_{}-lfp_{}'.format(subj_sess, unit, lfp_roi)\n",
    "        os.system('touch {}'.format(errf))\n",
    "        with open(errf, 'w') as f:\n",
    "            f.write(str(err)+'\\n')\n",
    "        return None\n",
    "    \n",
    "def calc_xpower_corrs_by_pl_fr_unit_to_target_region_parallel(info):\n",
    "    import os\n",
    "    import sys\n",
    "    sys.path.append('/home1/dscho/code/projects/unit_activity_and_hpc_theta')\n",
    "    import phase_locking\n",
    "    \n",
    "    try:       \n",
    "        _ = phase_locking.calc_xpower_corrs_by_pl_fr_unit_to_target_region(info,\n",
    "                                                                           n_bootstraps=1000,\n",
    "                                                                           sampling_rate=2000,\n",
    "                                                                           time_win=2,\n",
    "                                                                           test_phase_offsets=True,\n",
    "                                                                           subtract_mean=True,\n",
    "                                                                           input_dir='/scratch/dscho/unit_activity_and_hpc_theta/data/crosselec_phase_locking',\n",
    "                                                                           save_outputs=True,\n",
    "                                                                           overwrite=False,\n",
    "                                                                           output_dir='/scratch/dscho/unit_activity_and_hpc_theta/data/crosselec_phase_locking/power_by_pl_fr/lfp_target_region/xpower_corrs',\n",
    "                                                                           sleep_max=240)\n",
    "        return None\n",
    "    except:\n",
    "        err = sys.exc_info()\n",
    "        subj_sess = info.subj_sess\n",
    "        unit = info.unit\n",
    "        lfp_roi = info.lfp_hemroi\n",
    "        errf = '/home1/dscho/logs/TryExceptError-calc_xpower_corrs_by_pl_fr_unit_to_target_region_parallel-{}-unit_{}-lfp_{}'.format(subj_sess, unit, lfp_roi)\n",
    "        os.system('touch {}'.format(errf))\n",
    "        with open(errf, 'w') as f:\n",
    "            f.write(str(err)+'\\n')\n",
    "        return None\n",
    "    \n",
    "def calc_power_by_pl_fr_unit_to_target_region2_parallel(info):\n",
    "    import os\n",
    "    import sys\n",
    "    sys.path.append('/home1/dscho/code/projects/unit_activity_and_hpc_theta')\n",
    "    import phase_locking\n",
    "    \n",
    "    try:       \n",
    "        _ = phase_locking.calc_power_by_pl_fr_unit_to_target_region2(info,\n",
    "                                                                     n_freqs=16,\n",
    "                                                                     n_bootstraps=1000,\n",
    "                                                                     sampling_rate=2000,\n",
    "                                                                     time_win=2,\n",
    "                                                                     input_dir='/scratch/dscho/unit_activity_and_hpc_theta/data/crosselec_phase_locking',\n",
    "                                                                     save_outputs=True,\n",
    "                                                                     overwrite=False,\n",
    "                                                                     output_dir='/scratch/dscho/unit_activity_and_hpc_theta/data/crosselec_phase_locking/power_by_pl_fr/lfp_target_region/sig_all_rois',\n",
    "                                                                     sleep_max=240)\n",
    "        return None\n",
    "    except:\n",
    "        err = sys.exc_info()\n",
    "        subj_sess = info.subj_sess\n",
    "        unit = info.unit\n",
    "        lfp_roi = info.lfp_hemroi\n",
    "        errf = '/home1/dscho/logs/TryExceptError-calc_power_by_pl_fr_unit_to_target_region2_parallel-{}-unit_{}-lfp_{}'.format(subj_sess, unit, lfp_roi)\n",
    "        os.system('touch {}'.format(errf))\n",
    "        with open(errf, 'w') as f:\n",
    "            f.write(str(err)+'\\n')\n",
    "        return None"
   ]
  },
  {
   "cell_type": "code",
   "execution_count": 3,
   "metadata": {},
   "outputs": [
    {
     "name": "stdout",
     "output_type": "stream",
     "text": [
      "43\n"
     ]
    }
   ],
   "source": [
    "sessions1 = ['U387_ses3', 'U369_env1', 'U372_ses2', 'U390_ses3', \n",
    "             'U369_env2', 'U373_ses1', 'U387_ses1', 'U380_ses2',\n",
    "             'U393_ses2', 'U395_ses2', 'U384_ses3', 'U385_ses4', \n",
    "             'U371_env2', 'U371_env3']\n",
    "\n",
    "sessions2 = ['U379_ses1', 'U380_ses1a', 'U381_ses1', 'U390_ses1',\n",
    "             'U394_ses3', 'U395_ses3', 'U370_env1', 'U371_env1',\n",
    "             'U372_ses1', 'U373_ses2', 'U373_ses3', 'U374_ses1', \n",
    "             'U374_ses2', 'U380_ses3', 'U381_ses2', 'U381_ses3', \n",
    "             'U384_ses1', 'U384_ses2', 'U387_ses2', 'U390_ses2', \n",
    "             'U390_ses4', 'U392_ses1', 'U394_ses1', 'U395_ses1', \n",
    "             'U396_ses2', 'U396_ses3', 'U385_ses1', 'U385_ses2', \n",
    "             'U385_ses3']\n",
    "\n",
    "sessions_nohpc = ['U386_ses1', 'U386_ses2'] \n",
    "\n",
    "sessions = sessions1 + sessions2 #+ sessions_nohpc\n",
    "#sessions = np.unique(sessions)\n",
    "\n",
    "print(len(sessions))"
   ]
  },
  {
   "cell_type": "markdown",
   "metadata": {},
   "source": [
    "### Saving phase and power vectors"
   ]
  },
  {
   "cell_type": "code",
   "execution_count": 18,
   "metadata": {},
   "outputs": [
    {
     "name": "stdout",
     "output_type": "stream",
     "text": [
      "0/43136 unsaved phase vector files\n",
      "0 parallel operations to run\n"
     ]
    }
   ],
   "source": [
    "# Get a list of all files we still need to make phase vectors for.\n",
    "sleep_multiplier = 10 # secs between running subsequent operations\n",
    "\n",
    "freqs = np.array([2**((i/2) - 1) for i in range(16)])\n",
    "phase_dir = '/scratch/dscho/unit_activity_and_hpc_theta/data/crosselec_phase_locking/wavelet/phase'\n",
    "subj_df = phase_locking.get_subj_df()\n",
    "subj_df.insert(4, 'chan_ind', subj_df.chan.apply(lambda x: int(x)-1))\n",
    "chans_by_sub = subj_df.groupby('subj_sess').size().to_dict()\n",
    "\n",
    "phase_vec_files = [] # all phase vector files in the study\n",
    "files_to_run = [] # individual files that have not been created yet\n",
    "info_list = [] # input list to the parallel wrapper function\n",
    "for subj_sess in sessions:\n",
    "    for iChan in range(chans_by_sub[subj_sess]):\n",
    "        chan = str(iChan + 1)\n",
    "        files_exist = True\n",
    "        for iFreq in range(len(freqs)):\n",
    "            fpath = os.path.join(phase_dir, 'phase-{}-iChan{}-iFreq{}-2000Hz-notch60_120Hz-nospikeinterp-5cycles-16log10freqs_0.5_to_90.5Hz.pkl'.format(subj_sess, iChan, iFreq))\n",
    "            phase_vec_files.append(fpath)\n",
    "            if not os.path.exists(fpath):\n",
    "                files_exist = False\n",
    "                files_to_run.append(fpath)\n",
    "        if not files_exist:\n",
    "            info_list.append([subj_sess, [chan], sleep_multiplier * len(info_list)])\n",
    "\n",
    "print('{}/{} unsaved phase vector files'.format(len(files_to_run), len(phase_vec_files)))\n",
    "print('{} parallel operations to run'.format(len(info_list)))\n",
    "if info_list:\n",
    "    print('The last operation will start in {} mins'.format(int(info_list[-1][-1]/60)))"
   ]
  },
  {
   "cell_type": "code",
   "execution_count": null,
   "metadata": {},
   "outputs": [
    {
     "name": "stdout",
     "output_type": "stream",
     "text": [
      "Running code for 2696 operations.\n",
      "\n",
      "33 Engines running\n"
     ]
    }
   ],
   "source": [
    "# Parallel processing\n",
    "print('Running code for {} operations.\\n'.format(len(info_list)))\n",
    "with cluster_view(scheduler=\"sge\", queue=\"RAM.q\", num_jobs=np.min((len(info_list), 300)), cores_per_job=1) as view: \n",
    "    output = view.map(save_phase_vectors_parallel, info_list)"
   ]
  },
  {
   "cell_type": "code",
   "execution_count": 14,
   "metadata": {},
   "outputs": [
    {
     "name": "stdout",
     "output_type": "stream",
     "text": [
      "0/43136 unsaved power vector files\n",
      "0 parallel operations to run\n"
     ]
    }
   ],
   "source": [
    "# Get a list of all files we still need to make power vectors for.\n",
    "sleep_multiplier = 10 # secs between running subsequent operations\n",
    "\n",
    "freqs = np.array([2**((i/2) - 1) for i in range(16)])\n",
    "power_dir = '/scratch/dscho/unit_activity_and_hpc_theta/data/crosselec_phase_locking/wavelet/power'\n",
    "subj_df = phase_locking.get_subj_df()\n",
    "subj_df.insert(4, 'chan_ind', subj_df.chan.apply(lambda x: int(x)-1))\n",
    "chans_by_sub = subj_df.groupby('subj_sess').size().to_dict()\n",
    "\n",
    "power_vec_files = [] # all power vector files in the study\n",
    "files_to_run = [] # individual files that have not been created yet\n",
    "info_list = [] # input list to the parallel wrapper function\n",
    "for subj_sess in sessions:\n",
    "    for iChan in range(chans_by_sub[subj_sess]):\n",
    "        chan = str(iChan + 1)\n",
    "        files_exist = True\n",
    "        for iFreq in range(len(freqs)):\n",
    "            fpath = os.path.join(power_dir, 'power-Z-log-{}-iChan{}-iFreq{}-2000Hz-notch60_120Hz-nospikeinterp-5cycles-16log10freqs_0.5_to_90.5Hz.pkl'.format(subj_sess, iChan, iFreq))\n",
    "            power_vec_files.append(fpath)\n",
    "            if not os.path.exists(fpath):\n",
    "                files_exist = False\n",
    "                files_to_run.append(fpath)\n",
    "        if not files_exist:\n",
    "            info_list.append([subj_sess, [chan], sleep_multiplier * len(info_list)])\n",
    "\n",
    "print('{}/{} unsaved power vector files'.format(len(files_to_run), len(power_vec_files)))\n",
    "print('{} parallel operations to run'.format(len(info_list)))\n",
    "if info_list:\n",
    "    print('The last operation will start in {} mins'.format(int(info_list[-1][-1]/60)))"
   ]
  },
  {
   "cell_type": "code",
   "execution_count": 15,
   "metadata": {},
   "outputs": [],
   "source": [
    "# Parallel processing\n",
    "print('Running code for {} operations.\\n'.format(len(info_list)))\n",
    "with cluster_view(scheduler=\"sge\", queue=\"RAM.q\", num_jobs=np.min((len(info_list), 200)), cores_per_job=1) as view: \n",
    "    output = view.map(save_power_vectors_parallel, info_list)"
   ]
  },
  {
   "cell_type": "markdown",
   "metadata": {},
   "source": [
    "### calc_phase_locking_mrl_morlet_unit_to_region_parallel()"
   ]
  },
  {
   "cell_type": "code",
   "execution_count": 288,
   "metadata": {},
   "outputs": [
    {
     "name": "stdout",
     "output_type": "stream",
     "text": [
      "13186 unit to region pairs\n",
      "11 pairs to process\n",
      "(array(['U372_ses2', 'U379_ses1', 'U384_ses2', 'U387_ses1', 'U387_ses2',\n",
      "       'U392_ses1', 'U394_ses3'], dtype='<U9'), array([1, 1, 1, 2, 1, 4, 1]))\n"
     ]
    }
   ],
   "source": [
    "# Prep for calc_phase_locking_mrl_morlet_unit_to_region_parallel()\n",
    "import sys\n",
    "import os.path as op\n",
    "import pandas as pd\n",
    "sys.path.append('/home1/dscho/code/general')\n",
    "sys.path.append('/home1/dscho/code/projects/unit_activity_and_hpc_theta')\n",
    "import data_io as dio\n",
    "import phase_locking\n",
    "\n",
    "u2r_file = '{}_unit_to_lfp-region_pairs_df.pkl'\n",
    "u2r_path = op.join('/scratch/dscho/unit_activity_and_hpc_theta/data/crosselec_phase_locking/metadata', u2r_file.format(sessions[0]))\n",
    "u2r_df = dio.open_pickle(u2r_path)\n",
    "for subj_sess in sessions[1:]:\n",
    "    u2r_path = op.join('/scratch/dscho/unit_activity_and_hpc_theta/data/crosselec_phase_locking/metadata', u2r_file.format(subj_sess))\n",
    "    u2r_df = u2r_df.append(dio.open_pickle(u2r_path))\n",
    "u2r_df.reset_index(drop=True, inplace=True)\n",
    "u2r_df = [u2r_df.iloc[i] for i in range(len(u2r_df))]\n",
    "print('{} unit to region pairs'.format(len(u2r_df)))\n",
    "\n",
    "pairs_to_process = []\n",
    "# output_fname = op.join('/home1/dscho/projects/unit_activity_and_hpc_theta/data/crosselec_phase_locking/phase_locking/unit_to_region/cospikes_removed',\n",
    "#                        'phase_locking_stats-{}-unit_{}-lfp_{}-2000Hz-notch60_120Hz-remove_cospikes4-5cycles-16log10freqs_0.5_to_90.5Hz.pkl')\n",
    "output_fname = op.join('/home1/dscho/projects/unit_activity_and_hpc_theta/data/crosselec_phase_locking/phase_locking/unit_to_region/hfa_removed',\n",
    "                       'phase_locking_stats-{}-unit_{}-lfp_{}-2000Hz-notch60_120Hz-remove_hfa_z3_2.5ms-5cycles-16log10freqs_0.5_to_90.5Hz.pkl')\n",
    "for row in u2r_df:\n",
    "    if (row['edge']=='hpc-local') & (not op.exists(output_fname.format(row.subj_sess, row.unit, row.lfp_hemroi))):\n",
    "        pairs_to_process.append(row)\n",
    "print('{} pairs to process'.format(len(pairs_to_process)))\n",
    "print(np.unique([x.subj_sess for x in pairs_to_process], return_counts=True))"
   ]
  },
  {
   "cell_type": "code",
   "execution_count": 284,
   "metadata": {},
   "outputs": [],
   "source": [
    "# Parallel processing\n",
    "n_ops = len(pairs_to_process)\n",
    "print('Running code for {} operations.\\n'.format(len(pairs_to_process)))\n",
    "with cluster_view(scheduler=\"sge\", queue=\"RAM.q\", num_jobs=np.min((n_ops, 100)), cores_per_job=1) as view: \n",
    "    output = view.map(calc_phase_locking_mrl_morlet_unit_to_region2_parallel, pairs_to_process)"
   ]
  },
  {
   "cell_type": "code",
   "execution_count": 289,
   "metadata": {},
   "outputs": [],
   "source": [
    "# output_dir = '/scratch/dscho/unit_activity_and_hpc_theta/data/crosselec_phase_locking/phase_locking/unit_to_region/hfa_removed'\n",
    "# dio.open_pickle(op.join(output_dir, 'phase_locking_stats-U369_env1-unit_53-lfp_LMH-2000Hz-notch60_120Hz-remove_hfa_z3_2.5ms-5cycles-16log10freqs_0.5_to_90.5Hz.pkl'))"
   ]
  },
  {
   "cell_type": "code",
   "execution_count": 104,
   "metadata": {},
   "outputs": [
    {
     "name": "stdout",
     "output_type": "stream",
     "text": [
      "[91, 92, 93, 95, 96, 97, 98, 99, 100, 101]\n"
     ]
    }
   ],
   "source": [
    "select_idx = []\n",
    "for idx, input_dat in enumerate(pairs_to_process):\n",
    "    if (input_dat['subj_sess']=='U371_env2') & (input_dat['lfp_hemroi']=='LPH'):\n",
    "        select_idx.append(idx)\n",
    "print(select_idx)"
   ]
  },
  {
   "cell_type": "code",
   "execution_count": 293,
   "metadata": {},
   "outputs": [
    {
     "data": {
      "text/plain": [
       "[('U372_ses2_9', 0.1639113941834871),\n",
       " ('U387_ses1_18', 0.516636435169547),\n",
       " ('U387_ses1_19', 0.16244955179934356),\n",
       " ('U379_ses1_57', 0.26034097535141576),\n",
       " ('U394_ses3_21', 0.6964163119593574),\n",
       " ('U384_ses2_11', 0.44706981866168655),\n",
       " ('U387_ses2_18', 0.25937818002172747),\n",
       " ('U392_ses1_10', 0.44115583989463275),\n",
       " ('U392_ses1_11', 0.3188379920394849),\n",
       " ('U392_ses1_2', 0.3634753109250128),\n",
       " ('U392_ses1_8', 0.19594043874426526)]"
      ]
     },
     "execution_count": 293,
     "metadata": {},
     "output_type": "execute_result"
    }
   ],
   "source": [
    "[(x['subj_sess_unit'], x['unit_fr']) for x in pairs_to_process]"
   ]
  },
  {
   "cell_type": "code",
   "execution_count": 290,
   "metadata": {},
   "outputs": [
    {
     "name": "stdout",
     "output_type": "stream",
     "text": [
      "No channels could be processed after removing HFA overlap.\n",
      "No channels could be processed after removing HFA overlap.\n",
      "No channels could be processed after removing HFA overlap.\n",
      "No channels could be processed after removing HFA overlap.\n",
      "No channels could be processed after removing HFA overlap.\n",
      "No channels could be processed after removing HFA overlap.\n",
      "No channels could be processed after removing HFA overlap.\n",
      "No channels could be processed after removing HFA overlap.\n",
      "No channels could be processed after removing HFA overlap.\n",
      "No channels could be processed after removing HFA overlap.\n",
      "No channels could be processed after removing HFA overlap.\n",
      "Done in 99.0s\n"
     ]
    }
   ],
   "source": [
    "# Serial processing\n",
    "start_time = time()\n",
    "\n",
    "phase_dir = '/scratch/dscho/unit_activity_and_hpc_theta/data/crosselec_phase_locking/wavelet/phase'\n",
    "phase_fname='phase-{}-iChan{}-iFreq{}-{}Hz-notch60_120Hz-nospikeinterp-5cycles-16log10freqs_0.5_to_90.5Hz.pkl'\n",
    "output_dir = '/scratch/dscho/unit_activity_and_hpc_theta/data/crosselec_phase_locking/phase_locking/unit_to_region/hfa_removed'\n",
    "output_fname = 'phase_locking_stats-{}-unit_{}-lfp_{}-{}Hz-notch60_120Hz{}5cycles-16log10freqs_0.5_to_90.5Hz.pkl'\n",
    "for input_dat in pairs_to_process:\n",
    "    info = phase_locking.calc_phase_locking_mrl_morlet_unit_to_region2(input_dat.copy(),\n",
    "                                                                       n_freqs=16,\n",
    "                                                                       sampling_rate=2000,\n",
    "                                                                       time_win=2,\n",
    "                                                                       n_bootstraps=1000,\n",
    "                                                                       remove_hfa=True,\n",
    "                                                                       hfa_zthresh=3,\n",
    "                                                                       hfa_win=2.5,\n",
    "                                                                       max_hfa_overlap=0.2,\n",
    "                                                                       phase_dir=phase_dir,\n",
    "                                                                       phase_fname=phase_fname,\n",
    "                                                                       output_dir=output_dir,\n",
    "                                                                       output_fname=output_fname,\n",
    "                                                                       save_outputs=True)\n",
    "\n",
    "print('Done in {:.1f}s'.format(time() - start_time))"
   ]
  },
  {
   "cell_type": "code",
   "execution_count": 249,
   "metadata": {},
   "outputs": [
    {
     "data": {
      "text/plain": [
       "<module 'phase_locking' from '/home1/dscho/code/projects/unit_activity_and_hpc_theta/phase_locking.py'>"
      ]
     },
     "execution_count": 249,
     "metadata": {},
     "output_type": "execute_result"
    }
   ],
   "source": [
    "reload(phase_locking)"
   ]
  },
  {
   "cell_type": "code",
   "execution_count": 270,
   "metadata": {},
   "outputs": [],
   "source": [
    "sr = 2000\n",
    "output_fname='phase_locking_stats-{}-unit_{}-lfp_{}-{}Hz-notch60_120Hz{}5cycles-16log10freqs_0.5_to_90.5Hz.pkl'\n",
    "filename = op.join(output_dir, output_fname.format(info['subj_sess'], info['unit'], info['lfp_hemroi'], sr, '-'))\n",
    "info_allspikes = dio.open_pickle(filename)"
   ]
  },
  {
   "cell_type": "code",
   "execution_count": 273,
   "metadata": {},
   "outputs": [
    {
     "data": {
      "text/plain": [
       "subj_sess                                                                      U371_env2\n",
       "subj_sess_unit                                                              U371_env2_23\n",
       "unit                                                                                  23\n",
       "unit_chan_ind                                                                         43\n",
       "unit_hemroi                                                                          LPH\n",
       "unit_hem                                                                               L\n",
       "unit_roi                                                                              PH\n",
       "unit_is_hpc                                                                            1\n",
       "unit_nspikes                                                                        3978\n",
       "unit_fr                                                                          1.91357\n",
       "lfp_hemroi                                                                           LPH\n",
       "lfp_hem                                                                                L\n",
       "lfp_roi                                                                               PH\n",
       "lfp_is_hpc                                                                             1\n",
       "same_chan                                                                              0\n",
       "same_hemroi                                                                            1\n",
       "same_hem                                                                               1\n",
       "same_roi                                                                               1\n",
       "both_hpc                                                                               1\n",
       "unit_hemroi2                                                                        lhpc\n",
       "lfp_hemroi2                                                                         lhpc\n",
       "unit_roi2                                                                            hpc\n",
       "lfp_roi2                                                                             hpc\n",
       "same_roi2                                                                           True\n",
       "lfp_chan_inds                                               [40, 41, 42, 44, 45, 46, 47]\n",
       "edge                                                                           hpc-local\n",
       "unit_nsamp_spikes                             [3758, 1426, 1377, 3684, 3941, 3755, 3694]\n",
       "keep_chans                                  [True, False, False, True, True, True, True]\n",
       "spike_inds                             [6408, 12629, 13799, 13883, 14502, 16296, 1664...\n",
       "bs_mrls                                [[0.02292347, 0.022466281, 0.027638646, 0.0229...\n",
       "tl_mrls                                [[0.021776449, 0.021593053, 0.021453245, 0.023...\n",
       "bs_mrls_z                              [[-0.56558424, -0.6393337, 0.19502564, -0.5680...\n",
       "tl_mrls_z                              [[1.3798064, 1.1682122, 1.2148463, 1.4025137, ...\n",
       "mrls_z                                 [0.267679, -1.8662808, -1.330729, 0.75012654, ...\n",
       "locked_freq_ind_z                                                                     14\n",
       "locked_mrl_z                                                                     9.94543\n",
       "bs_ind_z                                                                               0\n",
       "bs_pval_z                                                                    0.000999001\n",
       "sig_z                                                                               True\n",
       "tl_locked_freq_z                                                                      14\n",
       "tl_locked_time_z                                                                     -10\n",
       "tl_locked_mrl_z                                                                  9.94798\n",
       "pref_phase                                                                      -3.00902\n",
       "phase_offsets                          [2.0669405, 1.7217585, 1.3052626, 2.0116656, 1...\n",
       "pref_phase_tl_locked_time_freq_z                                                -1.66887\n",
       "phase_offsets_tl_locked_time_freq_z    [2.681422, 1.65467, 1.335127, 0.9301079, 1.857...\n",
       "Name: 3785, dtype: object"
      ]
     },
     "execution_count": 273,
     "metadata": {},
     "output_type": "execute_result"
    }
   ],
   "source": [
    "info2"
   ]
  },
  {
   "cell_type": "code",
   "execution_count": null,
   "metadata": {},
   "outputs": [],
   "source": []
  },
  {
   "cell_type": "code",
   "execution_count": 274,
   "metadata": {},
   "outputs": [
    {
     "data": {
      "text/plain": [
       "[<matplotlib.lines.Line2D at 0x2b3eb4a185f8>]"
      ]
     },
     "execution_count": 274,
     "metadata": {},
     "output_type": "execute_result"
    },
    {
     "data": {
      "image/png": "[encoded data removed]",
      "text/plain": [
       "<Figure size 432x288 with 1 Axes>"
      ]
     },
     "metadata": {},
     "output_type": "display_data"
    }
   ],
   "source": [
    "import matplotlib.pyplot as plt\n",
    "%matplotlib inline\n",
    "\n",
    "plt.close()\n",
    "plt.plot(info_allspikes['mrls_z'])\n",
    "plt.plot(info['mrls_z'])\n",
    "plt.plot(info2['mrls_z'])"
   ]
  },
  {
   "cell_type": "code",
   "execution_count": 265,
   "metadata": {},
   "outputs": [
    {
     "data": {
      "text/plain": [
       "[<matplotlib.lines.Line2D at 0x2b3eb54c0710>]"
      ]
     },
     "execution_count": 265,
     "metadata": {},
     "output_type": "execute_result"
    },
    {
     "data": {
      "image/png": "[encoded data removed]",
      "text/plain": [
       "<Figure size 432x288 with 1 Axes>"
      ]
     },
     "metadata": {},
     "output_type": "display_data"
    }
   ],
   "source": [
    "import matplotlib.pyplot as plt\n",
    "%matplotlib inline\n",
    "\n",
    "plt.close()\n",
    "plt.plot(info_allspikes['mrls_z'])\n",
    "plt.plot(info['mrls_z'])\n",
    "#plt.plot(info2['mrls_z'])"
   ]
  },
  {
   "cell_type": "code",
   "execution_count": 254,
   "metadata": {},
   "outputs": [
    {
     "data": {
      "text/plain": [
       "[<matplotlib.lines.Line2D at 0x2b3eb527ba58>]"
      ]
     },
     "execution_count": 254,
     "metadata": {},
     "output_type": "execute_result"
    },
    {
     "data": {
      "image/png": "[encoded data removed]",
      "text/plain": [
       "<Figure size 432x288 with 1 Axes>"
      ]
     },
     "metadata": {},
     "output_type": "display_data"
    }
   ],
   "source": [
    "import matplotlib.pyplot as plt\n",
    "%matplotlib inline\n",
    "\n",
    "plt.close()\n",
    "plt.plot(info_allspikes['mrls_z'])\n",
    "plt.plot(info['mrls_z'])\n",
    "plt.plot(info2['mrls_z'])"
   ]
  },
  {
   "cell_type": "code",
   "execution_count": 162,
   "metadata": {},
   "outputs": [
    {
     "data": {
      "text/plain": [
       "[<matplotlib.lines.Line2D at 0x2b3eb4427588>]"
      ]
     },
     "execution_count": 162,
     "metadata": {},
     "output_type": "execute_result"
    },
    {
     "data": {
      "image/png": "[encoded data removed]",
      "text/plain": [
       "<Figure size 432x288 with 1 Axes>"
      ]
     },
     "metadata": {},
     "output_type": "display_data"
    }
   ],
   "source": [
    "import matplotlib.pyplot as plt\n",
    "%matplotlib inline\n",
    "\n",
    "plt.close()\n",
    "plt.plot(info_allspikes['mrls_z'])\n",
    "plt.plot(info['mrls_z'])\n",
    "plt.plot(info2['mrls_z'])"
   ]
  },
  {
   "cell_type": "markdown",
   "metadata": {},
   "source": [
    "### calc_power_by_pl_fr_unit_to_target_region_parallel()"
   ]
  },
  {
   "cell_type": "code",
   "execution_count": 5,
   "metadata": {},
   "outputs": [
    {
     "name": "stdout",
     "output_type": "stream",
     "text": [
      "362 jobs\n"
     ]
    }
   ],
   "source": [
    "input_files = glob('/scratch/dscho/unit_activity_and_hpc_theta/data/crosselec_phase_locking/phase_locking/unit_to_region_for_power/sig/*.pkl')\n",
    "info = [dio.open_pickle(f) for f in input_files]\n",
    "print('{} jobs'.format(len(info)))"
   ]
  },
  {
   "cell_type": "code",
   "execution_count": 15,
   "metadata": {},
   "outputs": [],
   "source": [
    "# Parallel processing\n",
    "print('Running code for {} jobs.\\n'.format(len(info)))\n",
    "with cluster_view(scheduler=\"sge\", queue=\"RAM.q\", num_jobs=min(300, len(info)), cores_per_job=1) as view: \n",
    "    output = view.map(calc_power_by_pl_fr_unit_to_target_region_parallel, info)"
   ]
  },
  {
   "cell_type": "code",
   "execution_count": null,
   "metadata": {},
   "outputs": [
    {
     "name": "stdout",
     "output_type": "stream",
     "text": [
      "Running code for 362 jobs.\n",
      "\n",
      "300 Engines running\n"
     ]
    }
   ],
   "source": [
    "# Parallel processing\n",
    "print('Running code for {} jobs.\\n'.format(len(info)))\n",
    "with cluster_view(scheduler=\"sge\", queue=\"RAM.q\", num_jobs=min(300, len(info)), cores_per_job=1) as view: \n",
    "    output = view.map(calc_xpower_corrs_by_pl_fr_unit_to_target_region_parallel, info)"
   ]
  },
  {
   "cell_type": "code",
   "execution_count": 22,
   "metadata": {},
   "outputs": [
    {
     "name": "stdout",
     "output_type": "stream",
     "text": [
      "Running code for 362 jobs.\n",
      "\n",
      "250 Engines running\n",
      "Sending a shutdown signal to the controller and engines.\n"
     ]
    },
    {
     "ename": "OSError",
     "evalue": "[Errno 16] Device or resource busy: '.nfs0000002b0000b4c500000713'",
     "output_type": "error",
     "traceback": [
      "\u001b[0;31m---------------------------------------------------------------------------\u001b[0m",
      "\u001b[0;31mOSError\u001b[0m                                   Traceback (most recent call last)",
      "\u001b[0;32m<ipython-input-22-f1d75b0a3eb1>\u001b[0m in \u001b[0;36m<module>\u001b[0;34m()\u001b[0m\n\u001b[1;32m      2\u001b[0m \u001b[0mprint\u001b[0m\u001b[0;34m(\u001b[0m\u001b[0;34m'Running code for {} jobs.\\n'\u001b[0m\u001b[0;34m.\u001b[0m\u001b[0mformat\u001b[0m\u001b[0;34m(\u001b[0m\u001b[0mlen\u001b[0m\u001b[0;34m(\u001b[0m\u001b[0minfo\u001b[0m\u001b[0;34m)\u001b[0m\u001b[0;34m)\u001b[0m\u001b[0;34m)\u001b[0m\u001b[0;34m\u001b[0m\u001b[0;34m\u001b[0m\u001b[0m\n\u001b[1;32m      3\u001b[0m \u001b[0;32mwith\u001b[0m \u001b[0mcluster_view\u001b[0m\u001b[0;34m(\u001b[0m\u001b[0mscheduler\u001b[0m\u001b[0;34m=\u001b[0m\u001b[0;34m\"sge\"\u001b[0m\u001b[0;34m,\u001b[0m \u001b[0mqueue\u001b[0m\u001b[0;34m=\u001b[0m\u001b[0;34m\"RAM.q\"\u001b[0m\u001b[0;34m,\u001b[0m \u001b[0mnum_jobs\u001b[0m\u001b[0;34m=\u001b[0m\u001b[0mmin\u001b[0m\u001b[0;34m(\u001b[0m\u001b[0;36m250\u001b[0m\u001b[0;34m,\u001b[0m \u001b[0mlen\u001b[0m\u001b[0;34m(\u001b[0m\u001b[0minfo\u001b[0m\u001b[0;34m)\u001b[0m\u001b[0;34m)\u001b[0m\u001b[0;34m,\u001b[0m \u001b[0mcores_per_job\u001b[0m\u001b[0;34m=\u001b[0m\u001b[0;36m1\u001b[0m\u001b[0;34m)\u001b[0m \u001b[0;32mas\u001b[0m \u001b[0mview\u001b[0m\u001b[0;34m:\u001b[0m\u001b[0;34m\u001b[0m\u001b[0;34m\u001b[0m\u001b[0m\n\u001b[0;32m----> 4\u001b[0;31m     \u001b[0moutput\u001b[0m \u001b[0;34m=\u001b[0m \u001b[0mview\u001b[0m\u001b[0;34m.\u001b[0m\u001b[0mmap\u001b[0m\u001b[0;34m(\u001b[0m\u001b[0mcalc_power_by_pl_fr_unit_to_target_region2_parallel\u001b[0m\u001b[0;34m,\u001b[0m \u001b[0minfo\u001b[0m\u001b[0;34m)\u001b[0m\u001b[0;34m\u001b[0m\u001b[0;34m\u001b[0m\u001b[0m\n\u001b[0m",
      "\u001b[0;32m/home1/dscho/anaconda3/envs/memlab/lib/python3.6/contextlib.py\u001b[0m in \u001b[0;36m__exit__\u001b[0;34m(self, type, value, traceback)\u001b[0m\n\u001b[1;32m     86\u001b[0m         \u001b[0;32mif\u001b[0m \u001b[0mtype\u001b[0m \u001b[0;32mis\u001b[0m \u001b[0;32mNone\u001b[0m\u001b[0;34m:\u001b[0m\u001b[0;34m\u001b[0m\u001b[0;34m\u001b[0m\u001b[0m\n\u001b[1;32m     87\u001b[0m             \u001b[0;32mtry\u001b[0m\u001b[0;34m:\u001b[0m\u001b[0;34m\u001b[0m\u001b[0;34m\u001b[0m\u001b[0m\n\u001b[0;32m---> 88\u001b[0;31m                 \u001b[0mnext\u001b[0m\u001b[0;34m(\u001b[0m\u001b[0mself\u001b[0m\u001b[0;34m.\u001b[0m\u001b[0mgen\u001b[0m\u001b[0;34m)\u001b[0m\u001b[0;34m\u001b[0m\u001b[0;34m\u001b[0m\u001b[0m\n\u001b[0m\u001b[1;32m     89\u001b[0m             \u001b[0;32mexcept\u001b[0m \u001b[0mStopIteration\u001b[0m\u001b[0;34m:\u001b[0m\u001b[0;34m\u001b[0m\u001b[0;34m\u001b[0m\u001b[0m\n\u001b[1;32m     90\u001b[0m                 \u001b[0;32mreturn\u001b[0m \u001b[0;32mFalse\u001b[0m\u001b[0;34m\u001b[0m\u001b[0;34m\u001b[0m\u001b[0m\n",
      "\u001b[0;32m/home1/dscho/anaconda3/envs/memlab/lib/python3.6/site-packages/cluster_helper/cluster.py\u001b[0m in \u001b[0;36mcluster_view\u001b[0;34m(scheduler, queue, num_jobs, cores_per_job, profile, start_wait, extra_params, retries, direct, wait_for_all_engines)\u001b[0m\n\u001b[1;32m   1148\u001b[0m         \u001b[0;32myield\u001b[0m \u001b[0mcluster_view\u001b[0m\u001b[0;34m.\u001b[0m\u001b[0mview\u001b[0m\u001b[0;34m\u001b[0m\u001b[0;34m\u001b[0m\u001b[0m\n\u001b[1;32m   1149\u001b[0m     \u001b[0;32mfinally\u001b[0m\u001b[0;34m:\u001b[0m\u001b[0;34m\u001b[0m\u001b[0;34m\u001b[0m\u001b[0m\n\u001b[0;32m-> 1150\u001b[0;31m         \u001b[0mcluster_view\u001b[0m\u001b[0;34m.\u001b[0m\u001b[0mstop\u001b[0m\u001b[0;34m(\u001b[0m\u001b[0;34m)\u001b[0m\u001b[0;34m\u001b[0m\u001b[0;34m\u001b[0m\u001b[0m\n\u001b[0m\u001b[1;32m   1151\u001b[0m \u001b[0;34m\u001b[0m\u001b[0m\n\u001b[1;32m   1152\u001b[0m \u001b[0;32mdef\u001b[0m \u001b[0m_nengines_up\u001b[0m\u001b[0;34m(\u001b[0m\u001b[0murl_file\u001b[0m\u001b[0;34m)\u001b[0m\u001b[0;34m:\u001b[0m\u001b[0;34m\u001b[0m\u001b[0;34m\u001b[0m\u001b[0m\n",
      "\u001b[0;32m/home1/dscho/anaconda3/envs/memlab/lib/python3.6/site-packages/cluster_helper/cluster.py\u001b[0m in \u001b[0;36mstop\u001b[0;34m(self)\u001b[0m\n\u001b[1;32m   1118\u001b[0m             \u001b[0m_stop\u001b[0m\u001b[0;34m(\u001b[0m\u001b[0mself\u001b[0m\u001b[0;34m.\u001b[0m\u001b[0mprofile\u001b[0m\u001b[0;34m,\u001b[0m \u001b[0mself\u001b[0m\u001b[0;34m.\u001b[0m\u001b[0mcluster_id\u001b[0m\u001b[0;34m)\u001b[0m\u001b[0;34m\u001b[0m\u001b[0;34m\u001b[0m\u001b[0m\n\u001b[1;32m   1119\u001b[0m             \u001b[0;32mif\u001b[0m \u001b[0mself\u001b[0m\u001b[0;34m.\u001b[0m\u001b[0mhas_throwaway\u001b[0m\u001b[0;34m:\u001b[0m\u001b[0;34m\u001b[0m\u001b[0;34m\u001b[0m\u001b[0m\n\u001b[0;32m-> 1120\u001b[0;31m                 \u001b[0mdelete_profile\u001b[0m\u001b[0;34m(\u001b[0m\u001b[0mself\u001b[0m\u001b[0;34m.\u001b[0m\u001b[0mprofile\u001b[0m\u001b[0;34m)\u001b[0m\u001b[0;34m\u001b[0m\u001b[0;34m\u001b[0m\u001b[0m\n\u001b[0m\u001b[1;32m   1121\u001b[0m             \u001b[0mself\u001b[0m\u001b[0;34m.\u001b[0m\u001b[0mstopped\u001b[0m \u001b[0;34m=\u001b[0m \u001b[0;32mTrue\u001b[0m\u001b[0;34m\u001b[0m\u001b[0;34m\u001b[0m\u001b[0m\n\u001b[1;32m   1122\u001b[0m \u001b[0;34m\u001b[0m\u001b[0m\n",
      "\u001b[0;32m/home1/dscho/anaconda3/envs/memlab/lib/python3.6/site-packages/cluster_helper/cluster.py\u001b[0m in \u001b[0;36mdelete_profile\u001b[0;34m(profile)\u001b[0m\n\u001b[1;32m   1234\u001b[0m         \u001b[0;32mwhile\u001b[0m \u001b[0;32mTrue\u001b[0m\u001b[0;34m:\u001b[0m\u001b[0;34m\u001b[0m\u001b[0;34m\u001b[0m\u001b[0m\n\u001b[1;32m   1235\u001b[0m             \u001b[0;32mtry\u001b[0m\u001b[0;34m:\u001b[0m\u001b[0;34m\u001b[0m\u001b[0;34m\u001b[0m\u001b[0m\n\u001b[0;32m-> 1236\u001b[0;31m                 \u001b[0mshutil\u001b[0m\u001b[0;34m.\u001b[0m\u001b[0mrmtree\u001b[0m\u001b[0;34m(\u001b[0m\u001b[0mdir_to_remove\u001b[0m\u001b[0;34m)\u001b[0m\u001b[0;34m\u001b[0m\u001b[0;34m\u001b[0m\u001b[0m\n\u001b[0m\u001b[1;32m   1237\u001b[0m                 \u001b[0;32mbreak\u001b[0m\u001b[0;34m\u001b[0m\u001b[0;34m\u001b[0m\u001b[0m\n\u001b[1;32m   1238\u001b[0m             \u001b[0;32mexcept\u001b[0m \u001b[0mOSError\u001b[0m\u001b[0;34m:\u001b[0m\u001b[0;34m\u001b[0m\u001b[0;34m\u001b[0m\u001b[0m\n",
      "\u001b[0;32m/home1/dscho/anaconda3/envs/memlab/lib/python3.6/shutil.py\u001b[0m in \u001b[0;36mrmtree\u001b[0;34m(path, ignore_errors, onerror)\u001b[0m\n\u001b[1;32m    484\u001b[0m         \u001b[0;32mtry\u001b[0m\u001b[0;34m:\u001b[0m\u001b[0;34m\u001b[0m\u001b[0;34m\u001b[0m\u001b[0m\n\u001b[1;32m    485\u001b[0m             \u001b[0;32mif\u001b[0m \u001b[0mos\u001b[0m\u001b[0;34m.\u001b[0m\u001b[0mpath\u001b[0m\u001b[0;34m.\u001b[0m\u001b[0msamestat\u001b[0m\u001b[0;34m(\u001b[0m\u001b[0morig_st\u001b[0m\u001b[0;34m,\u001b[0m \u001b[0mos\u001b[0m\u001b[0;34m.\u001b[0m\u001b[0mfstat\u001b[0m\u001b[0;34m(\u001b[0m\u001b[0mfd\u001b[0m\u001b[0;34m)\u001b[0m\u001b[0;34m)\u001b[0m\u001b[0;34m:\u001b[0m\u001b[0;34m\u001b[0m\u001b[0;34m\u001b[0m\u001b[0m\n\u001b[0;32m--> 486\u001b[0;31m                 \u001b[0m_rmtree_safe_fd\u001b[0m\u001b[0;34m(\u001b[0m\u001b[0mfd\u001b[0m\u001b[0;34m,\u001b[0m \u001b[0mpath\u001b[0m\u001b[0;34m,\u001b[0m \u001b[0monerror\u001b[0m\u001b[0;34m)\u001b[0m\u001b[0;34m\u001b[0m\u001b[0;34m\u001b[0m\u001b[0m\n\u001b[0m\u001b[1;32m    487\u001b[0m                 \u001b[0;32mtry\u001b[0m\u001b[0;34m:\u001b[0m\u001b[0;34m\u001b[0m\u001b[0;34m\u001b[0m\u001b[0m\n\u001b[1;32m    488\u001b[0m                     \u001b[0mos\u001b[0m\u001b[0;34m.\u001b[0m\u001b[0mrmdir\u001b[0m\u001b[0;34m(\u001b[0m\u001b[0mpath\u001b[0m\u001b[0;34m)\u001b[0m\u001b[0;34m\u001b[0m\u001b[0;34m\u001b[0m\u001b[0m\n",
      "\u001b[0;32m/home1/dscho/anaconda3/envs/memlab/lib/python3.6/shutil.py\u001b[0m in \u001b[0;36m_rmtree_safe_fd\u001b[0;34m(topfd, path, onerror)\u001b[0m\n\u001b[1;32m    422\u001b[0m                 \u001b[0;32mtry\u001b[0m\u001b[0;34m:\u001b[0m\u001b[0;34m\u001b[0m\u001b[0;34m\u001b[0m\u001b[0m\n\u001b[1;32m    423\u001b[0m                     \u001b[0;32mif\u001b[0m \u001b[0mos\u001b[0m\u001b[0;34m.\u001b[0m\u001b[0mpath\u001b[0m\u001b[0;34m.\u001b[0m\u001b[0msamestat\u001b[0m\u001b[0;34m(\u001b[0m\u001b[0morig_st\u001b[0m\u001b[0;34m,\u001b[0m \u001b[0mos\u001b[0m\u001b[0;34m.\u001b[0m\u001b[0mfstat\u001b[0m\u001b[0;34m(\u001b[0m\u001b[0mdirfd\u001b[0m\u001b[0;34m)\u001b[0m\u001b[0;34m)\u001b[0m\u001b[0;34m:\u001b[0m\u001b[0;34m\u001b[0m\u001b[0;34m\u001b[0m\u001b[0m\n\u001b[0;32m--> 424\u001b[0;31m                         \u001b[0m_rmtree_safe_fd\u001b[0m\u001b[0;34m(\u001b[0m\u001b[0mdirfd\u001b[0m\u001b[0;34m,\u001b[0m \u001b[0mfullname\u001b[0m\u001b[0;34m,\u001b[0m \u001b[0monerror\u001b[0m\u001b[0;34m)\u001b[0m\u001b[0;34m\u001b[0m\u001b[0;34m\u001b[0m\u001b[0m\n\u001b[0m\u001b[1;32m    425\u001b[0m                         \u001b[0;32mtry\u001b[0m\u001b[0;34m:\u001b[0m\u001b[0;34m\u001b[0m\u001b[0;34m\u001b[0m\u001b[0m\n\u001b[1;32m    426\u001b[0m                             \u001b[0mos\u001b[0m\u001b[0;34m.\u001b[0m\u001b[0mrmdir\u001b[0m\u001b[0;34m(\u001b[0m\u001b[0mname\u001b[0m\u001b[0;34m,\u001b[0m \u001b[0mdir_fd\u001b[0m\u001b[0;34m=\u001b[0m\u001b[0mtopfd\u001b[0m\u001b[0;34m)\u001b[0m\u001b[0;34m\u001b[0m\u001b[0;34m\u001b[0m\u001b[0m\n",
      "\u001b[0;32m/home1/dscho/anaconda3/envs/memlab/lib/python3.6/shutil.py\u001b[0m in \u001b[0;36m_rmtree_safe_fd\u001b[0;34m(topfd, path, onerror)\u001b[0m\n\u001b[1;32m    442\u001b[0m                 \u001b[0mos\u001b[0m\u001b[0;34m.\u001b[0m\u001b[0munlink\u001b[0m\u001b[0;34m(\u001b[0m\u001b[0mname\u001b[0m\u001b[0;34m,\u001b[0m \u001b[0mdir_fd\u001b[0m\u001b[0;34m=\u001b[0m\u001b[0mtopfd\u001b[0m\u001b[0;34m)\u001b[0m\u001b[0;34m\u001b[0m\u001b[0;34m\u001b[0m\u001b[0m\n\u001b[1;32m    443\u001b[0m             \u001b[0;32mexcept\u001b[0m \u001b[0mOSError\u001b[0m\u001b[0;34m:\u001b[0m\u001b[0;34m\u001b[0m\u001b[0;34m\u001b[0m\u001b[0m\n\u001b[0;32m--> 444\u001b[0;31m                 \u001b[0monerror\u001b[0m\u001b[0;34m(\u001b[0m\u001b[0mos\u001b[0m\u001b[0;34m.\u001b[0m\u001b[0munlink\u001b[0m\u001b[0;34m,\u001b[0m \u001b[0mfullname\u001b[0m\u001b[0;34m,\u001b[0m \u001b[0msys\u001b[0m\u001b[0;34m.\u001b[0m\u001b[0mexc_info\u001b[0m\u001b[0;34m(\u001b[0m\u001b[0;34m)\u001b[0m\u001b[0;34m)\u001b[0m\u001b[0;34m\u001b[0m\u001b[0;34m\u001b[0m\u001b[0m\n\u001b[0m\u001b[1;32m    445\u001b[0m \u001b[0;34m\u001b[0m\u001b[0m\n\u001b[1;32m    446\u001b[0m _use_fd_functions = ({os.open, os.stat, os.unlink, os.rmdir} <=\n",
      "\u001b[0;32m/home1/dscho/anaconda3/envs/memlab/lib/python3.6/shutil.py\u001b[0m in \u001b[0;36m_rmtree_safe_fd\u001b[0;34m(topfd, path, onerror)\u001b[0m\n\u001b[1;32m    440\u001b[0m         \u001b[0;32melse\u001b[0m\u001b[0;34m:\u001b[0m\u001b[0;34m\u001b[0m\u001b[0;34m\u001b[0m\u001b[0m\n\u001b[1;32m    441\u001b[0m             \u001b[0;32mtry\u001b[0m\u001b[0;34m:\u001b[0m\u001b[0;34m\u001b[0m\u001b[0;34m\u001b[0m\u001b[0m\n\u001b[0;32m--> 442\u001b[0;31m                 \u001b[0mos\u001b[0m\u001b[0;34m.\u001b[0m\u001b[0munlink\u001b[0m\u001b[0;34m(\u001b[0m\u001b[0mname\u001b[0m\u001b[0;34m,\u001b[0m \u001b[0mdir_fd\u001b[0m\u001b[0;34m=\u001b[0m\u001b[0mtopfd\u001b[0m\u001b[0;34m)\u001b[0m\u001b[0;34m\u001b[0m\u001b[0;34m\u001b[0m\u001b[0m\n\u001b[0m\u001b[1;32m    443\u001b[0m             \u001b[0;32mexcept\u001b[0m \u001b[0mOSError\u001b[0m\u001b[0;34m:\u001b[0m\u001b[0;34m\u001b[0m\u001b[0;34m\u001b[0m\u001b[0m\n\u001b[1;32m    444\u001b[0m                 \u001b[0monerror\u001b[0m\u001b[0;34m(\u001b[0m\u001b[0mos\u001b[0m\u001b[0;34m.\u001b[0m\u001b[0munlink\u001b[0m\u001b[0;34m,\u001b[0m \u001b[0mfullname\u001b[0m\u001b[0;34m,\u001b[0m \u001b[0msys\u001b[0m\u001b[0;34m.\u001b[0m\u001b[0mexc_info\u001b[0m\u001b[0;34m(\u001b[0m\u001b[0;34m)\u001b[0m\u001b[0;34m)\u001b[0m\u001b[0;34m\u001b[0m\u001b[0;34m\u001b[0m\u001b[0m\n",
      "\u001b[0;31mOSError\u001b[0m: [Errno 16] Device or resource busy: '.nfs0000002b0000b4c500000713'"
     ]
    }
   ],
   "source": [
    "# Parallel processing\n",
    "print('Running code for {} jobs.\\n'.format(len(info)))\n",
    "with cluster_view(scheduler=\"sge\", queue=\"RAM.q\", num_jobs=min(250, len(info)), cores_per_job=1) as view: \n",
    "    output = view.map(calc_power_by_pl_fr_unit_to_target_region2_parallel, info)"
   ]
  },
  {
   "cell_type": "markdown",
   "metadata": {},
   "source": [
    "### calc_hpcfr_by_pl_fr_unit_to_target_region_parallel()"
   ]
  },
  {
   "cell_type": "code",
   "execution_count": null,
   "metadata": {},
   "outputs": [],
   "source": [
    "input_files = glob('/scratch/dscho/unit_activity_and_hpc_theta/data/crosselec_phase_locking/phase_locking/unit_to_region_for_power/sig/*.pkl')\n",
    "info = [dio.open_pickle(f) for f in input_files]\n",
    "print('{} jobs'.format(len(info)))"
   ]
  },
  {
   "cell_type": "code",
   "execution_count": 11,
   "metadata": {},
   "outputs": [],
   "source": [
    "# Parallel processing\n",
    "print('Running code for {} jobs.\\n'.format(len(info)))\n",
    "with cluster_view(scheduler=\"sge\", queue=\"RAM.q\", num_jobs=min(300, len(info)), cores_per_job=1) as view: \n",
    "    output = view.map(calc_hpcfr_by_pl_fr_unit_to_target_region_parallel, info)"
   ]
  },
  {
   "cell_type": "markdown",
   "metadata": {},
   "source": [
    "### Other"
   ]
  },
  {
   "cell_type": "code",
   "execution_count": 127,
   "metadata": {},
   "outputs": [
    {
     "name": "stdout",
     "output_type": "stream",
     "text": [
      "947/948 files still to run\n"
     ]
    }
   ],
   "source": [
    "# Figure out which LFP channel pairs we still need to run.\n",
    "input_dir = '/scratch/dscho/unit_activity_and_hpc_theta/data/lfp_plvs'\n",
    "fpath_list = glob(os.path.join(input_dir, 'metadata', 'get_plv_df_groups', '*region*.pkl'))\n",
    "fpath_list_ = []\n",
    "for inputf in fpath_list:\n",
    "    vals = os.path.basename(inputf).split('-')\n",
    "    subj_sess = vals[1]\n",
    "    unit = vals[2][5:]\n",
    "    roi = vals[4][7:-4]\n",
    "    outputf = os.path.join(input_dir, 'plvs', 'sta',\n",
    "                           'STA-lfp_plvs-{}-unit_{}-to-region_{}-500Hz-notch60_120Hz-nospikeinterp-5cycles-16log10freqs_0.5_to_16.0Hz.pkl'\n",
    "                           .format(subj_sess, unit, roi))\n",
    "    if not os.path.exists(outputf):\n",
    "        fpath_list_.append(inputf)\n",
    "\n",
    "print('{}/{} files still to run'.format(len(fpath_list_), len(fpath_list)))"
   ]
  },
  {
   "cell_type": "code",
   "execution_count": 17,
   "metadata": {},
   "outputs": [],
   "source": [
    "# Parallel processing\n",
    "print('Running code for {} jobs.\\n'.format(len(fpath_list_)))\n",
    "with cluster_view(scheduler=\"sge\", queue=\"RAM.q\", num_jobs=100) as view: \n",
    "    output = view.map(get_epoch_plvs_sta_parallel, fpath_list_)"
   ]
  },
  {
   "cell_type": "code",
   "execution_count": null,
   "metadata": {},
   "outputs": [],
   "source": []
  }
 ],
 "metadata": {
  "kernelspec": {
   "display_name": "memlab",
   "language": "python",
   "name": "memlab"
  },
  "language_info": {
   "codemirror_mode": {
    "name": "ipython",
    "version": 3
   },
   "file_extension": ".py",
   "mimetype": "text/x-python",
   "name": "python",
   "nbconvert_exporter": "python",
   "pygments_lexer": "ipython3",
   "version": "3.6.9"
  }
 },
 "nbformat": 4,
 "nbformat_minor": 4
}

{
 "cells": [
  {
   "cell_type": "code",
   "execution_count": 5,
   "metadata": {},
   "outputs": [],
   "source": [
    "import os\n",
    "import glob"
   ]
  },
  {
   "cell_type": "code",
   "execution_count": 32,
   "metadata": {},
   "outputs": [
    {
     "data": {
      "text/plain": [
       "'R1313J'"
      ]
     },
     "execution_count": 32,
     "metadata": {},
     "output_type": "execute_result"
    }
   ],
   "source": [
    "'/data/eeg/R1313J'.split('/')[-1]\n",
    "os.path.basename('/data/eeg/R1313J')"
   ]
  },
  {
   "cell_type": "code",
   "execution_count": 33,
   "metadata": {},
   "outputs": [],
   "source": [
    "def globr(search_dir, search_terms, return_type='all'):\n",
    "    \"\"\"Recursively search a directory for 1+ glob strings.\n",
    "    \n",
    "    Parameters\n",
    "    ----------\n",
    "    search_dir : str\n",
    "        Directory that will be recursively searched. \n",
    "    search_terms : list\n",
    "        List of 1+ glob strings to iterate over.\n",
    "    return_type : str, optional\n",
    "        Default returns both file and dir matches.\n",
    "        'f' returns files only, 'd' returns directories only.\n",
    "        \n",
    "    Returns\n",
    "    -------\n",
    "    dict\n",
    "        Keys are the search terms that were passed as inputs.\n",
    "        Values are lists of file paths that match each search term, \n",
    "        respectively.\n",
    "        \n",
    "    \"\"\"\n",
    "    output = {}\n",
    "    for search_term in search_terms:\n",
    "        hits = glob.glob(os.path.join(search_dir, '**', search_term), recursive=True)\n",
    "        if return_type[0] == 'f':\n",
    "            output[search_term] = [f for f in hits if os.path.isfile(f)]\n",
    "        elif return_type[0] == 'd':\n",
    "            output[search_term] = [f for f in hits if os.path.isdir(f)]\n",
    "        else:\n",
    "            output[search_term] = hits\n",
    "    return output"
   ]
  },
  {
   "cell_type": "code",
   "execution_count": 34,
   "metadata": {},
   "outputs": [],
   "source": [
    "# Recursively search subj dirs in /data/eeg for dirs and \n",
    "# files that might contain micro EEG data.\n",
    "data_dir = '/data/eeg'\n",
    "subj_dirs = [d for d in glob.glob(os.path.join(data_dir, '*')) if os.path.isdir(d)]\n",
    "dir_search_terms = ['*micro*', '*npt*', '*nls*', '*spikes*', '*wave*']\n",
    "file_search_terms = ['*.ns*', '*.ncs', '*.nlx', '*.emg']\n",
    "search_results = {}\n",
    "for subj_dir in subj_dirs:\n",
    "    subj = os.path.basename(subj_dir)\n",
    "    dir_matches = globr(subj_dir, dir_search_terms, 'd')\n",
    "    file_matches = globr(subj_dir, file_search_terms, 'f')\n",
    "    search_results[subj] = {'dirs': dir_matches, 'files': file_matches}"
   ]
  },
  {
   "cell_type": "code",
   "execution_count": 39,
   "metadata": {},
   "outputs": [
    {
     "data": {
      "text/plain": [
       "dict_keys(['BW001', 'BW002', 'BW003', 'BW004', 'BW006', 'BW009', 'BW012', 'BW013', 'BW014', 'BW015', 'CH001', 'CH002', 'CH003', 'CH004', 'CH005', 'CH006', 'CH007', 'CH008', 'CH009', 'CH010', 'CH011', 'CH012', 'CH013', 'CH014', 'CH015', 'CH016', 'CH017', 'CH018', 'CH019', 'CH020', 'CH021', 'CH022', 'CH023', 'CH024', 'CH025', 'CH040', 'CH041', 'CH042', 'CH043', 'CH044', 'CH045', 'CH046', 'CH048', 'CH050', 'CH055', 'CH056', 'CH057', 'CH058', 'CH061', 'FR002', 'FR003', 'FR006', 'FR011', 'FR012', 'FR013', 'FR014', 'FR015', 'FR016', 'FR017', 'FR018', 'FR019', 'FR020', 'FR021', 'FR025', 'FR026', 'FR027', 'FR028', 'FR029', 'FR030', 'FR032', 'FR037', 'FR038', 'FR040', 'FR050', 'FR060', 'FR070', 'FR080', 'FR090', 'FR091', 'FR100', 'FR110', 'FR120', 'FR121', 'FR130', 'FR140', 'FR142', 'FR143', 'FR144', 'FR150', 'FR160', 'FR170', 'FR180', 'FR190', 'FR191', 'FR192', 'FR195', 'FR200', 'FR210', 'FR220', 'FR230', 'FR240', 'FR250', 'FZ001', 'FZ002', 'FZ003', 'FZ004', 'FZ005', 'FZ006', 'FZ007', 'FZ008', 'FZ009', 'NIH001', 'NIH003', 'NIH004', 'NIH005', 'NIH006', 'NIH007', 'NIH009', 'NIH011', 'NIH028', 'R1001P', 'R1002P', 'R1003P', 'R1004D', 'R1005P', 'R1006P', 'R1006P_1', 'R1007D', 'R1008J', 'R1009W', 'R1010J', 'R1011P', 'R1012P', 'R1013E', 'R1013E_1', 'R1014D', 'R1015J', 'R1016M', 'R1017J', 'R1018P', 'R1018P_1', 'R1019J', 'R1020J', 'R1021D', 'R1022J', 'R1023J', 'R1024E', 'R1024E_1', 'R1024E_2', 'R1026D', 'R1027J', 'R1028M', 'R1029W', 'R1030J', 'R1031M', 'R1032D', 'R1033D', 'R1035M', 'R1036M', 'R2001P', 'R2001P_1', 'R2002P', 'R2002P_1', 'R2003P', 'R2003P_1', 'R2004P', 'R2004P_1', 'R2005P', 'R2006P', 'TJ001', 'TJ075', 'TJ003', 'TJ004', 'TJ005', 'TJ005_1', 'TJ006', 'TJ007', 'TJ008', 'CUCX2', 'TJ010', 'TJ011', 'TJ012', 'TJ013', 'TJ014', 'TJ015', 'TJ016', 'TJ017', 'TJ018', 'TJ018_1', 'TJ018_2', 'TJ019', 'TJ020', 'TJ021', 'TJ022', 'TJ023', 'TJ024', 'TJ025', 'TJ027', 'TJ028', 'TJ029', 'TJ030', 'TJ031', 'TJ032', 'TJ033', 'TJ034', 'TJ035_1', 'TJ036', 'TJ037_1', 'TJ038', 'TJ038_1', 'TJ039', 'TJ039_1', 'TJ039_2', 'TJ040', 'TJ040_1', 'TJ041', 'TJ041_1', 'TJ041_2', 'TJ042', 'TJ043', 'TJ044', 'TJ045', 'TJ045_1', 'TJ046', 'TJ046_1', 'TJ047', 'TJ048', 'TJ049', 'TJ050', 'TJ051', 'TJ052', 'TJ052_old', 'TJ053', 'TJ053_1', 'TJ053_2', 'TJ053_3', 'TJ054', 'TJ055', 'TJ056', 'TJ056_1', 'TJ057', 'TJ057_1', 'TJ058', 'TJ058_1', 'TJ059', 'TJ060', 'TJ061', 'TJ061_1', 'TJ062', 'TJ062_1', 'TJ062_2', 'TJ064', 'TJ065', 'TJ066', 'TJ066_1', 'UT0SQ', 'TJ068', 'TJ069', 'TJ069_1', 'TJ069_2', 'TJ070', 'TJ071', 'TJ072', 'TJ073', 'TJ074', 'TJ074_1', 'R1181E', 'db', 'TJ076', 'TJ077', 'TJ078', 'TJ078_1', 'TJ079', 'TJ080', 'TJ081', 'TJ082', 'TJ082_joel', 'TJ083', 'TJ083_joel', 'TJ084', 'TJ085', 'U353', 'U354', 'U355', 'U357', 'U358', 'U359', 'U360', 'U362', 'U364', 'U365', 'U373', 'UP001', 'UP020', 'UP021', 'UP022', 'UP023', 'UP024', 'UP025', 'UP026', 'UP028', 'UP029', 'UP032', 'UP033', 'UP034', 'UP035', 'UP036', 'UP037', 'UP038', 'UP039', 'UP040', 'UP041', 'UP042', 'UP043', 'UP044', 'UP044_1', 'UP045', 'UP046', 'UP046_backup', 'UP047', 'UP048', 'ecogReports', 'freesurfer', 'mayo_RecOnly', 'modelingReports', 'scalp', '~R1013E_2', 'BW007', 'BW022', 'BW023', 'BW024', 'BW025', 'CABG128', 'CABG131', 'db2', 'CH059', 'CH060', 'CH063', 'CH064', 'CH065', 'CH066', 'CH067', 'CH068', 'CH069', 'CP001', 'CP002', 'CP003', 'CP004', 'CP005', 'CP006', 'E_M_not_tal', 'FR11', 'FR12', 'FR13', 'FR14', 'FR15', 'FR17', 'FR18', 'FR19', 'FR2', 'FR21', 'FR260', 'FR270', 'FR280', 'FR290', 'FR3', 'FR320', 'FR330', 'FR340', 'FR350', 'FR360', 'FR380', 'FR390', 'FR391', 'FR400', 'FR410', 'FR420', 'FR421', 'FR422', 'FR423', 'FR423raw', 'UT007', 'FR425', 'FR426', 'FR427', 'FR428', 'FR429', 'FR430', 'FR432', 'FR433', 'FR434', 'FR435', 'FR436', 'FR437', 'FR438', 'FR439', 'FR6', 'FR424', 'JH001', 'McCarthy', 'NIH013', 'Seelig.Talairach.files', 'TJ017_OLD', 'TJ035', 'TJ037', 'TJ064_1', 'TJ066_mock', 'UP002', 'UP003', 'UP003_1', 'UP004', 'UP005', 'UP006', 'UP007', 'UP008', 'UP009', 'UP010', 'UP011', 'UP012', 'UP013', 'UP014', 'UP015', 'UP016', 'UP017', 'UP018', 'UP019', 'UP020_pre', 'UP020a', 'UP021_pre', 'UT006', 'TJ088', 'UT008', 'XX', 'aTALALLjer.out.of.date', 'appl', 'clusterTables', 'curran', 'data', 'data_from_hebb', 'dboy', 'eeg.noreref', 'events', 'fernandez', 'freiburg', 'fromDVD', 'group0', 'group1', 'group2', 'group3', 'group4', 'hospital_table', 'iCatFR', 'pyFR', 'reparsing', 'reports', 'seizures', 'tal', 'tempmove', '~R1008J', 'R1049J', 'R1061T', 'R1054J', 'TJ086', 'R1062J', 'R1063C', 'R1063C_1', 'R1051J', 'R1069M', 'R1052E', 'R1070T', 'R1050M', 'R1064E', 'R1055J', 'TJ087', 'R1052E_1', 'R1071E', 'R1064E_1', 'R1065J', 'R1056M', 'UT004', 'R1057E', 'UT005', 'R1066P', 'R1057E_1', 'UT009', 'R1066P_1', 'R1058M', 'UT010', 'R1059J', 'UT011', 'R1059J_1', 'eeg', 'R1052E_2', 'R1073J', 'R1059J_2', 'R1067P', 'R1068J', 'R1060M', 'R1279P_1', 'R9999J', 'CABG061', 'CABG064', 'CABG065', 'CABG067', 'CABG068', 'CABG070', 'CABG071', 'CABG073', 'CABG074', 'CABG075', 'CABG076', 'CABG077', 'CABG078', 'CABG079', 'CABG080', 'CABG081', 'CABG082', 'CABG084', 'CABG086', 'CABG087', 'CABG088', 'CABG089', 'CABG090', 'CABG091', 'CABG092', 'CABG093', 'CABG094', 'CABG095', 'CABG096', 'CABG097', 'CABG098', 'CABG099', 'CABG100', 'CABG101', 'CABG102', 'CABG103', 'CABG104', 'CABG105', 'CABG106', 'CABG107', 'CABG108', 'CABG109', 'CABG110', 'CABG111', 'CABG112', 'CABG113', 'CABG114', 'CABG115', 'CABG116', 'CABG117', 'CABG118', 'CABG119', 'CABG120', 'CABG121', 'CABG122', 'CABG123', 'CABG124', 'CABG126', 'CABG127', 'CABG129', 'CABG130', 'KHtest', 'R1025P', 'R1034D', 'R1037D', 'R1038M', 'R1039M', 'R1040D', 'R1041M', 'R1042M', 'R1044J', 'R1045E', 'R1047D', 'R1048E', 'R1048E_1', 'R1053M', 'R1074M', 'R1075J', 'R1077T', 'R1078N', 'R1079E', 'R1080E', 'R1081J', 'R1082N', 'R1156D_1', 'R1083J', 'R1083J_1', 'R1084T', 'R1085C', 'R1086M', 'R1087N', 'R1088E', 'R1089P', 'R1090C', 'R1091N', 'R1092J', 'R1092J_1', 'R1092J_2', 'R1092J_3', 'R1093J', 'R1093J_1', 'R1094T', 'R1095N', 'R1096E', 'R1097N', 'R1101T', 'R1102P', 'R1104D', 'R1105E', 'R1106M', 'R1107J', 'R1108J', 'R1109N', 'R1110M', 'R1112M', 'R1113T', 'R1114C', 'R1115T', 'R1997X', 'R1998X', 'R1177M', 'R2005P_1', 'R2006P_1', 'R2007P', 'R2007P_1', 'R2008P', 'R2008P_1', 'R2009P', 'R2009P_1', 'R2010P', 'R2010P_1', 'R2011P', 'R2011P_1', 'R2012P', 'R2012P_1', 'R2013P', 'R2013P_1', 'R2014P', 'R2015P', 'R2015P_1', 'R2016P', 'ens-val', 'R1284N', 'R1286J', 'R1285C', 'R1263C', 'R1289C', 'UT007_1', 'UT008_1', 'UT009a', '~R1061T', '~~R1061T', 'Fr435_1', 'Jeff_DBS_test', 'R1156D', 'R1176M', 'eeg.reref', '~CABG128', '~CABG131', 'R1117J', 'R1116D', 'R1100D', 'R1118N', 'R1120E', 'R1121M', 'R1118N_1', 'R1098D', 'R1175N', 'R1098D_joel', 'R1108J_1', 'Grass_Splitter', 'R1123C', 'R1125T', 'R1182C', 'R1122E', 'R1124J', 'R1128E', 'R1124J_1', 'R1130M', 'R1999X', 'R1129D', 'R1132C', 'R1111M', 'R1288P', 'R1134T', 'R1131M', 'R1135E', 'R1136N', 'R1137E', 'R1133C', 'R1127P', 'R1178P', 'R1138T', 'R1139C', 'R1140E', 'BAD_R1127P_1', 'R1127P_2', 'R1138T_1', 'R1141T', 'R1135E_1', 'R1142N', 'R1143E', 'R1144E', 'R1145J', 'R1119P', 'R1145J_1', 'R1127P_1', 'R1146E', 'R1149N', 'R1150J', 'R1147P', 'R1149N_1', 'R1151E', 'R1148P', 'R1153T', 'R1152C', 'R1155D', 'R1157C', 'R1158T', 'R1155D_1', 'R1159P', 'R1076D', 'R1155D_2', 'R1160C', 'R1175N_1', 'R1161E', 'R1163T', 'R1162N', 'R1290M', 'R1166D', 'R1167M', 'R1164E', 'R1168T', 'R1169P', 'R1170J', 'R1171M', 'R1170J_1', 'R1171M_1', 'R1172E', 'R1154D', 'R1173J', 'R1170J_2', 'R1174T', 'FR459', 'R1179D', 'R1180C', 'R1184M', 'R1185N', 'R1186P', 'R1188C', 'R1168P', 'R1183T', 'R1084M', 'R1173T', 'R1190P', 'R1308T', 'R1191J', 'R1192C', 'R1185N_1', 'R9999Z', 'R1187P', 'R1193T', 'R1194E', 'R1191J_1', 'R1195E', 'R1189M', 'R1197C', 'R1196N', 'R1198M', 'R1199P', 'R1200T', 'R1201P', 'R1203T', 'R1202M', 'R1201P_1', 'R1205J', 'R1206J', 'R1207J', 'R1072J', 'R1204T', 'R1208C', 'R1209E', 'R1280C', 'R1210E', 'R1213J', 'R1028C', 'R1201E', 'R1214M', 'R1215M', 'R1309M', 'R1217T', 'R1216E', 'R1310J', 'R1219C', 'R1218C', 'R1220C', 'R1222M', 'R1221P', 'R1212P', 'R1223E', 'R1216E_1', 'R1224M', 'R1311T', 'Quantum_Splitter', 'R1275D', 'R1307N_1_copy', 'R1227T', 'R1228M', 'export_db', 'export_db2', 'R1307N_1', 'R1229M', 'R1231M', 'R1225P', 'subject_db', 'R1230J', 'subject_db3', 'R1306E', 'R1310J_1', 'R1233E', 'R1305C', 'R1292E', 'subjectdb', 'old_protocols', 'protocols', 'R1232N', 'R1233M', 'R1312N', 'R1234D', 'R1235E', 'db_export', 'R1236J', 'R1237C', 'R1999L', 'R1238N', 'R1239E', 'R1236P', 'R1240T', 'protocols_old', 'R1242E', 'R1243T', 'R1226D', 'R1241J', 'R1244J', 'R1246P', 'R1247P', 'R1250N', 'R1249T', 'R1247J', 'R1251M', 'R1253C', 'R1252E', 'R1248P', 'R1247P_1', 'R1254E', 'R1255C', 'R1248P_1', 'R1256P', 'R1257P', 'R9999Y', 'R1258T', 'R1260D', 'R1259E', 'R1262M', 'R1261P', 'R1245E', 'R1264P', 'R1261P_2', 'R1266J', 'R1268T', 'R1267J', 'R1265P', 'R1269E', 'R1271P', 'R1270J', 'R1272C', 'R1273D', 'R1274T', 'R1277J', 'scratch', 'R1269E_1', 'R1313J', 'R1278E', 'R1279P', 'R1278E_1', 'R1277J_1', 'R1276D', 'R1283T', 'R1282C', 'R1278E_2', 'R1281E', 'R0000X', 'R1293P', 'R1294C', 'R1297T', 'R1291M', 'R1295E', 'R1291M_1', 'R1298E', 'R1299T', 'R1296P', 'R1300C', 'R1302M', 'R1303E', 'R1280E', 'R0123X', 'R1304N', 'R1307N', 'UT048', 'R1314C', 'R1316T', 'R1317D', 'R1315T', 'R1318N', 'R1319T', 'R1318N_1', 'R1320D', 'R1322C', 'R1323T', 'R1321M', 'R1324M', 'R1327T', 'R1326J', 'R1328E', 'R1325C', 'R1329T', 'R1331T', 'R1332M', 'R1333N', 'R1334T', 'R1335E', 'R1330D', 'R1336T', 'R1338T', 'R1337E', 'R1208C_1', 'FR441', 'FR442', 'R1339D', 'FR443', 'R1341T', 'R1340C', 'FR_2017', 'R1342M', 'FR450', 'FR452', 'FR453', 'R1344E', 'R1346T', 'R1348J', 'R1343J', 'R1349T', 'R1345D', 'R1352C', 'R1351M', 'R1353N', 'R1355T', 'R1357M', 'R1356C', 'R1354E', 'R1358T', 'R1350D', 'R1360E', 'R1354E_1', 'R1359N', 'R1362E', 'R1361C', 'R1363T', 'FR454', 'R1364C', 'R1365N', 'R1368T', 'R1366J', 'R1328E_1', 'R1369M', 'R1370E', 'R1347D', 'R1367D', 'R1371M', 'R1372C', 'R1373T', 'R1374T', 'FR455', 'FR456', 'R1375C', 'R1377M', 'R1378T', 'R1379E', 'R1381T', 'R1382T', 'R1383J', 'R1384J', 'R1385E', 'R1386T', 'R1376D', 'CUBF37', 'R1387E', 'R1390M', 'R1388T', 'R1380D', 'R1391T', 'R1392N', 'R1393T', 'LFSleep', 'R1394E', 'R1389J', 'R1395M', 'R1396T', 'R1394E_1', 'R1387E_1', 'R1400N', 'R1397D', 'R1401J', 'R1402E', 'R1403N', 'FR457', 'R1404E', 'R1406M', 'R1398J', 'R1405E', 'R1407M', 'R1408N', 'R1405E_1', 'FR458', 'R1409D', 'R1410E', 'R1412M', 'FR451', 'CUBF39', 'R1415T', 'R1414E', 'R1413D', 'R1416T', 'R1417T', 'R1419T', 'R1420T', 'R1421M', 'R1411J', 'R1423E', 'R1422T', 'CUBF40', 'R1424E', 'R1043P', 'R1426N', 'R1427T', 'R1428T', 'R1430M', 'R1425D', 'FR460'])"
      ]
     },
     "execution_count": 39,
     "metadata": {},
     "output_type": "execute_result"
    }
   ],
   "source": [
    "search_results.keys()"
   ]
  }
 ],
 "metadata": {
  "kernelspec": {
   "display_name": "memlab",
   "language": "python",
   "name": "memlab"
  },
  "language_info": {
   "codemirror_mode": {
    "name": "ipython",
    "version": 3
   },
   "file_extension": ".py",
   "mimetype": "text/x-python",
   "name": "python",
   "nbconvert_exporter": "python",
   "pygments_lexer": "ipython3",
   "version": "3.6.6"
  }
 },
 "nbformat": 4,
 "nbformat_minor": 2
}
